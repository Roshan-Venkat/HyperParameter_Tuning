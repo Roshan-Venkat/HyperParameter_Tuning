{
  "nbformat": 4,
  "nbformat_minor": 0,
  "metadata": {
    "colab": {
      "name": "MLFlow_HyperParameter_tuning.ipynb",
      "provenance": [],
      "collapsed_sections": []
    },
    "kernelspec": {
      "name": "python3",
      "display_name": "Python 3"
    },
    "language_info": {
      "name": "python"
    },
    "widgets": {
      "application/vnd.jupyter.widget-state+json": {
        "f9baa82551834306b70bf622b8973155": {
          "model_module": "@jupyter-widgets/controls",
          "model_name": "HBoxModel",
          "model_module_version": "1.5.0",
          "state": {
            "_view_name": "HBoxView",
            "_dom_classes": [],
            "_model_name": "HBoxModel",
            "_view_module": "@jupyter-widgets/controls",
            "_model_module_version": "1.5.0",
            "_view_count": null,
            "_view_module_version": "1.5.0",
            "box_style": "",
            "layout": "IPY_MODEL_8b49d77102844267a71e7f0fd6c982c8",
            "_model_module": "@jupyter-widgets/controls",
            "children": [
              "IPY_MODEL_31a95a489fa2466dbd7cabe75ff700a5",
              "IPY_MODEL_11d3f04f485d4686b3463533aa264b27",
              "IPY_MODEL_926bb5f9587b451f83fe003fb05beca4"
            ]
          }
        },
        "8b49d77102844267a71e7f0fd6c982c8": {
          "model_module": "@jupyter-widgets/base",
          "model_name": "LayoutModel",
          "model_module_version": "1.2.0",
          "state": {
            "_view_name": "LayoutView",
            "grid_template_rows": null,
            "right": null,
            "justify_content": null,
            "_view_module": "@jupyter-widgets/base",
            "overflow": null,
            "_model_module_version": "1.2.0",
            "_view_count": null,
            "flex_flow": null,
            "width": null,
            "min_width": null,
            "border": null,
            "align_items": null,
            "bottom": null,
            "_model_module": "@jupyter-widgets/base",
            "top": null,
            "grid_column": null,
            "overflow_y": null,
            "overflow_x": null,
            "grid_auto_flow": null,
            "grid_area": null,
            "grid_template_columns": null,
            "flex": null,
            "_model_name": "LayoutModel",
            "justify_items": null,
            "grid_row": null,
            "max_height": null,
            "align_content": null,
            "visibility": null,
            "align_self": null,
            "height": null,
            "min_height": null,
            "padding": null,
            "grid_auto_rows": null,
            "grid_gap": null,
            "max_width": null,
            "order": null,
            "_view_module_version": "1.2.0",
            "grid_template_areas": null,
            "object_position": null,
            "object_fit": null,
            "grid_auto_columns": null,
            "margin": null,
            "display": null,
            "left": null
          }
        },
        "31a95a489fa2466dbd7cabe75ff700a5": {
          "model_module": "@jupyter-widgets/controls",
          "model_name": "HTMLModel",
          "model_module_version": "1.5.0",
          "state": {
            "_view_name": "HTMLView",
            "style": "IPY_MODEL_22fac7ee7b494e609f5cfefbb7136665",
            "_dom_classes": [],
            "description": "",
            "_model_name": "HTMLModel",
            "placeholder": "​",
            "_view_module": "@jupyter-widgets/controls",
            "_model_module_version": "1.5.0",
            "value": "",
            "_view_count": null,
            "_view_module_version": "1.5.0",
            "description_tooltip": null,
            "_model_module": "@jupyter-widgets/controls",
            "layout": "IPY_MODEL_392730144b424ab2b8cb754326b88efb"
          }
        },
        "11d3f04f485d4686b3463533aa264b27": {
          "model_module": "@jupyter-widgets/controls",
          "model_name": "FloatProgressModel",
          "model_module_version": "1.5.0",
          "state": {
            "_view_name": "ProgressView",
            "style": "IPY_MODEL_ba8871a7f22f45b48b1fa4d7a7ece5b6",
            "_dom_classes": [],
            "description": "",
            "_model_name": "FloatProgressModel",
            "bar_style": "success",
            "max": 9912422,
            "_view_module": "@jupyter-widgets/controls",
            "_model_module_version": "1.5.0",
            "value": 9912422,
            "_view_count": null,
            "_view_module_version": "1.5.0",
            "orientation": "horizontal",
            "min": 0,
            "description_tooltip": null,
            "_model_module": "@jupyter-widgets/controls",
            "layout": "IPY_MODEL_48bb8de109054bcb806d7aeaf33defa2"
          }
        },
        "926bb5f9587b451f83fe003fb05beca4": {
          "model_module": "@jupyter-widgets/controls",
          "model_name": "HTMLModel",
          "model_module_version": "1.5.0",
          "state": {
            "_view_name": "HTMLView",
            "style": "IPY_MODEL_5ef93620a8884ff7baec157021ebd9cb",
            "_dom_classes": [],
            "description": "",
            "_model_name": "HTMLModel",
            "placeholder": "​",
            "_view_module": "@jupyter-widgets/controls",
            "_model_module_version": "1.5.0",
            "value": " 9913344/? [00:00&lt;00:00, 15585885.13it/s]",
            "_view_count": null,
            "_view_module_version": "1.5.0",
            "description_tooltip": null,
            "_model_module": "@jupyter-widgets/controls",
            "layout": "IPY_MODEL_29161d98b35d4112bb40b05a9c68943e"
          }
        },
        "22fac7ee7b494e609f5cfefbb7136665": {
          "model_module": "@jupyter-widgets/controls",
          "model_name": "DescriptionStyleModel",
          "model_module_version": "1.5.0",
          "state": {
            "_view_name": "StyleView",
            "_model_name": "DescriptionStyleModel",
            "description_width": "",
            "_view_module": "@jupyter-widgets/base",
            "_model_module_version": "1.5.0",
            "_view_count": null,
            "_view_module_version": "1.2.0",
            "_model_module": "@jupyter-widgets/controls"
          }
        },
        "392730144b424ab2b8cb754326b88efb": {
          "model_module": "@jupyter-widgets/base",
          "model_name": "LayoutModel",
          "model_module_version": "1.2.0",
          "state": {
            "_view_name": "LayoutView",
            "grid_template_rows": null,
            "right": null,
            "justify_content": null,
            "_view_module": "@jupyter-widgets/base",
            "overflow": null,
            "_model_module_version": "1.2.0",
            "_view_count": null,
            "flex_flow": null,
            "width": null,
            "min_width": null,
            "border": null,
            "align_items": null,
            "bottom": null,
            "_model_module": "@jupyter-widgets/base",
            "top": null,
            "grid_column": null,
            "overflow_y": null,
            "overflow_x": null,
            "grid_auto_flow": null,
            "grid_area": null,
            "grid_template_columns": null,
            "flex": null,
            "_model_name": "LayoutModel",
            "justify_items": null,
            "grid_row": null,
            "max_height": null,
            "align_content": null,
            "visibility": null,
            "align_self": null,
            "height": null,
            "min_height": null,
            "padding": null,
            "grid_auto_rows": null,
            "grid_gap": null,
            "max_width": null,
            "order": null,
            "_view_module_version": "1.2.0",
            "grid_template_areas": null,
            "object_position": null,
            "object_fit": null,
            "grid_auto_columns": null,
            "margin": null,
            "display": null,
            "left": null
          }
        },
        "ba8871a7f22f45b48b1fa4d7a7ece5b6": {
          "model_module": "@jupyter-widgets/controls",
          "model_name": "ProgressStyleModel",
          "model_module_version": "1.5.0",
          "state": {
            "_view_name": "StyleView",
            "_model_name": "ProgressStyleModel",
            "description_width": "",
            "_view_module": "@jupyter-widgets/base",
            "_model_module_version": "1.5.0",
            "_view_count": null,
            "_view_module_version": "1.2.0",
            "bar_color": null,
            "_model_module": "@jupyter-widgets/controls"
          }
        },
        "48bb8de109054bcb806d7aeaf33defa2": {
          "model_module": "@jupyter-widgets/base",
          "model_name": "LayoutModel",
          "model_module_version": "1.2.0",
          "state": {
            "_view_name": "LayoutView",
            "grid_template_rows": null,
            "right": null,
            "justify_content": null,
            "_view_module": "@jupyter-widgets/base",
            "overflow": null,
            "_model_module_version": "1.2.0",
            "_view_count": null,
            "flex_flow": null,
            "width": null,
            "min_width": null,
            "border": null,
            "align_items": null,
            "bottom": null,
            "_model_module": "@jupyter-widgets/base",
            "top": null,
            "grid_column": null,
            "overflow_y": null,
            "overflow_x": null,
            "grid_auto_flow": null,
            "grid_area": null,
            "grid_template_columns": null,
            "flex": null,
            "_model_name": "LayoutModel",
            "justify_items": null,
            "grid_row": null,
            "max_height": null,
            "align_content": null,
            "visibility": null,
            "align_self": null,
            "height": null,
            "min_height": null,
            "padding": null,
            "grid_auto_rows": null,
            "grid_gap": null,
            "max_width": null,
            "order": null,
            "_view_module_version": "1.2.0",
            "grid_template_areas": null,
            "object_position": null,
            "object_fit": null,
            "grid_auto_columns": null,
            "margin": null,
            "display": null,
            "left": null
          }
        },
        "5ef93620a8884ff7baec157021ebd9cb": {
          "model_module": "@jupyter-widgets/controls",
          "model_name": "DescriptionStyleModel",
          "model_module_version": "1.5.0",
          "state": {
            "_view_name": "StyleView",
            "_model_name": "DescriptionStyleModel",
            "description_width": "",
            "_view_module": "@jupyter-widgets/base",
            "_model_module_version": "1.5.0",
            "_view_count": null,
            "_view_module_version": "1.2.0",
            "_model_module": "@jupyter-widgets/controls"
          }
        },
        "29161d98b35d4112bb40b05a9c68943e": {
          "model_module": "@jupyter-widgets/base",
          "model_name": "LayoutModel",
          "model_module_version": "1.2.0",
          "state": {
            "_view_name": "LayoutView",
            "grid_template_rows": null,
            "right": null,
            "justify_content": null,
            "_view_module": "@jupyter-widgets/base",
            "overflow": null,
            "_model_module_version": "1.2.0",
            "_view_count": null,
            "flex_flow": null,
            "width": null,
            "min_width": null,
            "border": null,
            "align_items": null,
            "bottom": null,
            "_model_module": "@jupyter-widgets/base",
            "top": null,
            "grid_column": null,
            "overflow_y": null,
            "overflow_x": null,
            "grid_auto_flow": null,
            "grid_area": null,
            "grid_template_columns": null,
            "flex": null,
            "_model_name": "LayoutModel",
            "justify_items": null,
            "grid_row": null,
            "max_height": null,
            "align_content": null,
            "visibility": null,
            "align_self": null,
            "height": null,
            "min_height": null,
            "padding": null,
            "grid_auto_rows": null,
            "grid_gap": null,
            "max_width": null,
            "order": null,
            "_view_module_version": "1.2.0",
            "grid_template_areas": null,
            "object_position": null,
            "object_fit": null,
            "grid_auto_columns": null,
            "margin": null,
            "display": null,
            "left": null
          }
        },
        "0e12a6cc3ef1457e99f821509eacd1e5": {
          "model_module": "@jupyter-widgets/controls",
          "model_name": "HBoxModel",
          "model_module_version": "1.5.0",
          "state": {
            "_view_name": "HBoxView",
            "_dom_classes": [],
            "_model_name": "HBoxModel",
            "_view_module": "@jupyter-widgets/controls",
            "_model_module_version": "1.5.0",
            "_view_count": null,
            "_view_module_version": "1.5.0",
            "box_style": "",
            "layout": "IPY_MODEL_1a9a0158462a4aedadba5c3527a96e6c",
            "_model_module": "@jupyter-widgets/controls",
            "children": [
              "IPY_MODEL_38eb1bf8bbb1407dba789f6265777970",
              "IPY_MODEL_cb8bd01dedde433e9a9f00b69854099c",
              "IPY_MODEL_cd31f2029eb44389b2ea63d658ddade6"
            ]
          }
        },
        "1a9a0158462a4aedadba5c3527a96e6c": {
          "model_module": "@jupyter-widgets/base",
          "model_name": "LayoutModel",
          "model_module_version": "1.2.0",
          "state": {
            "_view_name": "LayoutView",
            "grid_template_rows": null,
            "right": null,
            "justify_content": null,
            "_view_module": "@jupyter-widgets/base",
            "overflow": null,
            "_model_module_version": "1.2.0",
            "_view_count": null,
            "flex_flow": null,
            "width": null,
            "min_width": null,
            "border": null,
            "align_items": null,
            "bottom": null,
            "_model_module": "@jupyter-widgets/base",
            "top": null,
            "grid_column": null,
            "overflow_y": null,
            "overflow_x": null,
            "grid_auto_flow": null,
            "grid_area": null,
            "grid_template_columns": null,
            "flex": null,
            "_model_name": "LayoutModel",
            "justify_items": null,
            "grid_row": null,
            "max_height": null,
            "align_content": null,
            "visibility": null,
            "align_self": null,
            "height": null,
            "min_height": null,
            "padding": null,
            "grid_auto_rows": null,
            "grid_gap": null,
            "max_width": null,
            "order": null,
            "_view_module_version": "1.2.0",
            "grid_template_areas": null,
            "object_position": null,
            "object_fit": null,
            "grid_auto_columns": null,
            "margin": null,
            "display": null,
            "left": null
          }
        },
        "38eb1bf8bbb1407dba789f6265777970": {
          "model_module": "@jupyter-widgets/controls",
          "model_name": "HTMLModel",
          "model_module_version": "1.5.0",
          "state": {
            "_view_name": "HTMLView",
            "style": "IPY_MODEL_9b2240d92a8f41e5b65ba5c86364706a",
            "_dom_classes": [],
            "description": "",
            "_model_name": "HTMLModel",
            "placeholder": "​",
            "_view_module": "@jupyter-widgets/controls",
            "_model_module_version": "1.5.0",
            "value": "",
            "_view_count": null,
            "_view_module_version": "1.5.0",
            "description_tooltip": null,
            "_model_module": "@jupyter-widgets/controls",
            "layout": "IPY_MODEL_dd9ce0c7f7ce4388a456dfa4f4c36df2"
          }
        },
        "cb8bd01dedde433e9a9f00b69854099c": {
          "model_module": "@jupyter-widgets/controls",
          "model_name": "FloatProgressModel",
          "model_module_version": "1.5.0",
          "state": {
            "_view_name": "ProgressView",
            "style": "IPY_MODEL_8b77a62e32a44a59979eadcd86beb7aa",
            "_dom_classes": [],
            "description": "",
            "_model_name": "FloatProgressModel",
            "bar_style": "success",
            "max": 28881,
            "_view_module": "@jupyter-widgets/controls",
            "_model_module_version": "1.5.0",
            "value": 28881,
            "_view_count": null,
            "_view_module_version": "1.5.0",
            "orientation": "horizontal",
            "min": 0,
            "description_tooltip": null,
            "_model_module": "@jupyter-widgets/controls",
            "layout": "IPY_MODEL_d60d23c57c074470b4bc5da0ebadd7a1"
          }
        },
        "cd31f2029eb44389b2ea63d658ddade6": {
          "model_module": "@jupyter-widgets/controls",
          "model_name": "HTMLModel",
          "model_module_version": "1.5.0",
          "state": {
            "_view_name": "HTMLView",
            "style": "IPY_MODEL_9d403c7b66574eae84a8d071a3eace63",
            "_dom_classes": [],
            "description": "",
            "_model_name": "HTMLModel",
            "placeholder": "​",
            "_view_module": "@jupyter-widgets/controls",
            "_model_module_version": "1.5.0",
            "value": " 29696/? [00:00&lt;00:00, 564650.76it/s]",
            "_view_count": null,
            "_view_module_version": "1.5.0",
            "description_tooltip": null,
            "_model_module": "@jupyter-widgets/controls",
            "layout": "IPY_MODEL_1dceccf8063e437f8db63245712e2bf8"
          }
        },
        "9b2240d92a8f41e5b65ba5c86364706a": {
          "model_module": "@jupyter-widgets/controls",
          "model_name": "DescriptionStyleModel",
          "model_module_version": "1.5.0",
          "state": {
            "_view_name": "StyleView",
            "_model_name": "DescriptionStyleModel",
            "description_width": "",
            "_view_module": "@jupyter-widgets/base",
            "_model_module_version": "1.5.0",
            "_view_count": null,
            "_view_module_version": "1.2.0",
            "_model_module": "@jupyter-widgets/controls"
          }
        },
        "dd9ce0c7f7ce4388a456dfa4f4c36df2": {
          "model_module": "@jupyter-widgets/base",
          "model_name": "LayoutModel",
          "model_module_version": "1.2.0",
          "state": {
            "_view_name": "LayoutView",
            "grid_template_rows": null,
            "right": null,
            "justify_content": null,
            "_view_module": "@jupyter-widgets/base",
            "overflow": null,
            "_model_module_version": "1.2.0",
            "_view_count": null,
            "flex_flow": null,
            "width": null,
            "min_width": null,
            "border": null,
            "align_items": null,
            "bottom": null,
            "_model_module": "@jupyter-widgets/base",
            "top": null,
            "grid_column": null,
            "overflow_y": null,
            "overflow_x": null,
            "grid_auto_flow": null,
            "grid_area": null,
            "grid_template_columns": null,
            "flex": null,
            "_model_name": "LayoutModel",
            "justify_items": null,
            "grid_row": null,
            "max_height": null,
            "align_content": null,
            "visibility": null,
            "align_self": null,
            "height": null,
            "min_height": null,
            "padding": null,
            "grid_auto_rows": null,
            "grid_gap": null,
            "max_width": null,
            "order": null,
            "_view_module_version": "1.2.0",
            "grid_template_areas": null,
            "object_position": null,
            "object_fit": null,
            "grid_auto_columns": null,
            "margin": null,
            "display": null,
            "left": null
          }
        },
        "8b77a62e32a44a59979eadcd86beb7aa": {
          "model_module": "@jupyter-widgets/controls",
          "model_name": "ProgressStyleModel",
          "model_module_version": "1.5.0",
          "state": {
            "_view_name": "StyleView",
            "_model_name": "ProgressStyleModel",
            "description_width": "",
            "_view_module": "@jupyter-widgets/base",
            "_model_module_version": "1.5.0",
            "_view_count": null,
            "_view_module_version": "1.2.0",
            "bar_color": null,
            "_model_module": "@jupyter-widgets/controls"
          }
        },
        "d60d23c57c074470b4bc5da0ebadd7a1": {
          "model_module": "@jupyter-widgets/base",
          "model_name": "LayoutModel",
          "model_module_version": "1.2.0",
          "state": {
            "_view_name": "LayoutView",
            "grid_template_rows": null,
            "right": null,
            "justify_content": null,
            "_view_module": "@jupyter-widgets/base",
            "overflow": null,
            "_model_module_version": "1.2.0",
            "_view_count": null,
            "flex_flow": null,
            "width": null,
            "min_width": null,
            "border": null,
            "align_items": null,
            "bottom": null,
            "_model_module": "@jupyter-widgets/base",
            "top": null,
            "grid_column": null,
            "overflow_y": null,
            "overflow_x": null,
            "grid_auto_flow": null,
            "grid_area": null,
            "grid_template_columns": null,
            "flex": null,
            "_model_name": "LayoutModel",
            "justify_items": null,
            "grid_row": null,
            "max_height": null,
            "align_content": null,
            "visibility": null,
            "align_self": null,
            "height": null,
            "min_height": null,
            "padding": null,
            "grid_auto_rows": null,
            "grid_gap": null,
            "max_width": null,
            "order": null,
            "_view_module_version": "1.2.0",
            "grid_template_areas": null,
            "object_position": null,
            "object_fit": null,
            "grid_auto_columns": null,
            "margin": null,
            "display": null,
            "left": null
          }
        },
        "9d403c7b66574eae84a8d071a3eace63": {
          "model_module": "@jupyter-widgets/controls",
          "model_name": "DescriptionStyleModel",
          "model_module_version": "1.5.0",
          "state": {
            "_view_name": "StyleView",
            "_model_name": "DescriptionStyleModel",
            "description_width": "",
            "_view_module": "@jupyter-widgets/base",
            "_model_module_version": "1.5.0",
            "_view_count": null,
            "_view_module_version": "1.2.0",
            "_model_module": "@jupyter-widgets/controls"
          }
        },
        "1dceccf8063e437f8db63245712e2bf8": {
          "model_module": "@jupyter-widgets/base",
          "model_name": "LayoutModel",
          "model_module_version": "1.2.0",
          "state": {
            "_view_name": "LayoutView",
            "grid_template_rows": null,
            "right": null,
            "justify_content": null,
            "_view_module": "@jupyter-widgets/base",
            "overflow": null,
            "_model_module_version": "1.2.0",
            "_view_count": null,
            "flex_flow": null,
            "width": null,
            "min_width": null,
            "border": null,
            "align_items": null,
            "bottom": null,
            "_model_module": "@jupyter-widgets/base",
            "top": null,
            "grid_column": null,
            "overflow_y": null,
            "overflow_x": null,
            "grid_auto_flow": null,
            "grid_area": null,
            "grid_template_columns": null,
            "flex": null,
            "_model_name": "LayoutModel",
            "justify_items": null,
            "grid_row": null,
            "max_height": null,
            "align_content": null,
            "visibility": null,
            "align_self": null,
            "height": null,
            "min_height": null,
            "padding": null,
            "grid_auto_rows": null,
            "grid_gap": null,
            "max_width": null,
            "order": null,
            "_view_module_version": "1.2.0",
            "grid_template_areas": null,
            "object_position": null,
            "object_fit": null,
            "grid_auto_columns": null,
            "margin": null,
            "display": null,
            "left": null
          }
        },
        "36571cf8ce674f9d9aee471f1b7e3cab": {
          "model_module": "@jupyter-widgets/controls",
          "model_name": "HBoxModel",
          "model_module_version": "1.5.0",
          "state": {
            "_view_name": "HBoxView",
            "_dom_classes": [],
            "_model_name": "HBoxModel",
            "_view_module": "@jupyter-widgets/controls",
            "_model_module_version": "1.5.0",
            "_view_count": null,
            "_view_module_version": "1.5.0",
            "box_style": "",
            "layout": "IPY_MODEL_6127f9a1cec04624b130bf6433ceb059",
            "_model_module": "@jupyter-widgets/controls",
            "children": [
              "IPY_MODEL_f1fbf90c49b246e0abe4718d329e1b50",
              "IPY_MODEL_05bb218f51f549799f647fb13ba3bfd8",
              "IPY_MODEL_7ec3b2fbb489456491d3ea61ce4056d3"
            ]
          }
        },
        "6127f9a1cec04624b130bf6433ceb059": {
          "model_module": "@jupyter-widgets/base",
          "model_name": "LayoutModel",
          "model_module_version": "1.2.0",
          "state": {
            "_view_name": "LayoutView",
            "grid_template_rows": null,
            "right": null,
            "justify_content": null,
            "_view_module": "@jupyter-widgets/base",
            "overflow": null,
            "_model_module_version": "1.2.0",
            "_view_count": null,
            "flex_flow": null,
            "width": null,
            "min_width": null,
            "border": null,
            "align_items": null,
            "bottom": null,
            "_model_module": "@jupyter-widgets/base",
            "top": null,
            "grid_column": null,
            "overflow_y": null,
            "overflow_x": null,
            "grid_auto_flow": null,
            "grid_area": null,
            "grid_template_columns": null,
            "flex": null,
            "_model_name": "LayoutModel",
            "justify_items": null,
            "grid_row": null,
            "max_height": null,
            "align_content": null,
            "visibility": null,
            "align_self": null,
            "height": null,
            "min_height": null,
            "padding": null,
            "grid_auto_rows": null,
            "grid_gap": null,
            "max_width": null,
            "order": null,
            "_view_module_version": "1.2.0",
            "grid_template_areas": null,
            "object_position": null,
            "object_fit": null,
            "grid_auto_columns": null,
            "margin": null,
            "display": null,
            "left": null
          }
        },
        "f1fbf90c49b246e0abe4718d329e1b50": {
          "model_module": "@jupyter-widgets/controls",
          "model_name": "HTMLModel",
          "model_module_version": "1.5.0",
          "state": {
            "_view_name": "HTMLView",
            "style": "IPY_MODEL_4779ac8a928f4496bd5d11887ab1106f",
            "_dom_classes": [],
            "description": "",
            "_model_name": "HTMLModel",
            "placeholder": "​",
            "_view_module": "@jupyter-widgets/controls",
            "_model_module_version": "1.5.0",
            "value": "",
            "_view_count": null,
            "_view_module_version": "1.5.0",
            "description_tooltip": null,
            "_model_module": "@jupyter-widgets/controls",
            "layout": "IPY_MODEL_c0f80d33721e46ae81b9b6add9f2fc73"
          }
        },
        "05bb218f51f549799f647fb13ba3bfd8": {
          "model_module": "@jupyter-widgets/controls",
          "model_name": "FloatProgressModel",
          "model_module_version": "1.5.0",
          "state": {
            "_view_name": "ProgressView",
            "style": "IPY_MODEL_6a9d95b1cfb640e3b2cc10d37346b1ec",
            "_dom_classes": [],
            "description": "",
            "_model_name": "FloatProgressModel",
            "bar_style": "success",
            "max": 1648877,
            "_view_module": "@jupyter-widgets/controls",
            "_model_module_version": "1.5.0",
            "value": 1648877,
            "_view_count": null,
            "_view_module_version": "1.5.0",
            "orientation": "horizontal",
            "min": 0,
            "description_tooltip": null,
            "_model_module": "@jupyter-widgets/controls",
            "layout": "IPY_MODEL_eec7e375ef8a45a59ce8d60581b269bc"
          }
        },
        "7ec3b2fbb489456491d3ea61ce4056d3": {
          "model_module": "@jupyter-widgets/controls",
          "model_name": "HTMLModel",
          "model_module_version": "1.5.0",
          "state": {
            "_view_name": "HTMLView",
            "style": "IPY_MODEL_d8962209fc834d549ab79fbd3fc6f672",
            "_dom_classes": [],
            "description": "",
            "_model_name": "HTMLModel",
            "placeholder": "​",
            "_view_module": "@jupyter-widgets/controls",
            "_model_module_version": "1.5.0",
            "value": " 1649664/? [00:00&lt;00:00, 4649636.12it/s]",
            "_view_count": null,
            "_view_module_version": "1.5.0",
            "description_tooltip": null,
            "_model_module": "@jupyter-widgets/controls",
            "layout": "IPY_MODEL_2f017ad542844bd084139091944d0301"
          }
        },
        "4779ac8a928f4496bd5d11887ab1106f": {
          "model_module": "@jupyter-widgets/controls",
          "model_name": "DescriptionStyleModel",
          "model_module_version": "1.5.0",
          "state": {
            "_view_name": "StyleView",
            "_model_name": "DescriptionStyleModel",
            "description_width": "",
            "_view_module": "@jupyter-widgets/base",
            "_model_module_version": "1.5.0",
            "_view_count": null,
            "_view_module_version": "1.2.0",
            "_model_module": "@jupyter-widgets/controls"
          }
        },
        "c0f80d33721e46ae81b9b6add9f2fc73": {
          "model_module": "@jupyter-widgets/base",
          "model_name": "LayoutModel",
          "model_module_version": "1.2.0",
          "state": {
            "_view_name": "LayoutView",
            "grid_template_rows": null,
            "right": null,
            "justify_content": null,
            "_view_module": "@jupyter-widgets/base",
            "overflow": null,
            "_model_module_version": "1.2.0",
            "_view_count": null,
            "flex_flow": null,
            "width": null,
            "min_width": null,
            "border": null,
            "align_items": null,
            "bottom": null,
            "_model_module": "@jupyter-widgets/base",
            "top": null,
            "grid_column": null,
            "overflow_y": null,
            "overflow_x": null,
            "grid_auto_flow": null,
            "grid_area": null,
            "grid_template_columns": null,
            "flex": null,
            "_model_name": "LayoutModel",
            "justify_items": null,
            "grid_row": null,
            "max_height": null,
            "align_content": null,
            "visibility": null,
            "align_self": null,
            "height": null,
            "min_height": null,
            "padding": null,
            "grid_auto_rows": null,
            "grid_gap": null,
            "max_width": null,
            "order": null,
            "_view_module_version": "1.2.0",
            "grid_template_areas": null,
            "object_position": null,
            "object_fit": null,
            "grid_auto_columns": null,
            "margin": null,
            "display": null,
            "left": null
          }
        },
        "6a9d95b1cfb640e3b2cc10d37346b1ec": {
          "model_module": "@jupyter-widgets/controls",
          "model_name": "ProgressStyleModel",
          "model_module_version": "1.5.0",
          "state": {
            "_view_name": "StyleView",
            "_model_name": "ProgressStyleModel",
            "description_width": "",
            "_view_module": "@jupyter-widgets/base",
            "_model_module_version": "1.5.0",
            "_view_count": null,
            "_view_module_version": "1.2.0",
            "bar_color": null,
            "_model_module": "@jupyter-widgets/controls"
          }
        },
        "eec7e375ef8a45a59ce8d60581b269bc": {
          "model_module": "@jupyter-widgets/base",
          "model_name": "LayoutModel",
          "model_module_version": "1.2.0",
          "state": {
            "_view_name": "LayoutView",
            "grid_template_rows": null,
            "right": null,
            "justify_content": null,
            "_view_module": "@jupyter-widgets/base",
            "overflow": null,
            "_model_module_version": "1.2.0",
            "_view_count": null,
            "flex_flow": null,
            "width": null,
            "min_width": null,
            "border": null,
            "align_items": null,
            "bottom": null,
            "_model_module": "@jupyter-widgets/base",
            "top": null,
            "grid_column": null,
            "overflow_y": null,
            "overflow_x": null,
            "grid_auto_flow": null,
            "grid_area": null,
            "grid_template_columns": null,
            "flex": null,
            "_model_name": "LayoutModel",
            "justify_items": null,
            "grid_row": null,
            "max_height": null,
            "align_content": null,
            "visibility": null,
            "align_self": null,
            "height": null,
            "min_height": null,
            "padding": null,
            "grid_auto_rows": null,
            "grid_gap": null,
            "max_width": null,
            "order": null,
            "_view_module_version": "1.2.0",
            "grid_template_areas": null,
            "object_position": null,
            "object_fit": null,
            "grid_auto_columns": null,
            "margin": null,
            "display": null,
            "left": null
          }
        },
        "d8962209fc834d549ab79fbd3fc6f672": {
          "model_module": "@jupyter-widgets/controls",
          "model_name": "DescriptionStyleModel",
          "model_module_version": "1.5.0",
          "state": {
            "_view_name": "StyleView",
            "_model_name": "DescriptionStyleModel",
            "description_width": "",
            "_view_module": "@jupyter-widgets/base",
            "_model_module_version": "1.5.0",
            "_view_count": null,
            "_view_module_version": "1.2.0",
            "_model_module": "@jupyter-widgets/controls"
          }
        },
        "2f017ad542844bd084139091944d0301": {
          "model_module": "@jupyter-widgets/base",
          "model_name": "LayoutModel",
          "model_module_version": "1.2.0",
          "state": {
            "_view_name": "LayoutView",
            "grid_template_rows": null,
            "right": null,
            "justify_content": null,
            "_view_module": "@jupyter-widgets/base",
            "overflow": null,
            "_model_module_version": "1.2.0",
            "_view_count": null,
            "flex_flow": null,
            "width": null,
            "min_width": null,
            "border": null,
            "align_items": null,
            "bottom": null,
            "_model_module": "@jupyter-widgets/base",
            "top": null,
            "grid_column": null,
            "overflow_y": null,
            "overflow_x": null,
            "grid_auto_flow": null,
            "grid_area": null,
            "grid_template_columns": null,
            "flex": null,
            "_model_name": "LayoutModel",
            "justify_items": null,
            "grid_row": null,
            "max_height": null,
            "align_content": null,
            "visibility": null,
            "align_self": null,
            "height": null,
            "min_height": null,
            "padding": null,
            "grid_auto_rows": null,
            "grid_gap": null,
            "max_width": null,
            "order": null,
            "_view_module_version": "1.2.0",
            "grid_template_areas": null,
            "object_position": null,
            "object_fit": null,
            "grid_auto_columns": null,
            "margin": null,
            "display": null,
            "left": null
          }
        },
        "10f66f5ab5d9491393ba1288f8720064": {
          "model_module": "@jupyter-widgets/controls",
          "model_name": "HBoxModel",
          "model_module_version": "1.5.0",
          "state": {
            "_view_name": "HBoxView",
            "_dom_classes": [],
            "_model_name": "HBoxModel",
            "_view_module": "@jupyter-widgets/controls",
            "_model_module_version": "1.5.0",
            "_view_count": null,
            "_view_module_version": "1.5.0",
            "box_style": "",
            "layout": "IPY_MODEL_36adeb14d25942fabb686cfb716e6511",
            "_model_module": "@jupyter-widgets/controls",
            "children": [
              "IPY_MODEL_1f4bc0895a6e4f2e8a0755528d0a19a4",
              "IPY_MODEL_9d82220563924104b9193af5cb5fb9bb",
              "IPY_MODEL_7558e5a247f0476fa31e08c6b4591af7"
            ]
          }
        },
        "36adeb14d25942fabb686cfb716e6511": {
          "model_module": "@jupyter-widgets/base",
          "model_name": "LayoutModel",
          "model_module_version": "1.2.0",
          "state": {
            "_view_name": "LayoutView",
            "grid_template_rows": null,
            "right": null,
            "justify_content": null,
            "_view_module": "@jupyter-widgets/base",
            "overflow": null,
            "_model_module_version": "1.2.0",
            "_view_count": null,
            "flex_flow": null,
            "width": null,
            "min_width": null,
            "border": null,
            "align_items": null,
            "bottom": null,
            "_model_module": "@jupyter-widgets/base",
            "top": null,
            "grid_column": null,
            "overflow_y": null,
            "overflow_x": null,
            "grid_auto_flow": null,
            "grid_area": null,
            "grid_template_columns": null,
            "flex": null,
            "_model_name": "LayoutModel",
            "justify_items": null,
            "grid_row": null,
            "max_height": null,
            "align_content": null,
            "visibility": null,
            "align_self": null,
            "height": null,
            "min_height": null,
            "padding": null,
            "grid_auto_rows": null,
            "grid_gap": null,
            "max_width": null,
            "order": null,
            "_view_module_version": "1.2.0",
            "grid_template_areas": null,
            "object_position": null,
            "object_fit": null,
            "grid_auto_columns": null,
            "margin": null,
            "display": null,
            "left": null
          }
        },
        "1f4bc0895a6e4f2e8a0755528d0a19a4": {
          "model_module": "@jupyter-widgets/controls",
          "model_name": "HTMLModel",
          "model_module_version": "1.5.0",
          "state": {
            "_view_name": "HTMLView",
            "style": "IPY_MODEL_868a920b0a0b4e09b2c603ec5ea0868f",
            "_dom_classes": [],
            "description": "",
            "_model_name": "HTMLModel",
            "placeholder": "​",
            "_view_module": "@jupyter-widgets/controls",
            "_model_module_version": "1.5.0",
            "value": "",
            "_view_count": null,
            "_view_module_version": "1.5.0",
            "description_tooltip": null,
            "_model_module": "@jupyter-widgets/controls",
            "layout": "IPY_MODEL_da00ad3a5ece4fa781275e1221289c85"
          }
        },
        "9d82220563924104b9193af5cb5fb9bb": {
          "model_module": "@jupyter-widgets/controls",
          "model_name": "FloatProgressModel",
          "model_module_version": "1.5.0",
          "state": {
            "_view_name": "ProgressView",
            "style": "IPY_MODEL_3a4b1580305845f5830ce5131306ae13",
            "_dom_classes": [],
            "description": "",
            "_model_name": "FloatProgressModel",
            "bar_style": "success",
            "max": 4542,
            "_view_module": "@jupyter-widgets/controls",
            "_model_module_version": "1.5.0",
            "value": 4542,
            "_view_count": null,
            "_view_module_version": "1.5.0",
            "orientation": "horizontal",
            "min": 0,
            "description_tooltip": null,
            "_model_module": "@jupyter-widgets/controls",
            "layout": "IPY_MODEL_038309e53b5f410fa93f389adfbdc3d1"
          }
        },
        "7558e5a247f0476fa31e08c6b4591af7": {
          "model_module": "@jupyter-widgets/controls",
          "model_name": "HTMLModel",
          "model_module_version": "1.5.0",
          "state": {
            "_view_name": "HTMLView",
            "style": "IPY_MODEL_9cb9f4e7972a41a78f23e3d61ff7e55d",
            "_dom_classes": [],
            "description": "",
            "_model_name": "HTMLModel",
            "placeholder": "​",
            "_view_module": "@jupyter-widgets/controls",
            "_model_module_version": "1.5.0",
            "value": " 5120/? [00:00&lt;00:00, 119712.33it/s]",
            "_view_count": null,
            "_view_module_version": "1.5.0",
            "description_tooltip": null,
            "_model_module": "@jupyter-widgets/controls",
            "layout": "IPY_MODEL_9345263590b64d3e9a860f8034308b94"
          }
        },
        "868a920b0a0b4e09b2c603ec5ea0868f": {
          "model_module": "@jupyter-widgets/controls",
          "model_name": "DescriptionStyleModel",
          "model_module_version": "1.5.0",
          "state": {
            "_view_name": "StyleView",
            "_model_name": "DescriptionStyleModel",
            "description_width": "",
            "_view_module": "@jupyter-widgets/base",
            "_model_module_version": "1.5.0",
            "_view_count": null,
            "_view_module_version": "1.2.0",
            "_model_module": "@jupyter-widgets/controls"
          }
        },
        "da00ad3a5ece4fa781275e1221289c85": {
          "model_module": "@jupyter-widgets/base",
          "model_name": "LayoutModel",
          "model_module_version": "1.2.0",
          "state": {
            "_view_name": "LayoutView",
            "grid_template_rows": null,
            "right": null,
            "justify_content": null,
            "_view_module": "@jupyter-widgets/base",
            "overflow": null,
            "_model_module_version": "1.2.0",
            "_view_count": null,
            "flex_flow": null,
            "width": null,
            "min_width": null,
            "border": null,
            "align_items": null,
            "bottom": null,
            "_model_module": "@jupyter-widgets/base",
            "top": null,
            "grid_column": null,
            "overflow_y": null,
            "overflow_x": null,
            "grid_auto_flow": null,
            "grid_area": null,
            "grid_template_columns": null,
            "flex": null,
            "_model_name": "LayoutModel",
            "justify_items": null,
            "grid_row": null,
            "max_height": null,
            "align_content": null,
            "visibility": null,
            "align_self": null,
            "height": null,
            "min_height": null,
            "padding": null,
            "grid_auto_rows": null,
            "grid_gap": null,
            "max_width": null,
            "order": null,
            "_view_module_version": "1.2.0",
            "grid_template_areas": null,
            "object_position": null,
            "object_fit": null,
            "grid_auto_columns": null,
            "margin": null,
            "display": null,
            "left": null
          }
        },
        "3a4b1580305845f5830ce5131306ae13": {
          "model_module": "@jupyter-widgets/controls",
          "model_name": "ProgressStyleModel",
          "model_module_version": "1.5.0",
          "state": {
            "_view_name": "StyleView",
            "_model_name": "ProgressStyleModel",
            "description_width": "",
            "_view_module": "@jupyter-widgets/base",
            "_model_module_version": "1.5.0",
            "_view_count": null,
            "_view_module_version": "1.2.0",
            "bar_color": null,
            "_model_module": "@jupyter-widgets/controls"
          }
        },
        "038309e53b5f410fa93f389adfbdc3d1": {
          "model_module": "@jupyter-widgets/base",
          "model_name": "LayoutModel",
          "model_module_version": "1.2.0",
          "state": {
            "_view_name": "LayoutView",
            "grid_template_rows": null,
            "right": null,
            "justify_content": null,
            "_view_module": "@jupyter-widgets/base",
            "overflow": null,
            "_model_module_version": "1.2.0",
            "_view_count": null,
            "flex_flow": null,
            "width": null,
            "min_width": null,
            "border": null,
            "align_items": null,
            "bottom": null,
            "_model_module": "@jupyter-widgets/base",
            "top": null,
            "grid_column": null,
            "overflow_y": null,
            "overflow_x": null,
            "grid_auto_flow": null,
            "grid_area": null,
            "grid_template_columns": null,
            "flex": null,
            "_model_name": "LayoutModel",
            "justify_items": null,
            "grid_row": null,
            "max_height": null,
            "align_content": null,
            "visibility": null,
            "align_self": null,
            "height": null,
            "min_height": null,
            "padding": null,
            "grid_auto_rows": null,
            "grid_gap": null,
            "max_width": null,
            "order": null,
            "_view_module_version": "1.2.0",
            "grid_template_areas": null,
            "object_position": null,
            "object_fit": null,
            "grid_auto_columns": null,
            "margin": null,
            "display": null,
            "left": null
          }
        },
        "9cb9f4e7972a41a78f23e3d61ff7e55d": {
          "model_module": "@jupyter-widgets/controls",
          "model_name": "DescriptionStyleModel",
          "model_module_version": "1.5.0",
          "state": {
            "_view_name": "StyleView",
            "_model_name": "DescriptionStyleModel",
            "description_width": "",
            "_view_module": "@jupyter-widgets/base",
            "_model_module_version": "1.5.0",
            "_view_count": null,
            "_view_module_version": "1.2.0",
            "_model_module": "@jupyter-widgets/controls"
          }
        },
        "9345263590b64d3e9a860f8034308b94": {
          "model_module": "@jupyter-widgets/base",
          "model_name": "LayoutModel",
          "model_module_version": "1.2.0",
          "state": {
            "_view_name": "LayoutView",
            "grid_template_rows": null,
            "right": null,
            "justify_content": null,
            "_view_module": "@jupyter-widgets/base",
            "overflow": null,
            "_model_module_version": "1.2.0",
            "_view_count": null,
            "flex_flow": null,
            "width": null,
            "min_width": null,
            "border": null,
            "align_items": null,
            "bottom": null,
            "_model_module": "@jupyter-widgets/base",
            "top": null,
            "grid_column": null,
            "overflow_y": null,
            "overflow_x": null,
            "grid_auto_flow": null,
            "grid_area": null,
            "grid_template_columns": null,
            "flex": null,
            "_model_name": "LayoutModel",
            "justify_items": null,
            "grid_row": null,
            "max_height": null,
            "align_content": null,
            "visibility": null,
            "align_self": null,
            "height": null,
            "min_height": null,
            "padding": null,
            "grid_auto_rows": null,
            "grid_gap": null,
            "max_width": null,
            "order": null,
            "_view_module_version": "1.2.0",
            "grid_template_areas": null,
            "object_position": null,
            "object_fit": null,
            "grid_auto_columns": null,
            "margin": null,
            "display": null,
            "left": null
          }
        }
      }
    }
  },
  "cells": [
    {
      "cell_type": "code",
      "metadata": {
        "id": "Pr6UyFE8izia"
      },
      "source": [
        "import torch\n",
        "import matplotlib.pyplot as plt\n",
        "import numpy as np\n",
        "\n",
        "import torchvision\n",
        "from torchvision import datasets, transforms\n",
        "\n",
        "import torch.nn as nn\n",
        "import torch.optim as optim\n",
        "import seaborn as sns"
      ],
      "execution_count": 1,
      "outputs": []
    },
    {
      "cell_type": "code",
      "metadata": {
        "colab": {
          "base_uri": "https://localhost:8080/"
        },
        "id": "LQZg1MQBmBOB",
        "outputId": "fdeada97-8dcb-40e0-c886-a334d548bfc5"
      },
      "source": [
        "!pip install mlflow"
      ],
      "execution_count": 2,
      "outputs": [
        {
          "output_type": "stream",
          "name": "stdout",
          "text": [
            "Collecting mlflow\n",
            "  Downloading mlflow-1.20.2-py3-none-any.whl (14.6 MB)\n",
            "\u001b[K     |████████████████████████████████| 14.6 MB 123 kB/s \n",
            "\u001b[?25hRequirement already satisfied: Flask in /usr/local/lib/python3.7/dist-packages (from mlflow) (1.1.4)\n",
            "Requirement already satisfied: pandas in /usr/local/lib/python3.7/dist-packages (from mlflow) (1.1.5)\n",
            "Requirement already satisfied: pytz in /usr/local/lib/python3.7/dist-packages (from mlflow) (2018.9)\n",
            "Requirement already satisfied: entrypoints in /usr/local/lib/python3.7/dist-packages (from mlflow) (0.3)\n",
            "Requirement already satisfied: sqlparse>=0.3.1 in /usr/local/lib/python3.7/dist-packages (from mlflow) (0.4.2)\n",
            "Collecting pyyaml>=5.1\n",
            "  Downloading PyYAML-6.0-cp37-cp37m-manylinux_2_5_x86_64.manylinux1_x86_64.manylinux_2_12_x86_64.manylinux2010_x86_64.whl (596 kB)\n",
            "\u001b[K     |████████████████████████████████| 596 kB 35.5 MB/s \n",
            "\u001b[?25hRequirement already satisfied: cloudpickle in /usr/local/lib/python3.7/dist-packages (from mlflow) (1.3.0)\n",
            "Collecting databricks-cli>=0.8.7\n",
            "  Downloading databricks-cli-0.15.0.tar.gz (56 kB)\n",
            "\u001b[K     |████████████████████████████████| 56 kB 4.2 MB/s \n",
            "\u001b[?25hRequirement already satisfied: packaging in /usr/local/lib/python3.7/dist-packages (from mlflow) (21.0)\n",
            "Requirement already satisfied: numpy in /usr/local/lib/python3.7/dist-packages (from mlflow) (1.19.5)\n",
            "Collecting querystring-parser\n",
            "  Downloading querystring_parser-1.2.4-py2.py3-none-any.whl (7.9 kB)\n",
            "Collecting prometheus-flask-exporter\n",
            "  Downloading prometheus_flask_exporter-0.18.3-py3-none-any.whl (17 kB)\n",
            "Requirement already satisfied: importlib-metadata!=4.7.0,>=3.7.0 in /usr/local/lib/python3.7/dist-packages (from mlflow) (4.8.1)\n",
            "Requirement already satisfied: protobuf>=3.7.0 in /usr/local/lib/python3.7/dist-packages (from mlflow) (3.17.3)\n",
            "Collecting gunicorn\n",
            "  Downloading gunicorn-20.1.0-py3-none-any.whl (79 kB)\n",
            "\u001b[K     |████████████████████████████████| 79 kB 7.3 MB/s \n",
            "\u001b[?25hRequirement already satisfied: click>=7.0 in /usr/local/lib/python3.7/dist-packages (from mlflow) (7.1.2)\n",
            "Collecting docker>=4.0.0\n",
            "  Downloading docker-5.0.3-py2.py3-none-any.whl (146 kB)\n",
            "\u001b[K     |████████████████████████████████| 146 kB 45.0 MB/s \n",
            "\u001b[?25hCollecting gitpython>=2.1.0\n",
            "  Downloading GitPython-3.1.24-py3-none-any.whl (180 kB)\n",
            "\u001b[K     |████████████████████████████████| 180 kB 50.5 MB/s \n",
            "\u001b[?25hCollecting alembic<=1.4.1\n",
            "  Downloading alembic-1.4.1.tar.gz (1.1 MB)\n",
            "\u001b[K     |████████████████████████████████| 1.1 MB 45.2 MB/s \n",
            "\u001b[?25hRequirement already satisfied: sqlalchemy in /usr/local/lib/python3.7/dist-packages (from mlflow) (1.4.25)\n",
            "Requirement already satisfied: requests>=2.17.3 in /usr/local/lib/python3.7/dist-packages (from mlflow) (2.23.0)\n",
            "Collecting Mako\n",
            "  Downloading Mako-1.1.5-py2.py3-none-any.whl (75 kB)\n",
            "\u001b[K     |████████████████████████████████| 75 kB 4.2 MB/s \n",
            "\u001b[?25hCollecting python-editor>=0.3\n",
            "  Downloading python_editor-1.0.4-py3-none-any.whl (4.9 kB)\n",
            "Requirement already satisfied: python-dateutil in /usr/local/lib/python3.7/dist-packages (from alembic<=1.4.1->mlflow) (2.8.2)\n",
            "Requirement already satisfied: tabulate>=0.7.7 in /usr/local/lib/python3.7/dist-packages (from databricks-cli>=0.8.7->mlflow) (0.8.9)\n",
            "Requirement already satisfied: six>=1.10.0 in /usr/local/lib/python3.7/dist-packages (from databricks-cli>=0.8.7->mlflow) (1.15.0)\n",
            "Collecting websocket-client>=0.32.0\n",
            "  Downloading websocket_client-1.2.1-py2.py3-none-any.whl (52 kB)\n",
            "\u001b[K     |████████████████████████████████| 52 kB 1.5 MB/s \n",
            "\u001b[?25hCollecting gitdb<5,>=4.0.1\n",
            "  Downloading gitdb-4.0.7-py3-none-any.whl (63 kB)\n",
            "\u001b[K     |████████████████████████████████| 63 kB 1.4 MB/s \n",
            "\u001b[?25hRequirement already satisfied: typing-extensions>=3.7.4.3 in /usr/local/lib/python3.7/dist-packages (from gitpython>=2.1.0->mlflow) (3.7.4.3)\n",
            "Collecting smmap<5,>=3.0.1\n",
            "  Downloading smmap-4.0.0-py2.py3-none-any.whl (24 kB)\n",
            "Requirement already satisfied: zipp>=0.5 in /usr/local/lib/python3.7/dist-packages (from importlib-metadata!=4.7.0,>=3.7.0->mlflow) (3.6.0)\n",
            "Requirement already satisfied: chardet<4,>=3.0.2 in /usr/local/lib/python3.7/dist-packages (from requests>=2.17.3->mlflow) (3.0.4)\n",
            "Requirement already satisfied: urllib3!=1.25.0,!=1.25.1,<1.26,>=1.21.1 in /usr/local/lib/python3.7/dist-packages (from requests>=2.17.3->mlflow) (1.24.3)\n",
            "Requirement already satisfied: certifi>=2017.4.17 in /usr/local/lib/python3.7/dist-packages (from requests>=2.17.3->mlflow) (2021.5.30)\n",
            "Requirement already satisfied: idna<3,>=2.5 in /usr/local/lib/python3.7/dist-packages (from requests>=2.17.3->mlflow) (2.10)\n",
            "Requirement already satisfied: greenlet!=0.4.17 in /usr/local/lib/python3.7/dist-packages (from sqlalchemy->mlflow) (1.1.2)\n",
            "Requirement already satisfied: Jinja2<3.0,>=2.10.1 in /usr/local/lib/python3.7/dist-packages (from Flask->mlflow) (2.11.3)\n",
            "Requirement already satisfied: itsdangerous<2.0,>=0.24 in /usr/local/lib/python3.7/dist-packages (from Flask->mlflow) (1.1.0)\n",
            "Requirement already satisfied: Werkzeug<2.0,>=0.15 in /usr/local/lib/python3.7/dist-packages (from Flask->mlflow) (1.0.1)\n",
            "Requirement already satisfied: MarkupSafe>=0.23 in /usr/local/lib/python3.7/dist-packages (from Jinja2<3.0,>=2.10.1->Flask->mlflow) (2.0.1)\n",
            "Requirement already satisfied: setuptools>=3.0 in /usr/local/lib/python3.7/dist-packages (from gunicorn->mlflow) (57.4.0)\n",
            "Requirement already satisfied: pyparsing>=2.0.2 in /usr/local/lib/python3.7/dist-packages (from packaging->mlflow) (2.4.7)\n",
            "Requirement already satisfied: prometheus-client in /usr/local/lib/python3.7/dist-packages (from prometheus-flask-exporter->mlflow) (0.11.0)\n",
            "Building wheels for collected packages: alembic, databricks-cli\n",
            "  Building wheel for alembic (setup.py) ... \u001b[?25l\u001b[?25hdone\n",
            "  Created wheel for alembic: filename=alembic-1.4.1-py2.py3-none-any.whl size=158172 sha256=f579aba53712697df50e83e8e9e5fe1f4537799cd8007fd64937a5e607a51603\n",
            "  Stored in directory: /root/.cache/pip/wheels/be/5d/0a/9e13f53f4f5dfb67cd8d245bb7cdffe12f135846f491a283e3\n",
            "  Building wheel for databricks-cli (setup.py) ... \u001b[?25l\u001b[?25hdone\n",
            "  Created wheel for databricks-cli: filename=databricks_cli-0.15.0-py3-none-any.whl size=105260 sha256=6423980be95fbcbffe2b3d3c9210c7cb2fec6aa9e22eb65f2c09bf37a5cd44bd\n",
            "  Stored in directory: /root/.cache/pip/wheels/e7/ba/75/284f9a90ff7a010bb23b9798f2e9a19dd9fe619379c917bff4\n",
            "Successfully built alembic databricks-cli\n",
            "Installing collected packages: smmap, websocket-client, python-editor, Mako, gitdb, querystring-parser, pyyaml, prometheus-flask-exporter, gunicorn, gitpython, docker, databricks-cli, alembic, mlflow\n",
            "  Attempting uninstall: pyyaml\n",
            "    Found existing installation: PyYAML 3.13\n",
            "    Uninstalling PyYAML-3.13:\n",
            "      Successfully uninstalled PyYAML-3.13\n",
            "Successfully installed Mako-1.1.5 alembic-1.4.1 databricks-cli-0.15.0 docker-5.0.3 gitdb-4.0.7 gitpython-3.1.24 gunicorn-20.1.0 mlflow-1.20.2 prometheus-flask-exporter-0.18.3 python-editor-1.0.4 pyyaml-6.0 querystring-parser-1.2.4 smmap-4.0.0 websocket-client-1.2.1\n"
          ]
        }
      ]
    },
    {
      "cell_type": "code",
      "metadata": {
        "id": "DfB8gD_nl1B5"
      },
      "source": [
        "import mlflow\n",
        "import mlflow.pytorch"
      ],
      "execution_count": 3,
      "outputs": []
    },
    {
      "cell_type": "markdown",
      "metadata": {
        "id": "pkN2EomUl6i_"
      },
      "source": [
        "#Param Class"
      ]
    },
    {
      "cell_type": "code",
      "metadata": {
        "id": "nwAeny2rl-Bc"
      },
      "source": [
        "class Params(object):\n",
        "    def __init__(self, batch_size, epochs, seed, log_interval):\n",
        "        self.batch_size = batch_size\n",
        "        self.epochs = epochs\n",
        "        self.seed = seed\n",
        "        self.log_interval = log_interval\n",
        "\n",
        "args = Params(256, 4, 0, 20)"
      ],
      "execution_count": 4,
      "outputs": []
    },
    {
      "cell_type": "markdown",
      "metadata": {
        "id": "woMkj6HlmMMm"
      },
      "source": [
        "#DataSet"
      ]
    },
    {
      "cell_type": "code",
      "metadata": {
        "colab": {
          "base_uri": "https://localhost:8080/",
          "height": 471,
          "referenced_widgets": [
            "f9baa82551834306b70bf622b8973155",
            "8b49d77102844267a71e7f0fd6c982c8",
            "31a95a489fa2466dbd7cabe75ff700a5",
            "11d3f04f485d4686b3463533aa264b27",
            "926bb5f9587b451f83fe003fb05beca4",
            "22fac7ee7b494e609f5cfefbb7136665",
            "392730144b424ab2b8cb754326b88efb",
            "ba8871a7f22f45b48b1fa4d7a7ece5b6",
            "48bb8de109054bcb806d7aeaf33defa2",
            "5ef93620a8884ff7baec157021ebd9cb",
            "29161d98b35d4112bb40b05a9c68943e",
            "0e12a6cc3ef1457e99f821509eacd1e5",
            "1a9a0158462a4aedadba5c3527a96e6c",
            "38eb1bf8bbb1407dba789f6265777970",
            "cb8bd01dedde433e9a9f00b69854099c",
            "cd31f2029eb44389b2ea63d658ddade6",
            "9b2240d92a8f41e5b65ba5c86364706a",
            "dd9ce0c7f7ce4388a456dfa4f4c36df2",
            "8b77a62e32a44a59979eadcd86beb7aa",
            "d60d23c57c074470b4bc5da0ebadd7a1",
            "9d403c7b66574eae84a8d071a3eace63",
            "1dceccf8063e437f8db63245712e2bf8",
            "36571cf8ce674f9d9aee471f1b7e3cab",
            "6127f9a1cec04624b130bf6433ceb059",
            "f1fbf90c49b246e0abe4718d329e1b50",
            "05bb218f51f549799f647fb13ba3bfd8",
            "7ec3b2fbb489456491d3ea61ce4056d3",
            "4779ac8a928f4496bd5d11887ab1106f",
            "c0f80d33721e46ae81b9b6add9f2fc73",
            "6a9d95b1cfb640e3b2cc10d37346b1ec",
            "eec7e375ef8a45a59ce8d60581b269bc",
            "d8962209fc834d549ab79fbd3fc6f672",
            "2f017ad542844bd084139091944d0301",
            "10f66f5ab5d9491393ba1288f8720064",
            "36adeb14d25942fabb686cfb716e6511",
            "1f4bc0895a6e4f2e8a0755528d0a19a4",
            "9d82220563924104b9193af5cb5fb9bb",
            "7558e5a247f0476fa31e08c6b4591af7",
            "868a920b0a0b4e09b2c603ec5ea0868f",
            "da00ad3a5ece4fa781275e1221289c85",
            "3a4b1580305845f5830ce5131306ae13",
            "038309e53b5f410fa93f389adfbdc3d1",
            "9cb9f4e7972a41a78f23e3d61ff7e55d",
            "9345263590b64d3e9a860f8034308b94"
          ]
        },
        "id": "W1wcUnmmmKks",
        "outputId": "17db03fd-a509-4d23-c390-98d7d1a7835a"
      },
      "source": [
        "transform = transforms.Compose([\n",
        "    transforms.ToTensor(),\n",
        "    transforms.Normalize((0.1307,), (0.3081,))\n",
        "])\n",
        "\n",
        "train_set = datasets.MNIST('../data', train=True, download=True, \n",
        "                         transform=transform)\n",
        "\n",
        "test_set = datasets.MNIST('../data', train=False, download=True, \n",
        "                         transform=transform)\n",
        "\n",
        "train_loader = torch.utils.data.DataLoader(train_set, batch_size=args.batch_size, shuffle=True)\n",
        "test_loader = torch.utils.data.DataLoader(test_set, batch_size=args.batch_size, shuffle=False)"
      ],
      "execution_count": 5,
      "outputs": [
        {
          "output_type": "stream",
          "name": "stdout",
          "text": [
            "Downloading http://yann.lecun.com/exdb/mnist/train-images-idx3-ubyte.gz\n",
            "Downloading http://yann.lecun.com/exdb/mnist/train-images-idx3-ubyte.gz to ../data/MNIST/raw/train-images-idx3-ubyte.gz\n"
          ]
        },
        {
          "output_type": "display_data",
          "data": {
            "application/vnd.jupyter.widget-view+json": {
              "model_id": "f9baa82551834306b70bf622b8973155",
              "version_minor": 0,
              "version_major": 2
            },
            "text/plain": [
              "  0%|          | 0/9912422 [00:00<?, ?it/s]"
            ]
          },
          "metadata": {}
        },
        {
          "output_type": "stream",
          "name": "stdout",
          "text": [
            "Extracting ../data/MNIST/raw/train-images-idx3-ubyte.gz to ../data/MNIST/raw\n",
            "\n",
            "Downloading http://yann.lecun.com/exdb/mnist/train-labels-idx1-ubyte.gz\n",
            "Downloading http://yann.lecun.com/exdb/mnist/train-labels-idx1-ubyte.gz to ../data/MNIST/raw/train-labels-idx1-ubyte.gz\n"
          ]
        },
        {
          "output_type": "display_data",
          "data": {
            "application/vnd.jupyter.widget-view+json": {
              "model_id": "0e12a6cc3ef1457e99f821509eacd1e5",
              "version_minor": 0,
              "version_major": 2
            },
            "text/plain": [
              "  0%|          | 0/28881 [00:00<?, ?it/s]"
            ]
          },
          "metadata": {}
        },
        {
          "output_type": "stream",
          "name": "stdout",
          "text": [
            "Extracting ../data/MNIST/raw/train-labels-idx1-ubyte.gz to ../data/MNIST/raw\n",
            "\n",
            "Downloading http://yann.lecun.com/exdb/mnist/t10k-images-idx3-ubyte.gz\n",
            "Downloading http://yann.lecun.com/exdb/mnist/t10k-images-idx3-ubyte.gz to ../data/MNIST/raw/t10k-images-idx3-ubyte.gz\n"
          ]
        },
        {
          "output_type": "display_data",
          "data": {
            "application/vnd.jupyter.widget-view+json": {
              "model_id": "36571cf8ce674f9d9aee471f1b7e3cab",
              "version_minor": 0,
              "version_major": 2
            },
            "text/plain": [
              "  0%|          | 0/1648877 [00:00<?, ?it/s]"
            ]
          },
          "metadata": {}
        },
        {
          "output_type": "stream",
          "name": "stdout",
          "text": [
            "Extracting ../data/MNIST/raw/t10k-images-idx3-ubyte.gz to ../data/MNIST/raw\n",
            "\n",
            "Downloading http://yann.lecun.com/exdb/mnist/t10k-labels-idx1-ubyte.gz\n",
            "Downloading http://yann.lecun.com/exdb/mnist/t10k-labels-idx1-ubyte.gz to ../data/MNIST/raw/t10k-labels-idx1-ubyte.gz\n"
          ]
        },
        {
          "output_type": "display_data",
          "data": {
            "application/vnd.jupyter.widget-view+json": {
              "model_id": "10f66f5ab5d9491393ba1288f8720064",
              "version_minor": 0,
              "version_major": 2
            },
            "text/plain": [
              "  0%|          | 0/4542 [00:00<?, ?it/s]"
            ]
          },
          "metadata": {}
        },
        {
          "output_type": "stream",
          "name": "stdout",
          "text": [
            "Extracting ../data/MNIST/raw/t10k-labels-idx1-ubyte.gz to ../data/MNIST/raw\n",
            "\n"
          ]
        },
        {
          "output_type": "stream",
          "name": "stderr",
          "text": [
            "/usr/local/lib/python3.7/dist-packages/torchvision/datasets/mnist.py:498: UserWarning: The given NumPy array is not writeable, and PyTorch does not support non-writeable tensors. This means you can write to the underlying (supposedly non-writeable) NumPy array using the tensor. You may want to copy the array to protect its data or make it writeable before converting it to a tensor. This type of warning will be suppressed for the rest of this program. (Triggered internally at  /pytorch/torch/csrc/utils/tensor_numpy.cpp:180.)\n",
            "  return torch.from_numpy(parsed.astype(m[2], copy=False)).view(*s)\n"
          ]
        }
      ]
    },
    {
      "cell_type": "markdown",
      "metadata": {
        "id": "gZCNHDbRmaLL"
      },
      "source": [
        "#Model"
      ]
    },
    {
      "cell_type": "code",
      "metadata": {
        "id": "KBupF-2_mQzW"
      },
      "source": [
        "class Model(nn.Module):\n",
        "    def __init__(self, nH = 32): \n",
        "        super(Model, self).__init__()\n",
        "        self.classifier = nn.Sequential(\n",
        "            nn.Linear(784, nH),  # 28 x 28 = 784\n",
        "            nn.ReLU(),\n",
        "            nn.Linear(nH, 10)\n",
        "        )\n",
        "             \n",
        "    def forward(self, x):\n",
        "        x = x.view(x.size(0), -1)\n",
        "        x = self.classifier(x)\n",
        "        return x"
      ],
      "execution_count": 6,
      "outputs": []
    },
    {
      "cell_type": "code",
      "metadata": {
        "id": "fuUiv8EbmmSf"
      },
      "source": [
        "def train(epoch):\n",
        "    \n",
        "    model.train()\n",
        "    \n",
        "    for batch_id, data in enumerate(train_loader):\n",
        "        inputs, labels = data\n",
        "        \n",
        "        opt.zero_grad()\n",
        "        outputs = model(inputs)\n",
        "        loss = loss_fn(outputs, labels)\n",
        "        loss.backward()\n",
        "        opt.step()\n",
        "        \n",
        "        if batch_id % args.log_interval == 0:\n",
        "            pos = epoch * len(train_loader) + batch_id\n",
        "            mlflow.log_metric('train_loss', loss.data.item()/len(inputs)*1000)\n",
        "            \n",
        "            print('Train Epoch: {} [{}/{} ({:.0f}%)]\\tLoss: {:.3f}'.format(\n",
        "                epoch, batch_id * len(inputs), len(train_loader.dataset),\n",
        "                100. * batch_id / len(train_loader), loss.data.item()))"
      ],
      "execution_count": 7,
      "outputs": []
    },
    {
      "cell_type": "code",
      "metadata": {
        "id": "sGFrTnP9myhL"
      },
      "source": [
        "def test(epoch):\n",
        "    \n",
        "    model.eval()\n",
        "    test_loss = 0\n",
        "    correct = 0\n",
        "    confusion_matrix = np.zeros([10, 10])\n",
        "    \n",
        "    with torch.no_grad():\n",
        "        \n",
        "        for inputs, labels in test_loader:\n",
        "            outputs = model(inputs)\n",
        "            test_loss += loss_fn(outputs, labels).data.item()\n",
        "            pred = outputs.data.max(1)[1]\n",
        "            correct += pred.eq(labels.data).sum().item()\n",
        "            \n",
        "            for x, y in zip(pred.numpy(), labels.numpy()):\n",
        "                confusion_matrix[x][y] += 1\n",
        "            \n",
        "        test_loss /= len(test_loader.dataset)\n",
        "        test_accuracy = 100.0 * correct / len(test_loader.dataset)\n",
        "        \n",
        "        pos = (epoch + 1) * len(train_loader)\n",
        "        mlflow.log_metric('test_loss', test_loss*1000)\n",
        "        mlflow.log_metric('test_accuracy', test_accuracy)\n",
        "        \n",
        "        print('\\nTest set: Average loss: {:.4f}, Accuracy: {}/{} ({:.0f}%)\\n'.\n",
        "              format(test_loss, correct, len(test_loader.dataset), test_accuracy))\n",
        "        return correct\n",
        "        '''if epoch == args.epochs:\n",
        "            classes = np.arange(10)\n",
        "            fig, ax = plt.subplots()\n",
        "            im = ax.imshow(confusion_matrix, interpolation='nearest', cmap=plt.cm.Blues)\n",
        "            ax.figure.colorbar(im, ax=ax)\n",
        "            ax.set(xticks=np.arange(confusion_matrix.shape[1]),\n",
        "                       yticks=np.arange(confusion_matrix.shape[0]),\n",
        "                       xticklabels=classes, yticklabels=classes,\n",
        "                       ylabel='True label',\n",
        "                       xlabel='Predicted label',\n",
        "                       title='Epoch %d' % epoch)\n",
        "            thresh = confusion_matrix.max() / 2.\n",
        "            for i in range(confusion_matrix.shape[0]):\n",
        "                for j in range(confusion_matrix.shape[1]):\n",
        "                    ax.text(j, i, int(confusion_matrix[i, j]),\n",
        "                            ha=\"center\", va=\"center\",\n",
        "                            color=\"white\" if confusion_matrix[i, j] > thresh else \"black\")\n",
        "              \n",
        "            fig.tight_layout()\n",
        "              \n",
        "            #image_path = 'images/%s.png' % (expt_id)\n",
        "            #plt.savefig(image_path)\n",
        "            #mlflow.log_artifact(image_path)'''\n",
        "            "
      ],
      "execution_count": 8,
      "outputs": []
    },
    {
      "cell_type": "markdown",
      "metadata": {
        "id": "TVBFbrlim3bD"
      },
      "source": [
        "#Hyper-Parameter_tuning"
      ]
    },
    {
      "cell_type": "code",
      "metadata": {
        "id": "W03u9MVCrb84"
      },
      "source": [
        "class best_Params(object):\n",
        "    def __init__(self, Lr, epochs, Accuracy, mom, hidden):\n",
        "        self.LR = Lr\n",
        "        self.epochs = epochs\n",
        "        self.accuracy = Accuracy\n",
        "        self.mom_speed = mom\n",
        "        self.hidden_node = hidden"
      ],
      "execution_count": 13,
      "outputs": []
    },
    {
      "cell_type": "code",
      "metadata": {
        "id": "dlD9H08_r12h"
      },
      "source": [
        "best_params = best_Params(0,0,0,0,0)"
      ],
      "execution_count": 14,
      "outputs": []
    },
    {
      "cell_type": "code",
      "metadata": {
        "colab": {
          "base_uri": "https://localhost:8080/"
        },
        "id": "ZWqEOnSQm8cT",
        "outputId": "81da8cf3-da2e-4f07-87fe-ef9008b28935"
      },
      "source": [
        "# expt_id = mlflow.create_experiment('Fixed nH')\n",
        "\n",
        "mlflow.set_experiment('Fixed nH')\n",
        "min_ = 0\n",
        "for lr in [0.01, 0.02, 0.05, 0.1]:\n",
        "    for momentum in [0.9, 0.95, 0.99]:\n",
        "        for hidden_nodes in [16,24,32,48]:\n",
        "        \n",
        "            expt_id = '%d_%d_%d' % (int(lr*100), int(momentum*100), hidden_nodes)\n",
        "\n",
        "            print('\\nLR = %.2f, Momentum = %.2f, Hidden nodes = %d\\n' % (lr, momentum, hidden_nodes))\n",
        "\n",
        "            model = Model(hidden_nodes)\n",
        "\n",
        "            loss_fn = nn.CrossEntropyLoss()\n",
        "            opt = optim.SGD(model.parameters(), lr=lr, momentum = momentum)\n",
        "\n",
        "            with mlflow.start_run() as run:  \n",
        "                for key, value in vars(args).items():\n",
        "                    mlflow.log_param(key, value)\n",
        "                mlflow.log_param('lr', lr)\n",
        "                mlflow.log_param('momentum', momentum)\n",
        "                mlflow.log_param('hidden_nodes', hidden_nodes)\n",
        "\n",
        "                for epoch in range(1, args.epochs + 1):\n",
        "                    train(epoch)\n",
        "                    max_accuracy = test(epoch)\n",
        "                    if(max_accuracy > min_):\n",
        "                      min_ = max_accuracy\n",
        "                      best_params.LR = lr\n",
        "                      best_params.epochs = epoch\n",
        "                      best_params.accuracy = max_accuracy\n",
        "                      best_params.mom_speed = momentum\n",
        "                      best_params.hidden_node = hidden_nodes\n",
        "\n",
        "                mlflow.pytorch.log_model(model, \"models\")"
      ],
      "execution_count": 15,
      "outputs": [
        {
          "output_type": "stream",
          "name": "stdout",
          "text": [
            "\n",
            "LR = 0.01, Momentum = 0.90, Hidden nodes = 16\n",
            "\n",
            "Train Epoch: 1 [0/60000 (0%)]\tLoss: 2.325\n",
            "Train Epoch: 1 [5120/60000 (9%)]\tLoss: 1.295\n",
            "Train Epoch: 1 [10240/60000 (17%)]\tLoss: 0.636\n",
            "Train Epoch: 1 [15360/60000 (26%)]\tLoss: 0.507\n",
            "Train Epoch: 1 [20480/60000 (34%)]\tLoss: 0.373\n",
            "Train Epoch: 1 [25600/60000 (43%)]\tLoss: 0.555\n",
            "Train Epoch: 1 [30720/60000 (51%)]\tLoss: 0.282\n",
            "Train Epoch: 1 [35840/60000 (60%)]\tLoss: 0.422\n",
            "Train Epoch: 1 [40960/60000 (68%)]\tLoss: 0.365\n",
            "Train Epoch: 1 [46080/60000 (77%)]\tLoss: 0.374\n",
            "Train Epoch: 1 [51200/60000 (85%)]\tLoss: 0.289\n",
            "Train Epoch: 1 [56320/60000 (94%)]\tLoss: 0.311\n",
            "\n",
            "Test set: Average loss: 0.0012, Accuracy: 9087/10000 (91%)\n",
            "\n",
            "Train Epoch: 2 [0/60000 (0%)]\tLoss: 0.368\n",
            "Train Epoch: 2 [5120/60000 (9%)]\tLoss: 0.267\n",
            "Train Epoch: 2 [10240/60000 (17%)]\tLoss: 0.277\n",
            "Train Epoch: 2 [15360/60000 (26%)]\tLoss: 0.271\n",
            "Train Epoch: 2 [20480/60000 (34%)]\tLoss: 0.294\n",
            "Train Epoch: 2 [25600/60000 (43%)]\tLoss: 0.382\n",
            "Train Epoch: 2 [30720/60000 (51%)]\tLoss: 0.205\n",
            "Train Epoch: 2 [35840/60000 (60%)]\tLoss: 0.275\n",
            "Train Epoch: 2 [40960/60000 (68%)]\tLoss: 0.274\n",
            "Train Epoch: 2 [46080/60000 (77%)]\tLoss: 0.320\n",
            "Train Epoch: 2 [51200/60000 (85%)]\tLoss: 0.253\n",
            "Train Epoch: 2 [56320/60000 (94%)]\tLoss: 0.330\n",
            "\n",
            "Test set: Average loss: 0.0011, Accuracy: 9238/10000 (92%)\n",
            "\n",
            "Train Epoch: 3 [0/60000 (0%)]\tLoss: 0.269\n",
            "Train Epoch: 3 [5120/60000 (9%)]\tLoss: 0.241\n",
            "Train Epoch: 3 [10240/60000 (17%)]\tLoss: 0.228\n",
            "Train Epoch: 3 [15360/60000 (26%)]\tLoss: 0.227\n",
            "Train Epoch: 3 [20480/60000 (34%)]\tLoss: 0.299\n",
            "Train Epoch: 3 [25600/60000 (43%)]\tLoss: 0.213\n",
            "Train Epoch: 3 [30720/60000 (51%)]\tLoss: 0.258\n",
            "Train Epoch: 3 [35840/60000 (60%)]\tLoss: 0.188\n",
            "Train Epoch: 3 [40960/60000 (68%)]\tLoss: 0.244\n",
            "Train Epoch: 3 [46080/60000 (77%)]\tLoss: 0.311\n",
            "Train Epoch: 3 [51200/60000 (85%)]\tLoss: 0.224\n",
            "Train Epoch: 3 [56320/60000 (94%)]\tLoss: 0.256\n",
            "\n",
            "Test set: Average loss: 0.0009, Accuracy: 9306/10000 (93%)\n",
            "\n",
            "Train Epoch: 4 [0/60000 (0%)]\tLoss: 0.292\n",
            "Train Epoch: 4 [5120/60000 (9%)]\tLoss: 0.179\n",
            "Train Epoch: 4 [10240/60000 (17%)]\tLoss: 0.294\n",
            "Train Epoch: 4 [15360/60000 (26%)]\tLoss: 0.308\n",
            "Train Epoch: 4 [20480/60000 (34%)]\tLoss: 0.215\n",
            "Train Epoch: 4 [25600/60000 (43%)]\tLoss: 0.191\n",
            "Train Epoch: 4 [30720/60000 (51%)]\tLoss: 0.213\n",
            "Train Epoch: 4 [35840/60000 (60%)]\tLoss: 0.232\n",
            "Train Epoch: 4 [40960/60000 (68%)]\tLoss: 0.158\n",
            "Train Epoch: 4 [46080/60000 (77%)]\tLoss: 0.257\n",
            "Train Epoch: 4 [51200/60000 (85%)]\tLoss: 0.264\n",
            "Train Epoch: 4 [56320/60000 (94%)]\tLoss: 0.127\n"
          ]
        },
        {
          "output_type": "stream",
          "name": "stderr",
          "text": [
            "2021/10/18 12:28:42 WARNING mlflow.utils.requirements_utils: Found torch version (1.9.0+cu111) contains a local version label (+cu111). MLflow logged a pip requirement for this package as 'torch==1.9.0' without the local version label to make it installable from PyPI. To specify pip requirements containing local version labels, please use `conda_env` or `pip_requirements`.\n",
            "2021/10/18 12:28:42 WARNING mlflow.utils.requirements_utils: Found torchvision version (0.10.0+cu111) contains a local version label (+cu111). MLflow logged a pip requirement for this package as 'torchvision==0.10.0' without the local version label to make it installable from PyPI. To specify pip requirements containing local version labels, please use `conda_env` or `pip_requirements`.\n"
          ]
        },
        {
          "output_type": "stream",
          "name": "stdout",
          "text": [
            "\n",
            "Test set: Average loss: 0.0008, Accuracy: 9378/10000 (94%)\n",
            "\n"
          ]
        },
        {
          "output_type": "stream",
          "name": "stderr",
          "text": [
            "2021/10/18 12:28:45 WARNING mlflow.utils.requirements_utils: Found torch version (1.9.0+cu111) contains a local version label (+cu111). MLflow logged a pip requirement for this package as 'torch==1.9.0' without the local version label to make it installable from PyPI. To specify pip requirements containing local version labels, please use `conda_env` or `pip_requirements`.\n"
          ]
        },
        {
          "output_type": "stream",
          "name": "stdout",
          "text": [
            "\n",
            "LR = 0.01, Momentum = 0.90, Hidden nodes = 24\n",
            "\n",
            "Train Epoch: 1 [0/60000 (0%)]\tLoss: 2.296\n",
            "Train Epoch: 1 [5120/60000 (9%)]\tLoss: 1.150\n",
            "Train Epoch: 1 [10240/60000 (17%)]\tLoss: 0.498\n",
            "Train Epoch: 1 [15360/60000 (26%)]\tLoss: 0.551\n",
            "Train Epoch: 1 [20480/60000 (34%)]\tLoss: 0.469\n",
            "Train Epoch: 1 [25600/60000 (43%)]\tLoss: 0.380\n",
            "Train Epoch: 1 [30720/60000 (51%)]\tLoss: 0.295\n",
            "Train Epoch: 1 [35840/60000 (60%)]\tLoss: 0.286\n",
            "Train Epoch: 1 [40960/60000 (68%)]\tLoss: 0.292\n",
            "Train Epoch: 1 [46080/60000 (77%)]\tLoss: 0.326\n",
            "Train Epoch: 1 [51200/60000 (85%)]\tLoss: 0.349\n",
            "Train Epoch: 1 [56320/60000 (94%)]\tLoss: 0.164\n",
            "\n",
            "Test set: Average loss: 0.0012, Accuracy: 9141/10000 (91%)\n",
            "\n",
            "Train Epoch: 2 [0/60000 (0%)]\tLoss: 0.264\n",
            "Train Epoch: 2 [5120/60000 (9%)]\tLoss: 0.379\n",
            "Train Epoch: 2 [10240/60000 (17%)]\tLoss: 0.367\n",
            "Train Epoch: 2 [15360/60000 (26%)]\tLoss: 0.278\n",
            "Train Epoch: 2 [20480/60000 (34%)]\tLoss: 0.222\n",
            "Train Epoch: 2 [25600/60000 (43%)]\tLoss: 0.353\n",
            "Train Epoch: 2 [30720/60000 (51%)]\tLoss: 0.239\n",
            "Train Epoch: 2 [35840/60000 (60%)]\tLoss: 0.314\n",
            "Train Epoch: 2 [40960/60000 (68%)]\tLoss: 0.256\n",
            "Train Epoch: 2 [46080/60000 (77%)]\tLoss: 0.239\n",
            "Train Epoch: 2 [51200/60000 (85%)]\tLoss: 0.267\n",
            "Train Epoch: 2 [56320/60000 (94%)]\tLoss: 0.249\n",
            "\n",
            "Test set: Average loss: 0.0009, Accuracy: 9315/10000 (93%)\n",
            "\n",
            "Train Epoch: 3 [0/60000 (0%)]\tLoss: 0.174\n",
            "Train Epoch: 3 [5120/60000 (9%)]\tLoss: 0.218\n",
            "Train Epoch: 3 [10240/60000 (17%)]\tLoss: 0.201\n",
            "Train Epoch: 3 [15360/60000 (26%)]\tLoss: 0.292\n",
            "Train Epoch: 3 [20480/60000 (34%)]\tLoss: 0.206\n",
            "Train Epoch: 3 [25600/60000 (43%)]\tLoss: 0.193\n",
            "Train Epoch: 3 [30720/60000 (51%)]\tLoss: 0.164\n",
            "Train Epoch: 3 [35840/60000 (60%)]\tLoss: 0.278\n",
            "Train Epoch: 3 [40960/60000 (68%)]\tLoss: 0.199\n",
            "Train Epoch: 3 [46080/60000 (77%)]\tLoss: 0.246\n",
            "Train Epoch: 3 [51200/60000 (85%)]\tLoss: 0.305\n",
            "Train Epoch: 3 [56320/60000 (94%)]\tLoss: 0.168\n",
            "\n",
            "Test set: Average loss: 0.0008, Accuracy: 9405/10000 (94%)\n",
            "\n",
            "Train Epoch: 4 [0/60000 (0%)]\tLoss: 0.210\n",
            "Train Epoch: 4 [5120/60000 (9%)]\tLoss: 0.205\n",
            "Train Epoch: 4 [10240/60000 (17%)]\tLoss: 0.241\n",
            "Train Epoch: 4 [15360/60000 (26%)]\tLoss: 0.136\n",
            "Train Epoch: 4 [20480/60000 (34%)]\tLoss: 0.222\n",
            "Train Epoch: 4 [25600/60000 (43%)]\tLoss: 0.179\n",
            "Train Epoch: 4 [30720/60000 (51%)]\tLoss: 0.196\n",
            "Train Epoch: 4 [35840/60000 (60%)]\tLoss: 0.117\n",
            "Train Epoch: 4 [40960/60000 (68%)]\tLoss: 0.147\n",
            "Train Epoch: 4 [46080/60000 (77%)]\tLoss: 0.156\n",
            "Train Epoch: 4 [51200/60000 (85%)]\tLoss: 0.161\n",
            "Train Epoch: 4 [56320/60000 (94%)]\tLoss: 0.254\n"
          ]
        },
        {
          "output_type": "stream",
          "name": "stderr",
          "text": [
            "2021/10/18 12:29:29 WARNING mlflow.utils.requirements_utils: Found torch version (1.9.0+cu111) contains a local version label (+cu111). MLflow logged a pip requirement for this package as 'torch==1.9.0' without the local version label to make it installable from PyPI. To specify pip requirements containing local version labels, please use `conda_env` or `pip_requirements`.\n",
            "2021/10/18 12:29:29 WARNING mlflow.utils.requirements_utils: Found torchvision version (0.10.0+cu111) contains a local version label (+cu111). MLflow logged a pip requirement for this package as 'torchvision==0.10.0' without the local version label to make it installable from PyPI. To specify pip requirements containing local version labels, please use `conda_env` or `pip_requirements`.\n"
          ]
        },
        {
          "output_type": "stream",
          "name": "stdout",
          "text": [
            "\n",
            "Test set: Average loss: 0.0007, Accuracy: 9462/10000 (95%)\n",
            "\n"
          ]
        },
        {
          "output_type": "stream",
          "name": "stderr",
          "text": [
            "2021/10/18 12:29:32 WARNING mlflow.utils.requirements_utils: Found torch version (1.9.0+cu111) contains a local version label (+cu111). MLflow logged a pip requirement for this package as 'torch==1.9.0' without the local version label to make it installable from PyPI. To specify pip requirements containing local version labels, please use `conda_env` or `pip_requirements`.\n"
          ]
        },
        {
          "output_type": "stream",
          "name": "stdout",
          "text": [
            "\n",
            "LR = 0.01, Momentum = 0.90, Hidden nodes = 32\n",
            "\n",
            "Train Epoch: 1 [0/60000 (0%)]\tLoss: 2.356\n",
            "Train Epoch: 1 [5120/60000 (9%)]\tLoss: 1.054\n",
            "Train Epoch: 1 [10240/60000 (17%)]\tLoss: 0.602\n",
            "Train Epoch: 1 [15360/60000 (26%)]\tLoss: 0.393\n",
            "Train Epoch: 1 [20480/60000 (34%)]\tLoss: 0.419\n",
            "Train Epoch: 1 [25600/60000 (43%)]\tLoss: 0.340\n",
            "Train Epoch: 1 [30720/60000 (51%)]\tLoss: 0.355\n",
            "Train Epoch: 1 [35840/60000 (60%)]\tLoss: 0.377\n",
            "Train Epoch: 1 [40960/60000 (68%)]\tLoss: 0.197\n",
            "Train Epoch: 1 [46080/60000 (77%)]\tLoss: 0.263\n",
            "Train Epoch: 1 [51200/60000 (85%)]\tLoss: 0.212\n",
            "Train Epoch: 1 [56320/60000 (94%)]\tLoss: 0.244\n",
            "\n",
            "Test set: Average loss: 0.0011, Accuracy: 9212/10000 (92%)\n",
            "\n",
            "Train Epoch: 2 [0/60000 (0%)]\tLoss: 0.260\n",
            "Train Epoch: 2 [5120/60000 (9%)]\tLoss: 0.275\n",
            "Train Epoch: 2 [10240/60000 (17%)]\tLoss: 0.329\n",
            "Train Epoch: 2 [15360/60000 (26%)]\tLoss: 0.244\n",
            "Train Epoch: 2 [20480/60000 (34%)]\tLoss: 0.215\n",
            "Train Epoch: 2 [25600/60000 (43%)]\tLoss: 0.234\n",
            "Train Epoch: 2 [30720/60000 (51%)]\tLoss: 0.265\n",
            "Train Epoch: 2 [35840/60000 (60%)]\tLoss: 0.208\n",
            "Train Epoch: 2 [40960/60000 (68%)]\tLoss: 0.240\n",
            "Train Epoch: 2 [46080/60000 (77%)]\tLoss: 0.211\n",
            "Train Epoch: 2 [51200/60000 (85%)]\tLoss: 0.201\n",
            "Train Epoch: 2 [56320/60000 (94%)]\tLoss: 0.177\n",
            "\n",
            "Test set: Average loss: 0.0008, Accuracy: 9392/10000 (94%)\n",
            "\n",
            "Train Epoch: 3 [0/60000 (0%)]\tLoss: 0.181\n",
            "Train Epoch: 3 [5120/60000 (9%)]\tLoss: 0.258\n",
            "Train Epoch: 3 [10240/60000 (17%)]\tLoss: 0.227\n",
            "Train Epoch: 3 [15360/60000 (26%)]\tLoss: 0.230\n",
            "Train Epoch: 3 [20480/60000 (34%)]\tLoss: 0.167\n",
            "Train Epoch: 3 [25600/60000 (43%)]\tLoss: 0.187\n",
            "Train Epoch: 3 [30720/60000 (51%)]\tLoss: 0.117\n",
            "Train Epoch: 3 [35840/60000 (60%)]\tLoss: 0.244\n",
            "Train Epoch: 3 [40960/60000 (68%)]\tLoss: 0.215\n",
            "Train Epoch: 3 [46080/60000 (77%)]\tLoss: 0.246\n",
            "Train Epoch: 3 [51200/60000 (85%)]\tLoss: 0.229\n",
            "Train Epoch: 3 [56320/60000 (94%)]\tLoss: 0.228\n",
            "\n",
            "Test set: Average loss: 0.0007, Accuracy: 9490/10000 (95%)\n",
            "\n",
            "Train Epoch: 4 [0/60000 (0%)]\tLoss: 0.196\n",
            "Train Epoch: 4 [5120/60000 (9%)]\tLoss: 0.236\n",
            "Train Epoch: 4 [10240/60000 (17%)]\tLoss: 0.280\n",
            "Train Epoch: 4 [15360/60000 (26%)]\tLoss: 0.124\n",
            "Train Epoch: 4 [20480/60000 (34%)]\tLoss: 0.226\n",
            "Train Epoch: 4 [25600/60000 (43%)]\tLoss: 0.129\n",
            "Train Epoch: 4 [30720/60000 (51%)]\tLoss: 0.250\n",
            "Train Epoch: 4 [35840/60000 (60%)]\tLoss: 0.193\n",
            "Train Epoch: 4 [40960/60000 (68%)]\tLoss: 0.204\n",
            "Train Epoch: 4 [46080/60000 (77%)]\tLoss: 0.128\n",
            "Train Epoch: 4 [51200/60000 (85%)]\tLoss: 0.113\n",
            "Train Epoch: 4 [56320/60000 (94%)]\tLoss: 0.157\n"
          ]
        },
        {
          "output_type": "stream",
          "name": "stderr",
          "text": [
            "2021/10/18 12:30:16 WARNING mlflow.utils.requirements_utils: Found torch version (1.9.0+cu111) contains a local version label (+cu111). MLflow logged a pip requirement for this package as 'torch==1.9.0' without the local version label to make it installable from PyPI. To specify pip requirements containing local version labels, please use `conda_env` or `pip_requirements`.\n",
            "2021/10/18 12:30:16 WARNING mlflow.utils.requirements_utils: Found torchvision version (0.10.0+cu111) contains a local version label (+cu111). MLflow logged a pip requirement for this package as 'torchvision==0.10.0' without the local version label to make it installable from PyPI. To specify pip requirements containing local version labels, please use `conda_env` or `pip_requirements`.\n"
          ]
        },
        {
          "output_type": "stream",
          "name": "stdout",
          "text": [
            "\n",
            "Test set: Average loss: 0.0006, Accuracy: 9527/10000 (95%)\n",
            "\n"
          ]
        },
        {
          "output_type": "stream",
          "name": "stderr",
          "text": [
            "2021/10/18 12:30:19 WARNING mlflow.utils.requirements_utils: Found torch version (1.9.0+cu111) contains a local version label (+cu111). MLflow logged a pip requirement for this package as 'torch==1.9.0' without the local version label to make it installable from PyPI. To specify pip requirements containing local version labels, please use `conda_env` or `pip_requirements`.\n"
          ]
        },
        {
          "output_type": "stream",
          "name": "stdout",
          "text": [
            "\n",
            "LR = 0.01, Momentum = 0.90, Hidden nodes = 48\n",
            "\n",
            "Train Epoch: 1 [0/60000 (0%)]\tLoss: 2.341\n",
            "Train Epoch: 1 [5120/60000 (9%)]\tLoss: 0.921\n",
            "Train Epoch: 1 [10240/60000 (17%)]\tLoss: 0.525\n",
            "Train Epoch: 1 [15360/60000 (26%)]\tLoss: 0.383\n",
            "Train Epoch: 1 [20480/60000 (34%)]\tLoss: 0.387\n",
            "Train Epoch: 1 [25600/60000 (43%)]\tLoss: 0.399\n",
            "Train Epoch: 1 [30720/60000 (51%)]\tLoss: 0.377\n",
            "Train Epoch: 1 [35840/60000 (60%)]\tLoss: 0.398\n",
            "Train Epoch: 1 [40960/60000 (68%)]\tLoss: 0.264\n",
            "Train Epoch: 1 [46080/60000 (77%)]\tLoss: 0.347\n",
            "Train Epoch: 1 [51200/60000 (85%)]\tLoss: 0.264\n",
            "Train Epoch: 1 [56320/60000 (94%)]\tLoss: 0.320\n",
            "\n",
            "Test set: Average loss: 0.0011, Accuracy: 9215/10000 (92%)\n",
            "\n",
            "Train Epoch: 2 [0/60000 (0%)]\tLoss: 0.224\n",
            "Train Epoch: 2 [5120/60000 (9%)]\tLoss: 0.245\n",
            "Train Epoch: 2 [10240/60000 (17%)]\tLoss: 0.246\n",
            "Train Epoch: 2 [15360/60000 (26%)]\tLoss: 0.365\n",
            "Train Epoch: 2 [20480/60000 (34%)]\tLoss: 0.236\n",
            "Train Epoch: 2 [25600/60000 (43%)]\tLoss: 0.247\n",
            "Train Epoch: 2 [30720/60000 (51%)]\tLoss: 0.313\n",
            "Train Epoch: 2 [35840/60000 (60%)]\tLoss: 0.351\n",
            "Train Epoch: 2 [40960/60000 (68%)]\tLoss: 0.314\n",
            "Train Epoch: 2 [46080/60000 (77%)]\tLoss: 0.147\n",
            "Train Epoch: 2 [51200/60000 (85%)]\tLoss: 0.182\n",
            "Train Epoch: 2 [56320/60000 (94%)]\tLoss: 0.202\n",
            "\n",
            "Test set: Average loss: 0.0008, Accuracy: 9396/10000 (94%)\n",
            "\n",
            "Train Epoch: 3 [0/60000 (0%)]\tLoss: 0.212\n",
            "Train Epoch: 3 [5120/60000 (9%)]\tLoss: 0.196\n",
            "Train Epoch: 3 [10240/60000 (17%)]\tLoss: 0.201\n",
            "Train Epoch: 3 [15360/60000 (26%)]\tLoss: 0.160\n",
            "Train Epoch: 3 [20480/60000 (34%)]\tLoss: 0.183\n",
            "Train Epoch: 3 [25600/60000 (43%)]\tLoss: 0.280\n",
            "Train Epoch: 3 [30720/60000 (51%)]\tLoss: 0.186\n",
            "Train Epoch: 3 [35840/60000 (60%)]\tLoss: 0.170\n",
            "Train Epoch: 3 [40960/60000 (68%)]\tLoss: 0.169\n",
            "Train Epoch: 3 [46080/60000 (77%)]\tLoss: 0.166\n",
            "Train Epoch: 3 [51200/60000 (85%)]\tLoss: 0.258\n",
            "Train Epoch: 3 [56320/60000 (94%)]\tLoss: 0.203\n",
            "\n",
            "Test set: Average loss: 0.0007, Accuracy: 9479/10000 (95%)\n",
            "\n",
            "Train Epoch: 4 [0/60000 (0%)]\tLoss: 0.148\n",
            "Train Epoch: 4 [5120/60000 (9%)]\tLoss: 0.112\n",
            "Train Epoch: 4 [10240/60000 (17%)]\tLoss: 0.108\n",
            "Train Epoch: 4 [15360/60000 (26%)]\tLoss: 0.204\n",
            "Train Epoch: 4 [20480/60000 (34%)]\tLoss: 0.105\n",
            "Train Epoch: 4 [25600/60000 (43%)]\tLoss: 0.205\n",
            "Train Epoch: 4 [30720/60000 (51%)]\tLoss: 0.161\n",
            "Train Epoch: 4 [35840/60000 (60%)]\tLoss: 0.133\n",
            "Train Epoch: 4 [40960/60000 (68%)]\tLoss: 0.127\n",
            "Train Epoch: 4 [46080/60000 (77%)]\tLoss: 0.166\n",
            "Train Epoch: 4 [51200/60000 (85%)]\tLoss: 0.215\n",
            "Train Epoch: 4 [56320/60000 (94%)]\tLoss: 0.176\n"
          ]
        },
        {
          "output_type": "stream",
          "name": "stderr",
          "text": [
            "2021/10/18 12:31:04 WARNING mlflow.utils.requirements_utils: Found torch version (1.9.0+cu111) contains a local version label (+cu111). MLflow logged a pip requirement for this package as 'torch==1.9.0' without the local version label to make it installable from PyPI. To specify pip requirements containing local version labels, please use `conda_env` or `pip_requirements`.\n",
            "2021/10/18 12:31:04 WARNING mlflow.utils.requirements_utils: Found torchvision version (0.10.0+cu111) contains a local version label (+cu111). MLflow logged a pip requirement for this package as 'torchvision==0.10.0' without the local version label to make it installable from PyPI. To specify pip requirements containing local version labels, please use `conda_env` or `pip_requirements`.\n"
          ]
        },
        {
          "output_type": "stream",
          "name": "stdout",
          "text": [
            "\n",
            "Test set: Average loss: 0.0006, Accuracy: 9525/10000 (95%)\n",
            "\n"
          ]
        },
        {
          "output_type": "stream",
          "name": "stderr",
          "text": [
            "2021/10/18 12:31:06 WARNING mlflow.utils.requirements_utils: Found torch version (1.9.0+cu111) contains a local version label (+cu111). MLflow logged a pip requirement for this package as 'torch==1.9.0' without the local version label to make it installable from PyPI. To specify pip requirements containing local version labels, please use `conda_env` or `pip_requirements`.\n"
          ]
        },
        {
          "output_type": "stream",
          "name": "stdout",
          "text": [
            "\n",
            "LR = 0.01, Momentum = 0.95, Hidden nodes = 16\n",
            "\n",
            "Train Epoch: 1 [0/60000 (0%)]\tLoss: 2.333\n",
            "Train Epoch: 1 [5120/60000 (9%)]\tLoss: 1.069\n",
            "Train Epoch: 1 [10240/60000 (17%)]\tLoss: 0.566\n",
            "Train Epoch: 1 [15360/60000 (26%)]\tLoss: 0.359\n",
            "Train Epoch: 1 [20480/60000 (34%)]\tLoss: 0.352\n",
            "Train Epoch: 1 [25600/60000 (43%)]\tLoss: 0.386\n",
            "Train Epoch: 1 [30720/60000 (51%)]\tLoss: 0.337\n",
            "Train Epoch: 1 [35840/60000 (60%)]\tLoss: 0.324\n",
            "Train Epoch: 1 [40960/60000 (68%)]\tLoss: 0.359\n",
            "Train Epoch: 1 [46080/60000 (77%)]\tLoss: 0.223\n",
            "Train Epoch: 1 [51200/60000 (85%)]\tLoss: 0.280\n",
            "Train Epoch: 1 [56320/60000 (94%)]\tLoss: 0.331\n",
            "\n",
            "Test set: Average loss: 0.0011, Accuracy: 9172/10000 (92%)\n",
            "\n",
            "Train Epoch: 2 [0/60000 (0%)]\tLoss: 0.341\n",
            "Train Epoch: 2 [5120/60000 (9%)]\tLoss: 0.308\n",
            "Train Epoch: 2 [10240/60000 (17%)]\tLoss: 0.278\n",
            "Train Epoch: 2 [15360/60000 (26%)]\tLoss: 0.324\n",
            "Train Epoch: 2 [20480/60000 (34%)]\tLoss: 0.155\n",
            "Train Epoch: 2 [25600/60000 (43%)]\tLoss: 0.230\n",
            "Train Epoch: 2 [30720/60000 (51%)]\tLoss: 0.331\n",
            "Train Epoch: 2 [35840/60000 (60%)]\tLoss: 0.261\n",
            "Train Epoch: 2 [40960/60000 (68%)]\tLoss: 0.347\n",
            "Train Epoch: 2 [46080/60000 (77%)]\tLoss: 0.240\n",
            "Train Epoch: 2 [51200/60000 (85%)]\tLoss: 0.306\n",
            "Train Epoch: 2 [56320/60000 (94%)]\tLoss: 0.218\n",
            "\n",
            "Test set: Average loss: 0.0009, Accuracy: 9313/10000 (93%)\n",
            "\n",
            "Train Epoch: 3 [0/60000 (0%)]\tLoss: 0.288\n",
            "Train Epoch: 3 [5120/60000 (9%)]\tLoss: 0.270\n",
            "Train Epoch: 3 [10240/60000 (17%)]\tLoss: 0.242\n",
            "Train Epoch: 3 [15360/60000 (26%)]\tLoss: 0.217\n",
            "Train Epoch: 3 [20480/60000 (34%)]\tLoss: 0.198\n",
            "Train Epoch: 3 [25600/60000 (43%)]\tLoss: 0.202\n",
            "Train Epoch: 3 [30720/60000 (51%)]\tLoss: 0.187\n",
            "Train Epoch: 3 [35840/60000 (60%)]\tLoss: 0.234\n",
            "Train Epoch: 3 [40960/60000 (68%)]\tLoss: 0.217\n",
            "Train Epoch: 3 [46080/60000 (77%)]\tLoss: 0.265\n",
            "Train Epoch: 3 [51200/60000 (85%)]\tLoss: 0.184\n",
            "Train Epoch: 3 [56320/60000 (94%)]\tLoss: 0.213\n",
            "\n",
            "Test set: Average loss: 0.0009, Accuracy: 9345/10000 (93%)\n",
            "\n",
            "Train Epoch: 4 [0/60000 (0%)]\tLoss: 0.236\n",
            "Train Epoch: 4 [5120/60000 (9%)]\tLoss: 0.262\n",
            "Train Epoch: 4 [10240/60000 (17%)]\tLoss: 0.211\n",
            "Train Epoch: 4 [15360/60000 (26%)]\tLoss: 0.228\n",
            "Train Epoch: 4 [20480/60000 (34%)]\tLoss: 0.093\n",
            "Train Epoch: 4 [25600/60000 (43%)]\tLoss: 0.301\n",
            "Train Epoch: 4 [30720/60000 (51%)]\tLoss: 0.192\n",
            "Train Epoch: 4 [35840/60000 (60%)]\tLoss: 0.300\n",
            "Train Epoch: 4 [40960/60000 (68%)]\tLoss: 0.185\n",
            "Train Epoch: 4 [46080/60000 (77%)]\tLoss: 0.161\n",
            "Train Epoch: 4 [51200/60000 (85%)]\tLoss: 0.229\n",
            "Train Epoch: 4 [56320/60000 (94%)]\tLoss: 0.246\n"
          ]
        },
        {
          "output_type": "stream",
          "name": "stderr",
          "text": [
            "2021/10/18 12:31:50 WARNING mlflow.utils.requirements_utils: Found torch version (1.9.0+cu111) contains a local version label (+cu111). MLflow logged a pip requirement for this package as 'torch==1.9.0' without the local version label to make it installable from PyPI. To specify pip requirements containing local version labels, please use `conda_env` or `pip_requirements`.\n",
            "2021/10/18 12:31:50 WARNING mlflow.utils.requirements_utils: Found torchvision version (0.10.0+cu111) contains a local version label (+cu111). MLflow logged a pip requirement for this package as 'torchvision==0.10.0' without the local version label to make it installable from PyPI. To specify pip requirements containing local version labels, please use `conda_env` or `pip_requirements`.\n"
          ]
        },
        {
          "output_type": "stream",
          "name": "stdout",
          "text": [
            "\n",
            "Test set: Average loss: 0.0008, Accuracy: 9373/10000 (94%)\n",
            "\n"
          ]
        },
        {
          "output_type": "stream",
          "name": "stderr",
          "text": [
            "2021/10/18 12:31:53 WARNING mlflow.utils.requirements_utils: Found torch version (1.9.0+cu111) contains a local version label (+cu111). MLflow logged a pip requirement for this package as 'torch==1.9.0' without the local version label to make it installable from PyPI. To specify pip requirements containing local version labels, please use `conda_env` or `pip_requirements`.\n"
          ]
        },
        {
          "output_type": "stream",
          "name": "stdout",
          "text": [
            "\n",
            "LR = 0.01, Momentum = 0.95, Hidden nodes = 24\n",
            "\n",
            "Train Epoch: 1 [0/60000 (0%)]\tLoss: 2.376\n",
            "Train Epoch: 1 [5120/60000 (9%)]\tLoss: 0.908\n",
            "Train Epoch: 1 [10240/60000 (17%)]\tLoss: 0.397\n",
            "Train Epoch: 1 [15360/60000 (26%)]\tLoss: 0.573\n",
            "Train Epoch: 1 [20480/60000 (34%)]\tLoss: 0.474\n",
            "Train Epoch: 1 [25600/60000 (43%)]\tLoss: 0.431\n",
            "Train Epoch: 1 [30720/60000 (51%)]\tLoss: 0.410\n",
            "Train Epoch: 1 [35840/60000 (60%)]\tLoss: 0.304\n",
            "Train Epoch: 1 [40960/60000 (68%)]\tLoss: 0.254\n",
            "Train Epoch: 1 [46080/60000 (77%)]\tLoss: 0.272\n",
            "Train Epoch: 1 [51200/60000 (85%)]\tLoss: 0.231\n",
            "Train Epoch: 1 [56320/60000 (94%)]\tLoss: 0.227\n",
            "\n",
            "Test set: Average loss: 0.0009, Accuracy: 9302/10000 (93%)\n",
            "\n",
            "Train Epoch: 2 [0/60000 (0%)]\tLoss: 0.208\n",
            "Train Epoch: 2 [5120/60000 (9%)]\tLoss: 0.169\n",
            "Train Epoch: 2 [10240/60000 (17%)]\tLoss: 0.300\n",
            "Train Epoch: 2 [15360/60000 (26%)]\tLoss: 0.343\n",
            "Train Epoch: 2 [20480/60000 (34%)]\tLoss: 0.195\n",
            "Train Epoch: 2 [25600/60000 (43%)]\tLoss: 0.251\n",
            "Train Epoch: 2 [30720/60000 (51%)]\tLoss: 0.228\n",
            "Train Epoch: 2 [35840/60000 (60%)]\tLoss: 0.140\n",
            "Train Epoch: 2 [40960/60000 (68%)]\tLoss: 0.302\n",
            "Train Epoch: 2 [46080/60000 (77%)]\tLoss: 0.163\n",
            "Train Epoch: 2 [51200/60000 (85%)]\tLoss: 0.237\n",
            "Train Epoch: 2 [56320/60000 (94%)]\tLoss: 0.138\n",
            "\n",
            "Test set: Average loss: 0.0008, Accuracy: 9412/10000 (94%)\n",
            "\n",
            "Train Epoch: 3 [0/60000 (0%)]\tLoss: 0.211\n",
            "Train Epoch: 3 [5120/60000 (9%)]\tLoss: 0.149\n",
            "Train Epoch: 3 [10240/60000 (17%)]\tLoss: 0.180\n",
            "Train Epoch: 3 [15360/60000 (26%)]\tLoss: 0.237\n",
            "Train Epoch: 3 [20480/60000 (34%)]\tLoss: 0.192\n",
            "Train Epoch: 3 [25600/60000 (43%)]\tLoss: 0.171\n",
            "Train Epoch: 3 [30720/60000 (51%)]\tLoss: 0.215\n",
            "Train Epoch: 3 [35840/60000 (60%)]\tLoss: 0.209\n",
            "Train Epoch: 3 [40960/60000 (68%)]\tLoss: 0.146\n",
            "Train Epoch: 3 [46080/60000 (77%)]\tLoss: 0.202\n",
            "Train Epoch: 3 [51200/60000 (85%)]\tLoss: 0.139\n",
            "Train Epoch: 3 [56320/60000 (94%)]\tLoss: 0.139\n",
            "\n",
            "Test set: Average loss: 0.0007, Accuracy: 9430/10000 (94%)\n",
            "\n",
            "Train Epoch: 4 [0/60000 (0%)]\tLoss: 0.155\n",
            "Train Epoch: 4 [5120/60000 (9%)]\tLoss: 0.165\n",
            "Train Epoch: 4 [10240/60000 (17%)]\tLoss: 0.155\n",
            "Train Epoch: 4 [15360/60000 (26%)]\tLoss: 0.193\n",
            "Train Epoch: 4 [20480/60000 (34%)]\tLoss: 0.167\n",
            "Train Epoch: 4 [25600/60000 (43%)]\tLoss: 0.253\n",
            "Train Epoch: 4 [30720/60000 (51%)]\tLoss: 0.161\n",
            "Train Epoch: 4 [35840/60000 (60%)]\tLoss: 0.145\n",
            "Train Epoch: 4 [40960/60000 (68%)]\tLoss: 0.159\n",
            "Train Epoch: 4 [46080/60000 (77%)]\tLoss: 0.121\n",
            "Train Epoch: 4 [51200/60000 (85%)]\tLoss: 0.176\n",
            "Train Epoch: 4 [56320/60000 (94%)]\tLoss: 0.211\n"
          ]
        },
        {
          "output_type": "stream",
          "name": "stderr",
          "text": [
            "2021/10/18 12:32:40 WARNING mlflow.utils.requirements_utils: Found torch version (1.9.0+cu111) contains a local version label (+cu111). MLflow logged a pip requirement for this package as 'torch==1.9.0' without the local version label to make it installable from PyPI. To specify pip requirements containing local version labels, please use `conda_env` or `pip_requirements`.\n",
            "2021/10/18 12:32:40 WARNING mlflow.utils.requirements_utils: Found torchvision version (0.10.0+cu111) contains a local version label (+cu111). MLflow logged a pip requirement for this package as 'torchvision==0.10.0' without the local version label to make it installable from PyPI. To specify pip requirements containing local version labels, please use `conda_env` or `pip_requirements`.\n"
          ]
        },
        {
          "output_type": "stream",
          "name": "stdout",
          "text": [
            "\n",
            "Test set: Average loss: 0.0006, Accuracy: 9517/10000 (95%)\n",
            "\n"
          ]
        },
        {
          "output_type": "stream",
          "name": "stderr",
          "text": [
            "2021/10/18 12:32:44 WARNING mlflow.utils.requirements_utils: Found torch version (1.9.0+cu111) contains a local version label (+cu111). MLflow logged a pip requirement for this package as 'torch==1.9.0' without the local version label to make it installable from PyPI. To specify pip requirements containing local version labels, please use `conda_env` or `pip_requirements`.\n"
          ]
        },
        {
          "output_type": "stream",
          "name": "stdout",
          "text": [
            "\n",
            "LR = 0.01, Momentum = 0.95, Hidden nodes = 32\n",
            "\n",
            "Train Epoch: 1 [0/60000 (0%)]\tLoss: 2.333\n",
            "Train Epoch: 1 [5120/60000 (9%)]\tLoss: 0.911\n",
            "Train Epoch: 1 [10240/60000 (17%)]\tLoss: 0.441\n",
            "Train Epoch: 1 [15360/60000 (26%)]\tLoss: 0.404\n",
            "Train Epoch: 1 [20480/60000 (34%)]\tLoss: 0.334\n",
            "Train Epoch: 1 [25600/60000 (43%)]\tLoss: 0.319\n",
            "Train Epoch: 1 [30720/60000 (51%)]\tLoss: 0.357\n",
            "Train Epoch: 1 [35840/60000 (60%)]\tLoss: 0.344\n",
            "Train Epoch: 1 [40960/60000 (68%)]\tLoss: 0.298\n",
            "Train Epoch: 1 [46080/60000 (77%)]\tLoss: 0.306\n",
            "Train Epoch: 1 [51200/60000 (85%)]\tLoss: 0.334\n",
            "Train Epoch: 1 [56320/60000 (94%)]\tLoss: 0.261\n",
            "\n",
            "Test set: Average loss: 0.0011, Accuracy: 9244/10000 (92%)\n",
            "\n",
            "Train Epoch: 2 [0/60000 (0%)]\tLoss: 0.345\n",
            "Train Epoch: 2 [5120/60000 (9%)]\tLoss: 0.286\n",
            "Train Epoch: 2 [10240/60000 (17%)]\tLoss: 0.312\n",
            "Train Epoch: 2 [15360/60000 (26%)]\tLoss: 0.209\n",
            "Train Epoch: 2 [20480/60000 (34%)]\tLoss: 0.280\n",
            "Train Epoch: 2 [25600/60000 (43%)]\tLoss: 0.262\n",
            "Train Epoch: 2 [30720/60000 (51%)]\tLoss: 0.256\n",
            "Train Epoch: 2 [35840/60000 (60%)]\tLoss: 0.177\n",
            "Train Epoch: 2 [40960/60000 (68%)]\tLoss: 0.218\n",
            "Train Epoch: 2 [46080/60000 (77%)]\tLoss: 0.200\n",
            "Train Epoch: 2 [51200/60000 (85%)]\tLoss: 0.169\n",
            "Train Epoch: 2 [56320/60000 (94%)]\tLoss: 0.214\n",
            "\n",
            "Test set: Average loss: 0.0008, Accuracy: 9410/10000 (94%)\n",
            "\n",
            "Train Epoch: 3 [0/60000 (0%)]\tLoss: 0.153\n",
            "Train Epoch: 3 [5120/60000 (9%)]\tLoss: 0.173\n",
            "Train Epoch: 3 [10240/60000 (17%)]\tLoss: 0.260\n",
            "Train Epoch: 3 [15360/60000 (26%)]\tLoss: 0.172\n",
            "Train Epoch: 3 [20480/60000 (34%)]\tLoss: 0.175\n",
            "Train Epoch: 3 [25600/60000 (43%)]\tLoss: 0.175\n",
            "Train Epoch: 3 [30720/60000 (51%)]\tLoss: 0.215\n",
            "Train Epoch: 3 [35840/60000 (60%)]\tLoss: 0.224\n",
            "Train Epoch: 3 [40960/60000 (68%)]\tLoss: 0.236\n",
            "Train Epoch: 3 [46080/60000 (77%)]\tLoss: 0.142\n",
            "Train Epoch: 3 [51200/60000 (85%)]\tLoss: 0.164\n",
            "Train Epoch: 3 [56320/60000 (94%)]\tLoss: 0.159\n",
            "\n",
            "Test set: Average loss: 0.0007, Accuracy: 9500/10000 (95%)\n",
            "\n",
            "Train Epoch: 4 [0/60000 (0%)]\tLoss: 0.216\n",
            "Train Epoch: 4 [5120/60000 (9%)]\tLoss: 0.102\n",
            "Train Epoch: 4 [10240/60000 (17%)]\tLoss: 0.145\n",
            "Train Epoch: 4 [15360/60000 (26%)]\tLoss: 0.156\n",
            "Train Epoch: 4 [20480/60000 (34%)]\tLoss: 0.144\n",
            "Train Epoch: 4 [25600/60000 (43%)]\tLoss: 0.092\n",
            "Train Epoch: 4 [30720/60000 (51%)]\tLoss: 0.144\n",
            "Train Epoch: 4 [35840/60000 (60%)]\tLoss: 0.245\n",
            "Train Epoch: 4 [40960/60000 (68%)]\tLoss: 0.156\n",
            "Train Epoch: 4 [46080/60000 (77%)]\tLoss: 0.183\n",
            "Train Epoch: 4 [51200/60000 (85%)]\tLoss: 0.144\n",
            "Train Epoch: 4 [56320/60000 (94%)]\tLoss: 0.144\n"
          ]
        },
        {
          "output_type": "stream",
          "name": "stderr",
          "text": [
            "2021/10/18 12:33:29 WARNING mlflow.utils.requirements_utils: Found torch version (1.9.0+cu111) contains a local version label (+cu111). MLflow logged a pip requirement for this package as 'torch==1.9.0' without the local version label to make it installable from PyPI. To specify pip requirements containing local version labels, please use `conda_env` or `pip_requirements`.\n",
            "2021/10/18 12:33:29 WARNING mlflow.utils.requirements_utils: Found torchvision version (0.10.0+cu111) contains a local version label (+cu111). MLflow logged a pip requirement for this package as 'torchvision==0.10.0' without the local version label to make it installable from PyPI. To specify pip requirements containing local version labels, please use `conda_env` or `pip_requirements`.\n"
          ]
        },
        {
          "output_type": "stream",
          "name": "stdout",
          "text": [
            "\n",
            "Test set: Average loss: 0.0006, Accuracy: 9557/10000 (96%)\n",
            "\n"
          ]
        },
        {
          "output_type": "stream",
          "name": "stderr",
          "text": [
            "2021/10/18 12:33:31 WARNING mlflow.utils.requirements_utils: Found torch version (1.9.0+cu111) contains a local version label (+cu111). MLflow logged a pip requirement for this package as 'torch==1.9.0' without the local version label to make it installable from PyPI. To specify pip requirements containing local version labels, please use `conda_env` or `pip_requirements`.\n"
          ]
        },
        {
          "output_type": "stream",
          "name": "stdout",
          "text": [
            "\n",
            "LR = 0.01, Momentum = 0.95, Hidden nodes = 48\n",
            "\n",
            "Train Epoch: 1 [0/60000 (0%)]\tLoss: 2.343\n",
            "Train Epoch: 1 [5120/60000 (9%)]\tLoss: 0.808\n",
            "Train Epoch: 1 [10240/60000 (17%)]\tLoss: 0.509\n",
            "Train Epoch: 1 [15360/60000 (26%)]\tLoss: 0.380\n",
            "Train Epoch: 1 [20480/60000 (34%)]\tLoss: 0.407\n",
            "Train Epoch: 1 [25600/60000 (43%)]\tLoss: 0.392\n",
            "Train Epoch: 1 [30720/60000 (51%)]\tLoss: 0.281\n",
            "Train Epoch: 1 [35840/60000 (60%)]\tLoss: 0.337\n",
            "Train Epoch: 1 [40960/60000 (68%)]\tLoss: 0.182\n",
            "Train Epoch: 1 [46080/60000 (77%)]\tLoss: 0.213\n",
            "Train Epoch: 1 [51200/60000 (85%)]\tLoss: 0.227\n",
            "Train Epoch: 1 [56320/60000 (94%)]\tLoss: 0.262\n",
            "\n",
            "Test set: Average loss: 0.0010, Accuracy: 9274/10000 (93%)\n",
            "\n",
            "Train Epoch: 2 [0/60000 (0%)]\tLoss: 0.219\n",
            "Train Epoch: 2 [5120/60000 (9%)]\tLoss: 0.333\n",
            "Train Epoch: 2 [10240/60000 (17%)]\tLoss: 0.161\n",
            "Train Epoch: 2 [15360/60000 (26%)]\tLoss: 0.191\n",
            "Train Epoch: 2 [20480/60000 (34%)]\tLoss: 0.205\n",
            "Train Epoch: 2 [25600/60000 (43%)]\tLoss: 0.234\n",
            "Train Epoch: 2 [30720/60000 (51%)]\tLoss: 0.160\n",
            "Train Epoch: 2 [35840/60000 (60%)]\tLoss: 0.135\n",
            "Train Epoch: 2 [40960/60000 (68%)]\tLoss: 0.262\n",
            "Train Epoch: 2 [46080/60000 (77%)]\tLoss: 0.220\n",
            "Train Epoch: 2 [51200/60000 (85%)]\tLoss: 0.154\n",
            "Train Epoch: 2 [56320/60000 (94%)]\tLoss: 0.114\n",
            "\n",
            "Test set: Average loss: 0.0007, Accuracy: 9512/10000 (95%)\n",
            "\n",
            "Train Epoch: 3 [0/60000 (0%)]\tLoss: 0.278\n",
            "Train Epoch: 3 [5120/60000 (9%)]\tLoss: 0.161\n",
            "Train Epoch: 3 [10240/60000 (17%)]\tLoss: 0.148\n",
            "Train Epoch: 3 [15360/60000 (26%)]\tLoss: 0.153\n",
            "Train Epoch: 3 [20480/60000 (34%)]\tLoss: 0.171\n",
            "Train Epoch: 3 [25600/60000 (43%)]\tLoss: 0.150\n",
            "Train Epoch: 3 [30720/60000 (51%)]\tLoss: 0.208\n",
            "Train Epoch: 3 [35840/60000 (60%)]\tLoss: 0.117\n",
            "Train Epoch: 3 [40960/60000 (68%)]\tLoss: 0.193\n",
            "Train Epoch: 3 [46080/60000 (77%)]\tLoss: 0.175\n",
            "Train Epoch: 3 [51200/60000 (85%)]\tLoss: 0.141\n",
            "Train Epoch: 3 [56320/60000 (94%)]\tLoss: 0.095\n",
            "\n",
            "Test set: Average loss: 0.0006, Accuracy: 9569/10000 (96%)\n",
            "\n",
            "Train Epoch: 4 [0/60000 (0%)]\tLoss: 0.136\n",
            "Train Epoch: 4 [5120/60000 (9%)]\tLoss: 0.145\n",
            "Train Epoch: 4 [10240/60000 (17%)]\tLoss: 0.127\n",
            "Train Epoch: 4 [15360/60000 (26%)]\tLoss: 0.160\n",
            "Train Epoch: 4 [20480/60000 (34%)]\tLoss: 0.052\n",
            "Train Epoch: 4 [25600/60000 (43%)]\tLoss: 0.116\n",
            "Train Epoch: 4 [30720/60000 (51%)]\tLoss: 0.161\n",
            "Train Epoch: 4 [35840/60000 (60%)]\tLoss: 0.092\n",
            "Train Epoch: 4 [40960/60000 (68%)]\tLoss: 0.149\n",
            "Train Epoch: 4 [46080/60000 (77%)]\tLoss: 0.117\n",
            "Train Epoch: 4 [51200/60000 (85%)]\tLoss: 0.148\n",
            "Train Epoch: 4 [56320/60000 (94%)]\tLoss: 0.136\n"
          ]
        },
        {
          "output_type": "stream",
          "name": "stderr",
          "text": [
            "2021/10/18 12:34:16 WARNING mlflow.utils.requirements_utils: Found torch version (1.9.0+cu111) contains a local version label (+cu111). MLflow logged a pip requirement for this package as 'torch==1.9.0' without the local version label to make it installable from PyPI. To specify pip requirements containing local version labels, please use `conda_env` or `pip_requirements`.\n",
            "2021/10/18 12:34:16 WARNING mlflow.utils.requirements_utils: Found torchvision version (0.10.0+cu111) contains a local version label (+cu111). MLflow logged a pip requirement for this package as 'torchvision==0.10.0' without the local version label to make it installable from PyPI. To specify pip requirements containing local version labels, please use `conda_env` or `pip_requirements`.\n"
          ]
        },
        {
          "output_type": "stream",
          "name": "stdout",
          "text": [
            "\n",
            "Test set: Average loss: 0.0005, Accuracy: 9614/10000 (96%)\n",
            "\n"
          ]
        },
        {
          "output_type": "stream",
          "name": "stderr",
          "text": [
            "2021/10/18 12:34:18 WARNING mlflow.utils.requirements_utils: Found torch version (1.9.0+cu111) contains a local version label (+cu111). MLflow logged a pip requirement for this package as 'torch==1.9.0' without the local version label to make it installable from PyPI. To specify pip requirements containing local version labels, please use `conda_env` or `pip_requirements`.\n"
          ]
        },
        {
          "output_type": "stream",
          "name": "stdout",
          "text": [
            "\n",
            "LR = 0.01, Momentum = 0.99, Hidden nodes = 16\n",
            "\n",
            "Train Epoch: 1 [0/60000 (0%)]\tLoss: 2.359\n",
            "Train Epoch: 1 [5120/60000 (9%)]\tLoss: 1.039\n",
            "Train Epoch: 1 [10240/60000 (17%)]\tLoss: 0.738\n",
            "Train Epoch: 1 [15360/60000 (26%)]\tLoss: 0.971\n",
            "Train Epoch: 1 [20480/60000 (34%)]\tLoss: 0.911\n",
            "Train Epoch: 1 [25600/60000 (43%)]\tLoss: 0.917\n",
            "Train Epoch: 1 [30720/60000 (51%)]\tLoss: 0.773\n",
            "Train Epoch: 1 [35840/60000 (60%)]\tLoss: 0.872\n",
            "Train Epoch: 1 [40960/60000 (68%)]\tLoss: 0.658\n",
            "Train Epoch: 1 [46080/60000 (77%)]\tLoss: 0.598\n",
            "Train Epoch: 1 [51200/60000 (85%)]\tLoss: 0.752\n",
            "Train Epoch: 1 [56320/60000 (94%)]\tLoss: 0.483\n",
            "\n",
            "Test set: Average loss: 0.0019, Accuracy: 8665/10000 (87%)\n",
            "\n",
            "Train Epoch: 2 [0/60000 (0%)]\tLoss: 0.557\n",
            "Train Epoch: 2 [5120/60000 (9%)]\tLoss: 0.401\n",
            "Train Epoch: 2 [10240/60000 (17%)]\tLoss: 0.481\n",
            "Train Epoch: 2 [15360/60000 (26%)]\tLoss: 0.482\n",
            "Train Epoch: 2 [20480/60000 (34%)]\tLoss: 0.385\n",
            "Train Epoch: 2 [25600/60000 (43%)]\tLoss: 0.402\n",
            "Train Epoch: 2 [30720/60000 (51%)]\tLoss: 0.356\n",
            "Train Epoch: 2 [35840/60000 (60%)]\tLoss: 0.368\n",
            "Train Epoch: 2 [40960/60000 (68%)]\tLoss: 0.278\n",
            "Train Epoch: 2 [46080/60000 (77%)]\tLoss: 0.297\n",
            "Train Epoch: 2 [51200/60000 (85%)]\tLoss: 0.306\n",
            "Train Epoch: 2 [56320/60000 (94%)]\tLoss: 0.329\n",
            "\n",
            "Test set: Average loss: 0.0013, Accuracy: 9135/10000 (91%)\n",
            "\n",
            "Train Epoch: 3 [0/60000 (0%)]\tLoss: 0.386\n",
            "Train Epoch: 3 [5120/60000 (9%)]\tLoss: 0.156\n",
            "Train Epoch: 3 [10240/60000 (17%)]\tLoss: 0.273\n",
            "Train Epoch: 3 [15360/60000 (26%)]\tLoss: 0.257\n",
            "Train Epoch: 3 [20480/60000 (34%)]\tLoss: 0.265\n",
            "Train Epoch: 3 [25600/60000 (43%)]\tLoss: 0.306\n",
            "Train Epoch: 3 [30720/60000 (51%)]\tLoss: 0.286\n",
            "Train Epoch: 3 [35840/60000 (60%)]\tLoss: 0.248\n",
            "Train Epoch: 3 [40960/60000 (68%)]\tLoss: 0.193\n",
            "Train Epoch: 3 [46080/60000 (77%)]\tLoss: 0.275\n",
            "Train Epoch: 3 [51200/60000 (85%)]\tLoss: 0.215\n",
            "Train Epoch: 3 [56320/60000 (94%)]\tLoss: 0.279\n",
            "\n",
            "Test set: Average loss: 0.0011, Accuracy: 9225/10000 (92%)\n",
            "\n",
            "Train Epoch: 4 [0/60000 (0%)]\tLoss: 0.145\n",
            "Train Epoch: 4 [5120/60000 (9%)]\tLoss: 0.208\n",
            "Train Epoch: 4 [10240/60000 (17%)]\tLoss: 0.232\n",
            "Train Epoch: 4 [15360/60000 (26%)]\tLoss: 0.286\n",
            "Train Epoch: 4 [20480/60000 (34%)]\tLoss: 0.266\n",
            "Train Epoch: 4 [25600/60000 (43%)]\tLoss: 0.206\n",
            "Train Epoch: 4 [30720/60000 (51%)]\tLoss: 0.218\n",
            "Train Epoch: 4 [35840/60000 (60%)]\tLoss: 0.120\n",
            "Train Epoch: 4 [40960/60000 (68%)]\tLoss: 0.198\n",
            "Train Epoch: 4 [46080/60000 (77%)]\tLoss: 0.359\n",
            "Train Epoch: 4 [51200/60000 (85%)]\tLoss: 0.156\n",
            "Train Epoch: 4 [56320/60000 (94%)]\tLoss: 0.208\n"
          ]
        },
        {
          "output_type": "stream",
          "name": "stderr",
          "text": [
            "2021/10/18 12:35:03 WARNING mlflow.utils.requirements_utils: Found torch version (1.9.0+cu111) contains a local version label (+cu111). MLflow logged a pip requirement for this package as 'torch==1.9.0' without the local version label to make it installable from PyPI. To specify pip requirements containing local version labels, please use `conda_env` or `pip_requirements`.\n",
            "2021/10/18 12:35:03 WARNING mlflow.utils.requirements_utils: Found torchvision version (0.10.0+cu111) contains a local version label (+cu111). MLflow logged a pip requirement for this package as 'torchvision==0.10.0' without the local version label to make it installable from PyPI. To specify pip requirements containing local version labels, please use `conda_env` or `pip_requirements`.\n"
          ]
        },
        {
          "output_type": "stream",
          "name": "stdout",
          "text": [
            "\n",
            "Test set: Average loss: 0.0009, Accuracy: 9346/10000 (93%)\n",
            "\n"
          ]
        },
        {
          "output_type": "stream",
          "name": "stderr",
          "text": [
            "2021/10/18 12:35:05 WARNING mlflow.utils.requirements_utils: Found torch version (1.9.0+cu111) contains a local version label (+cu111). MLflow logged a pip requirement for this package as 'torch==1.9.0' without the local version label to make it installable from PyPI. To specify pip requirements containing local version labels, please use `conda_env` or `pip_requirements`.\n"
          ]
        },
        {
          "output_type": "stream",
          "name": "stdout",
          "text": [
            "\n",
            "LR = 0.01, Momentum = 0.99, Hidden nodes = 24\n",
            "\n",
            "Train Epoch: 1 [0/60000 (0%)]\tLoss: 2.315\n",
            "Train Epoch: 1 [5120/60000 (9%)]\tLoss: 0.851\n",
            "Train Epoch: 1 [10240/60000 (17%)]\tLoss: 0.586\n",
            "Train Epoch: 1 [15360/60000 (26%)]\tLoss: 0.720\n",
            "Train Epoch: 1 [20480/60000 (34%)]\tLoss: 0.806\n",
            "Train Epoch: 1 [25600/60000 (43%)]\tLoss: 0.470\n",
            "Train Epoch: 1 [30720/60000 (51%)]\tLoss: 0.559\n",
            "Train Epoch: 1 [35840/60000 (60%)]\tLoss: 0.677\n",
            "Train Epoch: 1 [40960/60000 (68%)]\tLoss: 0.355\n",
            "Train Epoch: 1 [46080/60000 (77%)]\tLoss: 0.365\n",
            "Train Epoch: 1 [51200/60000 (85%)]\tLoss: 0.586\n",
            "Train Epoch: 1 [56320/60000 (94%)]\tLoss: 0.498\n",
            "\n",
            "Test set: Average loss: 0.0015, Accuracy: 8964/10000 (90%)\n",
            "\n",
            "Train Epoch: 2 [0/60000 (0%)]\tLoss: 0.477\n",
            "Train Epoch: 2 [5120/60000 (9%)]\tLoss: 0.372\n",
            "Train Epoch: 2 [10240/60000 (17%)]\tLoss: 0.600\n",
            "Train Epoch: 2 [15360/60000 (26%)]\tLoss: 0.568\n",
            "Train Epoch: 2 [20480/60000 (34%)]\tLoss: 0.384\n",
            "Train Epoch: 2 [25600/60000 (43%)]\tLoss: 0.290\n",
            "Train Epoch: 2 [30720/60000 (51%)]\tLoss: 0.243\n",
            "Train Epoch: 2 [35840/60000 (60%)]\tLoss: 0.334\n",
            "Train Epoch: 2 [40960/60000 (68%)]\tLoss: 0.335\n",
            "Train Epoch: 2 [46080/60000 (77%)]\tLoss: 0.324\n",
            "Train Epoch: 2 [51200/60000 (85%)]\tLoss: 0.351\n",
            "Train Epoch: 2 [56320/60000 (94%)]\tLoss: 0.265\n",
            "\n",
            "Test set: Average loss: 0.0011, Accuracy: 9266/10000 (93%)\n",
            "\n",
            "Train Epoch: 3 [0/60000 (0%)]\tLoss: 0.189\n",
            "Train Epoch: 3 [5120/60000 (9%)]\tLoss: 0.181\n",
            "Train Epoch: 3 [10240/60000 (17%)]\tLoss: 0.136\n",
            "Train Epoch: 3 [15360/60000 (26%)]\tLoss: 0.287\n",
            "Train Epoch: 3 [20480/60000 (34%)]\tLoss: 0.212\n",
            "Train Epoch: 3 [25600/60000 (43%)]\tLoss: 0.195\n",
            "Train Epoch: 3 [30720/60000 (51%)]\tLoss: 0.241\n",
            "Train Epoch: 3 [35840/60000 (60%)]\tLoss: 0.195\n",
            "Train Epoch: 3 [40960/60000 (68%)]\tLoss: 0.303\n",
            "Train Epoch: 3 [46080/60000 (77%)]\tLoss: 0.210\n",
            "Train Epoch: 3 [51200/60000 (85%)]\tLoss: 0.148\n",
            "Train Epoch: 3 [56320/60000 (94%)]\tLoss: 0.149\n",
            "\n",
            "Test set: Average loss: 0.0010, Accuracy: 9326/10000 (93%)\n",
            "\n",
            "Train Epoch: 4 [0/60000 (0%)]\tLoss: 0.164\n",
            "Train Epoch: 4 [5120/60000 (9%)]\tLoss: 0.223\n",
            "Train Epoch: 4 [10240/60000 (17%)]\tLoss: 0.177\n",
            "Train Epoch: 4 [15360/60000 (26%)]\tLoss: 0.138\n",
            "Train Epoch: 4 [20480/60000 (34%)]\tLoss: 0.169\n",
            "Train Epoch: 4 [25600/60000 (43%)]\tLoss: 0.168\n",
            "Train Epoch: 4 [30720/60000 (51%)]\tLoss: 0.149\n",
            "Train Epoch: 4 [35840/60000 (60%)]\tLoss: 0.150\n",
            "Train Epoch: 4 [40960/60000 (68%)]\tLoss: 0.187\n",
            "Train Epoch: 4 [46080/60000 (77%)]\tLoss: 0.123\n",
            "Train Epoch: 4 [51200/60000 (85%)]\tLoss: 0.206\n",
            "Train Epoch: 4 [56320/60000 (94%)]\tLoss: 0.149\n"
          ]
        },
        {
          "output_type": "stream",
          "name": "stderr",
          "text": [
            "2021/10/18 12:35:49 WARNING mlflow.utils.requirements_utils: Found torch version (1.9.0+cu111) contains a local version label (+cu111). MLflow logged a pip requirement for this package as 'torch==1.9.0' without the local version label to make it installable from PyPI. To specify pip requirements containing local version labels, please use `conda_env` or `pip_requirements`.\n",
            "2021/10/18 12:35:49 WARNING mlflow.utils.requirements_utils: Found torchvision version (0.10.0+cu111) contains a local version label (+cu111). MLflow logged a pip requirement for this package as 'torchvision==0.10.0' without the local version label to make it installable from PyPI. To specify pip requirements containing local version labels, please use `conda_env` or `pip_requirements`.\n"
          ]
        },
        {
          "output_type": "stream",
          "name": "stdout",
          "text": [
            "\n",
            "Test set: Average loss: 0.0007, Accuracy: 9463/10000 (95%)\n",
            "\n"
          ]
        },
        {
          "output_type": "stream",
          "name": "stderr",
          "text": [
            "2021/10/18 12:35:52 WARNING mlflow.utils.requirements_utils: Found torch version (1.9.0+cu111) contains a local version label (+cu111). MLflow logged a pip requirement for this package as 'torch==1.9.0' without the local version label to make it installable from PyPI. To specify pip requirements containing local version labels, please use `conda_env` or `pip_requirements`.\n"
          ]
        },
        {
          "output_type": "stream",
          "name": "stdout",
          "text": [
            "\n",
            "LR = 0.01, Momentum = 0.99, Hidden nodes = 32\n",
            "\n",
            "Train Epoch: 1 [0/60000 (0%)]\tLoss: 2.323\n",
            "Train Epoch: 1 [5120/60000 (9%)]\tLoss: 0.975\n",
            "Train Epoch: 1 [10240/60000 (17%)]\tLoss: 0.758\n",
            "Train Epoch: 1 [15360/60000 (26%)]\tLoss: 0.784\n",
            "Train Epoch: 1 [20480/60000 (34%)]\tLoss: 0.862\n",
            "Train Epoch: 1 [25600/60000 (43%)]\tLoss: 0.546\n",
            "Train Epoch: 1 [30720/60000 (51%)]\tLoss: 0.712\n",
            "Train Epoch: 1 [35840/60000 (60%)]\tLoss: 0.351\n",
            "Train Epoch: 1 [40960/60000 (68%)]\tLoss: 0.693\n",
            "Train Epoch: 1 [46080/60000 (77%)]\tLoss: 0.670\n",
            "Train Epoch: 1 [51200/60000 (85%)]\tLoss: 0.645\n",
            "Train Epoch: 1 [56320/60000 (94%)]\tLoss: 0.524\n",
            "\n",
            "Test set: Average loss: 0.0017, Accuracy: 8926/10000 (89%)\n",
            "\n",
            "Train Epoch: 2 [0/60000 (0%)]\tLoss: 0.381\n",
            "Train Epoch: 2 [5120/60000 (9%)]\tLoss: 0.437\n",
            "Train Epoch: 2 [10240/60000 (17%)]\tLoss: 0.225\n",
            "Train Epoch: 2 [15360/60000 (26%)]\tLoss: 0.289\n",
            "Train Epoch: 2 [20480/60000 (34%)]\tLoss: 0.340\n",
            "Train Epoch: 2 [25600/60000 (43%)]\tLoss: 0.377\n",
            "Train Epoch: 2 [30720/60000 (51%)]\tLoss: 0.339\n",
            "Train Epoch: 2 [35840/60000 (60%)]\tLoss: 0.246\n",
            "Train Epoch: 2 [40960/60000 (68%)]\tLoss: 0.240\n",
            "Train Epoch: 2 [46080/60000 (77%)]\tLoss: 0.418\n",
            "Train Epoch: 2 [51200/60000 (85%)]\tLoss: 0.351\n",
            "Train Epoch: 2 [56320/60000 (94%)]\tLoss: 0.313\n",
            "\n",
            "Test set: Average loss: 0.0009, Accuracy: 9328/10000 (93%)\n",
            "\n",
            "Train Epoch: 3 [0/60000 (0%)]\tLoss: 0.237\n",
            "Train Epoch: 3 [5120/60000 (9%)]\tLoss: 0.182\n",
            "Train Epoch: 3 [10240/60000 (17%)]\tLoss: 0.310\n",
            "Train Epoch: 3 [15360/60000 (26%)]\tLoss: 0.299\n",
            "Train Epoch: 3 [20480/60000 (34%)]\tLoss: 0.227\n",
            "Train Epoch: 3 [25600/60000 (43%)]\tLoss: 0.275\n",
            "Train Epoch: 3 [30720/60000 (51%)]\tLoss: 0.177\n",
            "Train Epoch: 3 [35840/60000 (60%)]\tLoss: 0.262\n",
            "Train Epoch: 3 [40960/60000 (68%)]\tLoss: 0.178\n",
            "Train Epoch: 3 [46080/60000 (77%)]\tLoss: 0.233\n",
            "Train Epoch: 3 [51200/60000 (85%)]\tLoss: 0.223\n",
            "Train Epoch: 3 [56320/60000 (94%)]\tLoss: 0.215\n",
            "\n",
            "Test set: Average loss: 0.0008, Accuracy: 9371/10000 (94%)\n",
            "\n",
            "Train Epoch: 4 [0/60000 (0%)]\tLoss: 0.129\n",
            "Train Epoch: 4 [5120/60000 (9%)]\tLoss: 0.148\n",
            "Train Epoch: 4 [10240/60000 (17%)]\tLoss: 0.190\n",
            "Train Epoch: 4 [15360/60000 (26%)]\tLoss: 0.198\n",
            "Train Epoch: 4 [20480/60000 (34%)]\tLoss: 0.162\n",
            "Train Epoch: 4 [25600/60000 (43%)]\tLoss: 0.129\n",
            "Train Epoch: 4 [30720/60000 (51%)]\tLoss: 0.223\n",
            "Train Epoch: 4 [35840/60000 (60%)]\tLoss: 0.118\n",
            "Train Epoch: 4 [40960/60000 (68%)]\tLoss: 0.177\n",
            "Train Epoch: 4 [46080/60000 (77%)]\tLoss: 0.139\n",
            "Train Epoch: 4 [51200/60000 (85%)]\tLoss: 0.161\n",
            "Train Epoch: 4 [56320/60000 (94%)]\tLoss: 0.328\n"
          ]
        },
        {
          "output_type": "stream",
          "name": "stderr",
          "text": [
            "2021/10/18 12:36:36 WARNING mlflow.utils.requirements_utils: Found torch version (1.9.0+cu111) contains a local version label (+cu111). MLflow logged a pip requirement for this package as 'torch==1.9.0' without the local version label to make it installable from PyPI. To specify pip requirements containing local version labels, please use `conda_env` or `pip_requirements`.\n",
            "2021/10/18 12:36:36 WARNING mlflow.utils.requirements_utils: Found torchvision version (0.10.0+cu111) contains a local version label (+cu111). MLflow logged a pip requirement for this package as 'torchvision==0.10.0' without the local version label to make it installable from PyPI. To specify pip requirements containing local version labels, please use `conda_env` or `pip_requirements`.\n"
          ]
        },
        {
          "output_type": "stream",
          "name": "stdout",
          "text": [
            "\n",
            "Test set: Average loss: 0.0007, Accuracy: 9500/10000 (95%)\n",
            "\n"
          ]
        },
        {
          "output_type": "stream",
          "name": "stderr",
          "text": [
            "2021/10/18 12:36:39 WARNING mlflow.utils.requirements_utils: Found torch version (1.9.0+cu111) contains a local version label (+cu111). MLflow logged a pip requirement for this package as 'torch==1.9.0' without the local version label to make it installable from PyPI. To specify pip requirements containing local version labels, please use `conda_env` or `pip_requirements`.\n"
          ]
        },
        {
          "output_type": "stream",
          "name": "stdout",
          "text": [
            "\n",
            "LR = 0.01, Momentum = 0.99, Hidden nodes = 48\n",
            "\n",
            "Train Epoch: 1 [0/60000 (0%)]\tLoss: 2.352\n",
            "Train Epoch: 1 [5120/60000 (9%)]\tLoss: 0.741\n",
            "Train Epoch: 1 [10240/60000 (17%)]\tLoss: 0.689\n",
            "Train Epoch: 1 [15360/60000 (26%)]\tLoss: 0.945\n",
            "Train Epoch: 1 [20480/60000 (34%)]\tLoss: 0.992\n",
            "Train Epoch: 1 [25600/60000 (43%)]\tLoss: 0.728\n",
            "Train Epoch: 1 [30720/60000 (51%)]\tLoss: 0.876\n",
            "Train Epoch: 1 [35840/60000 (60%)]\tLoss: 0.869\n",
            "Train Epoch: 1 [40960/60000 (68%)]\tLoss: 0.376\n",
            "Train Epoch: 1 [46080/60000 (77%)]\tLoss: 0.365\n",
            "Train Epoch: 1 [51200/60000 (85%)]\tLoss: 0.386\n",
            "Train Epoch: 1 [56320/60000 (94%)]\tLoss: 0.406\n",
            "\n",
            "Test set: Average loss: 0.0014, Accuracy: 9041/10000 (90%)\n",
            "\n",
            "Train Epoch: 2 [0/60000 (0%)]\tLoss: 0.423\n",
            "Train Epoch: 2 [5120/60000 (9%)]\tLoss: 0.240\n",
            "Train Epoch: 2 [10240/60000 (17%)]\tLoss: 0.293\n",
            "Train Epoch: 2 [15360/60000 (26%)]\tLoss: 0.365\n",
            "Train Epoch: 2 [20480/60000 (34%)]\tLoss: 0.403\n",
            "Train Epoch: 2 [25600/60000 (43%)]\tLoss: 0.253\n",
            "Train Epoch: 2 [30720/60000 (51%)]\tLoss: 0.277\n",
            "Train Epoch: 2 [35840/60000 (60%)]\tLoss: 0.183\n",
            "Train Epoch: 2 [40960/60000 (68%)]\tLoss: 0.221\n",
            "Train Epoch: 2 [46080/60000 (77%)]\tLoss: 0.358\n",
            "Train Epoch: 2 [51200/60000 (85%)]\tLoss: 0.152\n",
            "Train Epoch: 2 [56320/60000 (94%)]\tLoss: 0.233\n",
            "\n",
            "Test set: Average loss: 0.0008, Accuracy: 9410/10000 (94%)\n",
            "\n",
            "Train Epoch: 3 [0/60000 (0%)]\tLoss: 0.310\n",
            "Train Epoch: 3 [5120/60000 (9%)]\tLoss: 0.235\n",
            "Train Epoch: 3 [10240/60000 (17%)]\tLoss: 0.114\n",
            "Train Epoch: 3 [15360/60000 (26%)]\tLoss: 0.214\n",
            "Train Epoch: 3 [20480/60000 (34%)]\tLoss: 0.241\n",
            "Train Epoch: 3 [25600/60000 (43%)]\tLoss: 0.093\n",
            "Train Epoch: 3 [30720/60000 (51%)]\tLoss: 0.346\n",
            "Train Epoch: 3 [35840/60000 (60%)]\tLoss: 0.118\n",
            "Train Epoch: 3 [40960/60000 (68%)]\tLoss: 0.261\n",
            "Train Epoch: 3 [46080/60000 (77%)]\tLoss: 0.212\n",
            "Train Epoch: 3 [51200/60000 (85%)]\tLoss: 0.166\n",
            "Train Epoch: 3 [56320/60000 (94%)]\tLoss: 0.207\n",
            "\n",
            "Test set: Average loss: 0.0007, Accuracy: 9516/10000 (95%)\n",
            "\n",
            "Train Epoch: 4 [0/60000 (0%)]\tLoss: 0.074\n",
            "Train Epoch: 4 [5120/60000 (9%)]\tLoss: 0.181\n",
            "Train Epoch: 4 [10240/60000 (17%)]\tLoss: 0.147\n",
            "Train Epoch: 4 [15360/60000 (26%)]\tLoss: 0.111\n",
            "Train Epoch: 4 [20480/60000 (34%)]\tLoss: 0.123\n",
            "Train Epoch: 4 [25600/60000 (43%)]\tLoss: 0.142\n",
            "Train Epoch: 4 [30720/60000 (51%)]\tLoss: 0.163\n",
            "Train Epoch: 4 [35840/60000 (60%)]\tLoss: 0.053\n",
            "Train Epoch: 4 [40960/60000 (68%)]\tLoss: 0.115\n",
            "Train Epoch: 4 [46080/60000 (77%)]\tLoss: 0.100\n",
            "Train Epoch: 4 [51200/60000 (85%)]\tLoss: 0.117\n",
            "Train Epoch: 4 [56320/60000 (94%)]\tLoss: 0.223\n"
          ]
        },
        {
          "output_type": "stream",
          "name": "stderr",
          "text": [
            "2021/10/18 12:37:24 WARNING mlflow.utils.requirements_utils: Found torch version (1.9.0+cu111) contains a local version label (+cu111). MLflow logged a pip requirement for this package as 'torch==1.9.0' without the local version label to make it installable from PyPI. To specify pip requirements containing local version labels, please use `conda_env` or `pip_requirements`.\n",
            "2021/10/18 12:37:24 WARNING mlflow.utils.requirements_utils: Found torchvision version (0.10.0+cu111) contains a local version label (+cu111). MLflow logged a pip requirement for this package as 'torchvision==0.10.0' without the local version label to make it installable from PyPI. To specify pip requirements containing local version labels, please use `conda_env` or `pip_requirements`.\n"
          ]
        },
        {
          "output_type": "stream",
          "name": "stdout",
          "text": [
            "\n",
            "Test set: Average loss: 0.0006, Accuracy: 9600/10000 (96%)\n",
            "\n"
          ]
        },
        {
          "output_type": "stream",
          "name": "stderr",
          "text": [
            "2021/10/18 12:37:26 WARNING mlflow.utils.requirements_utils: Found torch version (1.9.0+cu111) contains a local version label (+cu111). MLflow logged a pip requirement for this package as 'torch==1.9.0' without the local version label to make it installable from PyPI. To specify pip requirements containing local version labels, please use `conda_env` or `pip_requirements`.\n"
          ]
        },
        {
          "output_type": "stream",
          "name": "stdout",
          "text": [
            "\n",
            "LR = 0.02, Momentum = 0.90, Hidden nodes = 16\n",
            "\n",
            "Train Epoch: 1 [0/60000 (0%)]\tLoss: 2.326\n",
            "Train Epoch: 1 [5120/60000 (9%)]\tLoss: 0.824\n",
            "Train Epoch: 1 [10240/60000 (17%)]\tLoss: 0.393\n",
            "Train Epoch: 1 [15360/60000 (26%)]\tLoss: 0.467\n",
            "Train Epoch: 1 [20480/60000 (34%)]\tLoss: 0.370\n",
            "Train Epoch: 1 [25600/60000 (43%)]\tLoss: 0.307\n",
            "Train Epoch: 1 [30720/60000 (51%)]\tLoss: 0.329\n",
            "Train Epoch: 1 [35840/60000 (60%)]\tLoss: 0.282\n",
            "Train Epoch: 1 [40960/60000 (68%)]\tLoss: 0.282\n",
            "Train Epoch: 1 [46080/60000 (77%)]\tLoss: 0.359\n",
            "Train Epoch: 1 [51200/60000 (85%)]\tLoss: 0.318\n",
            "Train Epoch: 1 [56320/60000 (94%)]\tLoss: 0.260\n",
            "\n",
            "Test set: Average loss: 0.0011, Accuracy: 9204/10000 (92%)\n",
            "\n",
            "Train Epoch: 2 [0/60000 (0%)]\tLoss: 0.304\n",
            "Train Epoch: 2 [5120/60000 (9%)]\tLoss: 0.295\n",
            "Train Epoch: 2 [10240/60000 (17%)]\tLoss: 0.218\n",
            "Train Epoch: 2 [15360/60000 (26%)]\tLoss: 0.231\n",
            "Train Epoch: 2 [20480/60000 (34%)]\tLoss: 0.222\n",
            "Train Epoch: 2 [25600/60000 (43%)]\tLoss: 0.295\n",
            "Train Epoch: 2 [30720/60000 (51%)]\tLoss: 0.282\n",
            "Train Epoch: 2 [35840/60000 (60%)]\tLoss: 0.331\n",
            "Train Epoch: 2 [40960/60000 (68%)]\tLoss: 0.252\n",
            "Train Epoch: 2 [46080/60000 (77%)]\tLoss: 0.303\n",
            "Train Epoch: 2 [51200/60000 (85%)]\tLoss: 0.268\n",
            "Train Epoch: 2 [56320/60000 (94%)]\tLoss: 0.273\n",
            "\n",
            "Test set: Average loss: 0.0009, Accuracy: 9291/10000 (93%)\n",
            "\n",
            "Train Epoch: 3 [0/60000 (0%)]\tLoss: 0.326\n",
            "Train Epoch: 3 [5120/60000 (9%)]\tLoss: 0.215\n",
            "Train Epoch: 3 [10240/60000 (17%)]\tLoss: 0.230\n",
            "Train Epoch: 3 [15360/60000 (26%)]\tLoss: 0.184\n",
            "Train Epoch: 3 [20480/60000 (34%)]\tLoss: 0.200\n",
            "Train Epoch: 3 [25600/60000 (43%)]\tLoss: 0.400\n",
            "Train Epoch: 3 [30720/60000 (51%)]\tLoss: 0.286\n",
            "Train Epoch: 3 [35840/60000 (60%)]\tLoss: 0.266\n",
            "Train Epoch: 3 [40960/60000 (68%)]\tLoss: 0.216\n",
            "Train Epoch: 3 [46080/60000 (77%)]\tLoss: 0.272\n",
            "Train Epoch: 3 [51200/60000 (85%)]\tLoss: 0.225\n",
            "Train Epoch: 3 [56320/60000 (94%)]\tLoss: 0.316\n",
            "\n",
            "Test set: Average loss: 0.0009, Accuracy: 9372/10000 (94%)\n",
            "\n",
            "Train Epoch: 4 [0/60000 (0%)]\tLoss: 0.220\n",
            "Train Epoch: 4 [5120/60000 (9%)]\tLoss: 0.226\n",
            "Train Epoch: 4 [10240/60000 (17%)]\tLoss: 0.259\n",
            "Train Epoch: 4 [15360/60000 (26%)]\tLoss: 0.266\n",
            "Train Epoch: 4 [20480/60000 (34%)]\tLoss: 0.192\n",
            "Train Epoch: 4 [25600/60000 (43%)]\tLoss: 0.216\n",
            "Train Epoch: 4 [30720/60000 (51%)]\tLoss: 0.136\n",
            "Train Epoch: 4 [35840/60000 (60%)]\tLoss: 0.110\n",
            "Train Epoch: 4 [40960/60000 (68%)]\tLoss: 0.217\n",
            "Train Epoch: 4 [46080/60000 (77%)]\tLoss: 0.203\n",
            "Train Epoch: 4 [51200/60000 (85%)]\tLoss: 0.218\n",
            "Train Epoch: 4 [56320/60000 (94%)]\tLoss: 0.192\n"
          ]
        },
        {
          "output_type": "stream",
          "name": "stderr",
          "text": [
            "2021/10/18 12:38:10 WARNING mlflow.utils.requirements_utils: Found torch version (1.9.0+cu111) contains a local version label (+cu111). MLflow logged a pip requirement for this package as 'torch==1.9.0' without the local version label to make it installable from PyPI. To specify pip requirements containing local version labels, please use `conda_env` or `pip_requirements`.\n",
            "2021/10/18 12:38:10 WARNING mlflow.utils.requirements_utils: Found torchvision version (0.10.0+cu111) contains a local version label (+cu111). MLflow logged a pip requirement for this package as 'torchvision==0.10.0' without the local version label to make it installable from PyPI. To specify pip requirements containing local version labels, please use `conda_env` or `pip_requirements`.\n"
          ]
        },
        {
          "output_type": "stream",
          "name": "stdout",
          "text": [
            "\n",
            "Test set: Average loss: 0.0008, Accuracy: 9404/10000 (94%)\n",
            "\n"
          ]
        },
        {
          "output_type": "stream",
          "name": "stderr",
          "text": [
            "2021/10/18 12:38:13 WARNING mlflow.utils.requirements_utils: Found torch version (1.9.0+cu111) contains a local version label (+cu111). MLflow logged a pip requirement for this package as 'torch==1.9.0' without the local version label to make it installable from PyPI. To specify pip requirements containing local version labels, please use `conda_env` or `pip_requirements`.\n"
          ]
        },
        {
          "output_type": "stream",
          "name": "stdout",
          "text": [
            "\n",
            "LR = 0.02, Momentum = 0.90, Hidden nodes = 24\n",
            "\n",
            "Train Epoch: 1 [0/60000 (0%)]\tLoss: 2.335\n",
            "Train Epoch: 1 [5120/60000 (9%)]\tLoss: 0.632\n",
            "Train Epoch: 1 [10240/60000 (17%)]\tLoss: 0.457\n",
            "Train Epoch: 1 [15360/60000 (26%)]\tLoss: 0.384\n",
            "Train Epoch: 1 [20480/60000 (34%)]\tLoss: 0.247\n",
            "Train Epoch: 1 [25600/60000 (43%)]\tLoss: 0.367\n",
            "Train Epoch: 1 [30720/60000 (51%)]\tLoss: 0.244\n",
            "Train Epoch: 1 [35840/60000 (60%)]\tLoss: 0.292\n",
            "Train Epoch: 1 [40960/60000 (68%)]\tLoss: 0.301\n",
            "Train Epoch: 1 [46080/60000 (77%)]\tLoss: 0.309\n",
            "Train Epoch: 1 [51200/60000 (85%)]\tLoss: 0.296\n",
            "Train Epoch: 1 [56320/60000 (94%)]\tLoss: 0.207\n",
            "\n",
            "Test set: Average loss: 0.0010, Accuracy: 9213/10000 (92%)\n",
            "\n",
            "Train Epoch: 2 [0/60000 (0%)]\tLoss: 0.322\n",
            "Train Epoch: 2 [5120/60000 (9%)]\tLoss: 0.212\n",
            "Train Epoch: 2 [10240/60000 (17%)]\tLoss: 0.180\n",
            "Train Epoch: 2 [15360/60000 (26%)]\tLoss: 0.173\n",
            "Train Epoch: 2 [20480/60000 (34%)]\tLoss: 0.226\n",
            "Train Epoch: 2 [25600/60000 (43%)]\tLoss: 0.124\n",
            "Train Epoch: 2 [30720/60000 (51%)]\tLoss: 0.138\n",
            "Train Epoch: 2 [35840/60000 (60%)]\tLoss: 0.163\n",
            "Train Epoch: 2 [40960/60000 (68%)]\tLoss: 0.224\n",
            "Train Epoch: 2 [46080/60000 (77%)]\tLoss: 0.178\n",
            "Train Epoch: 2 [51200/60000 (85%)]\tLoss: 0.234\n",
            "Train Epoch: 2 [56320/60000 (94%)]\tLoss: 0.225\n",
            "\n",
            "Test set: Average loss: 0.0008, Accuracy: 9426/10000 (94%)\n",
            "\n",
            "Train Epoch: 3 [0/60000 (0%)]\tLoss: 0.205\n",
            "Train Epoch: 3 [5120/60000 (9%)]\tLoss: 0.236\n",
            "Train Epoch: 3 [10240/60000 (17%)]\tLoss: 0.157\n",
            "Train Epoch: 3 [15360/60000 (26%)]\tLoss: 0.169\n",
            "Train Epoch: 3 [20480/60000 (34%)]\tLoss: 0.130\n",
            "Train Epoch: 3 [25600/60000 (43%)]\tLoss: 0.207\n",
            "Train Epoch: 3 [30720/60000 (51%)]\tLoss: 0.103\n",
            "Train Epoch: 3 [35840/60000 (60%)]\tLoss: 0.191\n",
            "Train Epoch: 3 [40960/60000 (68%)]\tLoss: 0.126\n",
            "Train Epoch: 3 [46080/60000 (77%)]\tLoss: 0.149\n",
            "Train Epoch: 3 [51200/60000 (85%)]\tLoss: 0.198\n",
            "Train Epoch: 3 [56320/60000 (94%)]\tLoss: 0.110\n",
            "\n",
            "Test set: Average loss: 0.0006, Accuracy: 9523/10000 (95%)\n",
            "\n",
            "Train Epoch: 4 [0/60000 (0%)]\tLoss: 0.236\n",
            "Train Epoch: 4 [5120/60000 (9%)]\tLoss: 0.091\n",
            "Train Epoch: 4 [10240/60000 (17%)]\tLoss: 0.162\n",
            "Train Epoch: 4 [15360/60000 (26%)]\tLoss: 0.121\n",
            "Train Epoch: 4 [20480/60000 (34%)]\tLoss: 0.099\n",
            "Train Epoch: 4 [25600/60000 (43%)]\tLoss: 0.158\n",
            "Train Epoch: 4 [30720/60000 (51%)]\tLoss: 0.134\n",
            "Train Epoch: 4 [35840/60000 (60%)]\tLoss: 0.097\n",
            "Train Epoch: 4 [40960/60000 (68%)]\tLoss: 0.087\n",
            "Train Epoch: 4 [46080/60000 (77%)]\tLoss: 0.144\n",
            "Train Epoch: 4 [51200/60000 (85%)]\tLoss: 0.163\n",
            "Train Epoch: 4 [56320/60000 (94%)]\tLoss: 0.116\n"
          ]
        },
        {
          "output_type": "stream",
          "name": "stderr",
          "text": [
            "2021/10/18 12:38:57 WARNING mlflow.utils.requirements_utils: Found torch version (1.9.0+cu111) contains a local version label (+cu111). MLflow logged a pip requirement for this package as 'torch==1.9.0' without the local version label to make it installable from PyPI. To specify pip requirements containing local version labels, please use `conda_env` or `pip_requirements`.\n",
            "2021/10/18 12:38:57 WARNING mlflow.utils.requirements_utils: Found torchvision version (0.10.0+cu111) contains a local version label (+cu111). MLflow logged a pip requirement for this package as 'torchvision==0.10.0' without the local version label to make it installable from PyPI. To specify pip requirements containing local version labels, please use `conda_env` or `pip_requirements`.\n"
          ]
        },
        {
          "output_type": "stream",
          "name": "stdout",
          "text": [
            "\n",
            "Test set: Average loss: 0.0006, Accuracy: 9527/10000 (95%)\n",
            "\n"
          ]
        },
        {
          "output_type": "stream",
          "name": "stderr",
          "text": [
            "2021/10/18 12:39:00 WARNING mlflow.utils.requirements_utils: Found torch version (1.9.0+cu111) contains a local version label (+cu111). MLflow logged a pip requirement for this package as 'torch==1.9.0' without the local version label to make it installable from PyPI. To specify pip requirements containing local version labels, please use `conda_env` or `pip_requirements`.\n"
          ]
        },
        {
          "output_type": "stream",
          "name": "stdout",
          "text": [
            "\n",
            "LR = 0.02, Momentum = 0.90, Hidden nodes = 32\n",
            "\n",
            "Train Epoch: 1 [0/60000 (0%)]\tLoss: 2.352\n",
            "Train Epoch: 1 [5120/60000 (9%)]\tLoss: 0.668\n",
            "Train Epoch: 1 [10240/60000 (17%)]\tLoss: 0.551\n",
            "Train Epoch: 1 [15360/60000 (26%)]\tLoss: 0.336\n",
            "Train Epoch: 1 [20480/60000 (34%)]\tLoss: 0.344\n",
            "Train Epoch: 1 [25600/60000 (43%)]\tLoss: 0.357\n",
            "Train Epoch: 1 [30720/60000 (51%)]\tLoss: 0.249\n",
            "Train Epoch: 1 [35840/60000 (60%)]\tLoss: 0.259\n",
            "Train Epoch: 1 [40960/60000 (68%)]\tLoss: 0.191\n",
            "Train Epoch: 1 [46080/60000 (77%)]\tLoss: 0.221\n",
            "Train Epoch: 1 [51200/60000 (85%)]\tLoss: 0.161\n",
            "Train Epoch: 1 [56320/60000 (94%)]\tLoss: 0.193\n",
            "\n",
            "Test set: Average loss: 0.0009, Accuracy: 9340/10000 (93%)\n",
            "\n",
            "Train Epoch: 2 [0/60000 (0%)]\tLoss: 0.180\n",
            "Train Epoch: 2 [5120/60000 (9%)]\tLoss: 0.220\n",
            "Train Epoch: 2 [10240/60000 (17%)]\tLoss: 0.270\n",
            "Train Epoch: 2 [15360/60000 (26%)]\tLoss: 0.266\n",
            "Train Epoch: 2 [20480/60000 (34%)]\tLoss: 0.264\n",
            "Train Epoch: 2 [25600/60000 (43%)]\tLoss: 0.156\n",
            "Train Epoch: 2 [30720/60000 (51%)]\tLoss: 0.153\n",
            "Train Epoch: 2 [35840/60000 (60%)]\tLoss: 0.141\n",
            "Train Epoch: 2 [40960/60000 (68%)]\tLoss: 0.139\n",
            "Train Epoch: 2 [46080/60000 (77%)]\tLoss: 0.146\n",
            "Train Epoch: 2 [51200/60000 (85%)]\tLoss: 0.200\n",
            "Train Epoch: 2 [56320/60000 (94%)]\tLoss: 0.144\n",
            "\n",
            "Test set: Average loss: 0.0007, Accuracy: 9478/10000 (95%)\n",
            "\n",
            "Train Epoch: 3 [0/60000 (0%)]\tLoss: 0.141\n",
            "Train Epoch: 3 [5120/60000 (9%)]\tLoss: 0.176\n",
            "Train Epoch: 3 [10240/60000 (17%)]\tLoss: 0.131\n",
            "Train Epoch: 3 [15360/60000 (26%)]\tLoss: 0.160\n",
            "Train Epoch: 3 [20480/60000 (34%)]\tLoss: 0.152\n",
            "Train Epoch: 3 [25600/60000 (43%)]\tLoss: 0.200\n",
            "Train Epoch: 3 [30720/60000 (51%)]\tLoss: 0.116\n",
            "Train Epoch: 3 [35840/60000 (60%)]\tLoss: 0.130\n",
            "Train Epoch: 3 [40960/60000 (68%)]\tLoss: 0.175\n",
            "Train Epoch: 3 [46080/60000 (77%)]\tLoss: 0.127\n",
            "Train Epoch: 3 [51200/60000 (85%)]\tLoss: 0.124\n",
            "Train Epoch: 3 [56320/60000 (94%)]\tLoss: 0.132\n",
            "\n",
            "Test set: Average loss: 0.0006, Accuracy: 9580/10000 (96%)\n",
            "\n",
            "Train Epoch: 4 [0/60000 (0%)]\tLoss: 0.144\n",
            "Train Epoch: 4 [5120/60000 (9%)]\tLoss: 0.178\n",
            "Train Epoch: 4 [10240/60000 (17%)]\tLoss: 0.189\n",
            "Train Epoch: 4 [15360/60000 (26%)]\tLoss: 0.130\n",
            "Train Epoch: 4 [20480/60000 (34%)]\tLoss: 0.158\n",
            "Train Epoch: 4 [25600/60000 (43%)]\tLoss: 0.103\n",
            "Train Epoch: 4 [30720/60000 (51%)]\tLoss: 0.139\n",
            "Train Epoch: 4 [35840/60000 (60%)]\tLoss: 0.170\n",
            "Train Epoch: 4 [40960/60000 (68%)]\tLoss: 0.120\n",
            "Train Epoch: 4 [46080/60000 (77%)]\tLoss: 0.139\n",
            "Train Epoch: 4 [51200/60000 (85%)]\tLoss: 0.122\n",
            "Train Epoch: 4 [56320/60000 (94%)]\tLoss: 0.106\n"
          ]
        },
        {
          "output_type": "stream",
          "name": "stderr",
          "text": [
            "2021/10/18 12:39:45 WARNING mlflow.utils.requirements_utils: Found torch version (1.9.0+cu111) contains a local version label (+cu111). MLflow logged a pip requirement for this package as 'torch==1.9.0' without the local version label to make it installable from PyPI. To specify pip requirements containing local version labels, please use `conda_env` or `pip_requirements`.\n",
            "2021/10/18 12:39:45 WARNING mlflow.utils.requirements_utils: Found torchvision version (0.10.0+cu111) contains a local version label (+cu111). MLflow logged a pip requirement for this package as 'torchvision==0.10.0' without the local version label to make it installable from PyPI. To specify pip requirements containing local version labels, please use `conda_env` or `pip_requirements`.\n"
          ]
        },
        {
          "output_type": "stream",
          "name": "stdout",
          "text": [
            "\n",
            "Test set: Average loss: 0.0005, Accuracy: 9618/10000 (96%)\n",
            "\n"
          ]
        },
        {
          "output_type": "stream",
          "name": "stderr",
          "text": [
            "2021/10/18 12:39:47 WARNING mlflow.utils.requirements_utils: Found torch version (1.9.0+cu111) contains a local version label (+cu111). MLflow logged a pip requirement for this package as 'torch==1.9.0' without the local version label to make it installable from PyPI. To specify pip requirements containing local version labels, please use `conda_env` or `pip_requirements`.\n"
          ]
        },
        {
          "output_type": "stream",
          "name": "stdout",
          "text": [
            "\n",
            "LR = 0.02, Momentum = 0.90, Hidden nodes = 48\n",
            "\n",
            "Train Epoch: 1 [0/60000 (0%)]\tLoss: 2.303\n",
            "Train Epoch: 1 [5120/60000 (9%)]\tLoss: 0.739\n",
            "Train Epoch: 1 [10240/60000 (17%)]\tLoss: 0.435\n",
            "Train Epoch: 1 [15360/60000 (26%)]\tLoss: 0.347\n",
            "Train Epoch: 1 [20480/60000 (34%)]\tLoss: 0.309\n",
            "Train Epoch: 1 [25600/60000 (43%)]\tLoss: 0.307\n",
            "Train Epoch: 1 [30720/60000 (51%)]\tLoss: 0.162\n",
            "Train Epoch: 1 [35840/60000 (60%)]\tLoss: 0.290\n",
            "Train Epoch: 1 [40960/60000 (68%)]\tLoss: 0.319\n",
            "Train Epoch: 1 [46080/60000 (77%)]\tLoss: 0.267\n",
            "Train Epoch: 1 [51200/60000 (85%)]\tLoss: 0.251\n",
            "Train Epoch: 1 [56320/60000 (94%)]\tLoss: 0.179\n",
            "\n",
            "Test set: Average loss: 0.0009, Accuracy: 9314/10000 (93%)\n",
            "\n",
            "Train Epoch: 2 [0/60000 (0%)]\tLoss: 0.184\n",
            "Train Epoch: 2 [5120/60000 (9%)]\tLoss: 0.232\n",
            "Train Epoch: 2 [10240/60000 (17%)]\tLoss: 0.201\n",
            "Train Epoch: 2 [15360/60000 (26%)]\tLoss: 0.197\n",
            "Train Epoch: 2 [20480/60000 (34%)]\tLoss: 0.207\n",
            "Train Epoch: 2 [25600/60000 (43%)]\tLoss: 0.135\n",
            "Train Epoch: 2 [30720/60000 (51%)]\tLoss: 0.173\n",
            "Train Epoch: 2 [35840/60000 (60%)]\tLoss: 0.207\n",
            "Train Epoch: 2 [40960/60000 (68%)]\tLoss: 0.161\n",
            "Train Epoch: 2 [46080/60000 (77%)]\tLoss: 0.146\n",
            "Train Epoch: 2 [51200/60000 (85%)]\tLoss: 0.127\n",
            "Train Epoch: 2 [56320/60000 (94%)]\tLoss: 0.212\n",
            "\n",
            "Test set: Average loss: 0.0006, Accuracy: 9535/10000 (95%)\n",
            "\n",
            "Train Epoch: 3 [0/60000 (0%)]\tLoss: 0.159\n",
            "Train Epoch: 3 [5120/60000 (9%)]\tLoss: 0.128\n",
            "Train Epoch: 3 [10240/60000 (17%)]\tLoss: 0.250\n",
            "Train Epoch: 3 [15360/60000 (26%)]\tLoss: 0.085\n",
            "Train Epoch: 3 [20480/60000 (34%)]\tLoss: 0.183\n",
            "Train Epoch: 3 [25600/60000 (43%)]\tLoss: 0.107\n",
            "Train Epoch: 3 [30720/60000 (51%)]\tLoss: 0.138\n",
            "Train Epoch: 3 [35840/60000 (60%)]\tLoss: 0.131\n",
            "Train Epoch: 3 [40960/60000 (68%)]\tLoss: 0.165\n",
            "Train Epoch: 3 [46080/60000 (77%)]\tLoss: 0.108\n",
            "Train Epoch: 3 [51200/60000 (85%)]\tLoss: 0.140\n",
            "Train Epoch: 3 [56320/60000 (94%)]\tLoss: 0.124\n",
            "\n",
            "Test set: Average loss: 0.0005, Accuracy: 9575/10000 (96%)\n",
            "\n",
            "Train Epoch: 4 [0/60000 (0%)]\tLoss: 0.151\n",
            "Train Epoch: 4 [5120/60000 (9%)]\tLoss: 0.129\n",
            "Train Epoch: 4 [10240/60000 (17%)]\tLoss: 0.084\n",
            "Train Epoch: 4 [15360/60000 (26%)]\tLoss: 0.118\n",
            "Train Epoch: 4 [20480/60000 (34%)]\tLoss: 0.165\n",
            "Train Epoch: 4 [25600/60000 (43%)]\tLoss: 0.132\n",
            "Train Epoch: 4 [30720/60000 (51%)]\tLoss: 0.136\n",
            "Train Epoch: 4 [35840/60000 (60%)]\tLoss: 0.071\n",
            "Train Epoch: 4 [40960/60000 (68%)]\tLoss: 0.104\n",
            "Train Epoch: 4 [46080/60000 (77%)]\tLoss: 0.119\n",
            "Train Epoch: 4 [51200/60000 (85%)]\tLoss: 0.138\n",
            "Train Epoch: 4 [56320/60000 (94%)]\tLoss: 0.057\n"
          ]
        },
        {
          "output_type": "stream",
          "name": "stderr",
          "text": [
            "2021/10/18 12:40:33 WARNING mlflow.utils.requirements_utils: Found torch version (1.9.0+cu111) contains a local version label (+cu111). MLflow logged a pip requirement for this package as 'torch==1.9.0' without the local version label to make it installable from PyPI. To specify pip requirements containing local version labels, please use `conda_env` or `pip_requirements`.\n",
            "2021/10/18 12:40:33 WARNING mlflow.utils.requirements_utils: Found torchvision version (0.10.0+cu111) contains a local version label (+cu111). MLflow logged a pip requirement for this package as 'torchvision==0.10.0' without the local version label to make it installable from PyPI. To specify pip requirements containing local version labels, please use `conda_env` or `pip_requirements`.\n"
          ]
        },
        {
          "output_type": "stream",
          "name": "stdout",
          "text": [
            "\n",
            "Test set: Average loss: 0.0005, Accuracy: 9637/10000 (96%)\n",
            "\n"
          ]
        },
        {
          "output_type": "stream",
          "name": "stderr",
          "text": [
            "2021/10/18 12:40:35 WARNING mlflow.utils.requirements_utils: Found torch version (1.9.0+cu111) contains a local version label (+cu111). MLflow logged a pip requirement for this package as 'torch==1.9.0' without the local version label to make it installable from PyPI. To specify pip requirements containing local version labels, please use `conda_env` or `pip_requirements`.\n"
          ]
        },
        {
          "output_type": "stream",
          "name": "stdout",
          "text": [
            "\n",
            "LR = 0.02, Momentum = 0.95, Hidden nodes = 16\n",
            "\n",
            "Train Epoch: 1 [0/60000 (0%)]\tLoss: 2.337\n",
            "Train Epoch: 1 [5120/60000 (9%)]\tLoss: 0.711\n",
            "Train Epoch: 1 [10240/60000 (17%)]\tLoss: 0.584\n",
            "Train Epoch: 1 [15360/60000 (26%)]\tLoss: 0.359\n",
            "Train Epoch: 1 [20480/60000 (34%)]\tLoss: 0.356\n",
            "Train Epoch: 1 [25600/60000 (43%)]\tLoss: 0.368\n",
            "Train Epoch: 1 [30720/60000 (51%)]\tLoss: 0.308\n",
            "Train Epoch: 1 [35840/60000 (60%)]\tLoss: 0.274\n",
            "Train Epoch: 1 [40960/60000 (68%)]\tLoss: 0.308\n",
            "Train Epoch: 1 [46080/60000 (77%)]\tLoss: 0.208\n",
            "Train Epoch: 1 [51200/60000 (85%)]\tLoss: 0.232\n",
            "Train Epoch: 1 [56320/60000 (94%)]\tLoss: 0.129\n",
            "\n",
            "Test set: Average loss: 0.0009, Accuracy: 9302/10000 (93%)\n",
            "\n",
            "Train Epoch: 2 [0/60000 (0%)]\tLoss: 0.216\n",
            "Train Epoch: 2 [5120/60000 (9%)]\tLoss: 0.240\n",
            "Train Epoch: 2 [10240/60000 (17%)]\tLoss: 0.234\n",
            "Train Epoch: 2 [15360/60000 (26%)]\tLoss: 0.295\n",
            "Train Epoch: 2 [20480/60000 (34%)]\tLoss: 0.246\n",
            "Train Epoch: 2 [25600/60000 (43%)]\tLoss: 0.278\n",
            "Train Epoch: 2 [30720/60000 (51%)]\tLoss: 0.167\n",
            "Train Epoch: 2 [35840/60000 (60%)]\tLoss: 0.221\n",
            "Train Epoch: 2 [40960/60000 (68%)]\tLoss: 0.126\n",
            "Train Epoch: 2 [46080/60000 (77%)]\tLoss: 0.202\n",
            "Train Epoch: 2 [51200/60000 (85%)]\tLoss: 0.265\n",
            "Train Epoch: 2 [56320/60000 (94%)]\tLoss: 0.236\n",
            "\n",
            "Test set: Average loss: 0.0009, Accuracy: 9344/10000 (93%)\n",
            "\n",
            "Train Epoch: 3 [0/60000 (0%)]\tLoss: 0.154\n",
            "Train Epoch: 3 [5120/60000 (9%)]\tLoss: 0.219\n",
            "Train Epoch: 3 [10240/60000 (17%)]\tLoss: 0.182\n",
            "Train Epoch: 3 [15360/60000 (26%)]\tLoss: 0.178\n",
            "Train Epoch: 3 [20480/60000 (34%)]\tLoss: 0.197\n",
            "Train Epoch: 3 [25600/60000 (43%)]\tLoss: 0.111\n",
            "Train Epoch: 3 [30720/60000 (51%)]\tLoss: 0.248\n",
            "Train Epoch: 3 [35840/60000 (60%)]\tLoss: 0.214\n",
            "Train Epoch: 3 [40960/60000 (68%)]\tLoss: 0.152\n",
            "Train Epoch: 3 [46080/60000 (77%)]\tLoss: 0.207\n",
            "Train Epoch: 3 [51200/60000 (85%)]\tLoss: 0.183\n",
            "Train Epoch: 3 [56320/60000 (94%)]\tLoss: 0.143\n",
            "\n",
            "Test set: Average loss: 0.0008, Accuracy: 9389/10000 (94%)\n",
            "\n",
            "Train Epoch: 4 [0/60000 (0%)]\tLoss: 0.210\n",
            "Train Epoch: 4 [5120/60000 (9%)]\tLoss: 0.163\n",
            "Train Epoch: 4 [10240/60000 (17%)]\tLoss: 0.173\n",
            "Train Epoch: 4 [15360/60000 (26%)]\tLoss: 0.192\n",
            "Train Epoch: 4 [20480/60000 (34%)]\tLoss: 0.153\n",
            "Train Epoch: 4 [25600/60000 (43%)]\tLoss: 0.167\n",
            "Train Epoch: 4 [30720/60000 (51%)]\tLoss: 0.215\n",
            "Train Epoch: 4 [35840/60000 (60%)]\tLoss: 0.113\n",
            "Train Epoch: 4 [40960/60000 (68%)]\tLoss: 0.185\n",
            "Train Epoch: 4 [46080/60000 (77%)]\tLoss: 0.173\n",
            "Train Epoch: 4 [51200/60000 (85%)]\tLoss: 0.190\n",
            "Train Epoch: 4 [56320/60000 (94%)]\tLoss: 0.256\n"
          ]
        },
        {
          "output_type": "stream",
          "name": "stderr",
          "text": [
            "2021/10/18 12:41:19 WARNING mlflow.utils.requirements_utils: Found torch version (1.9.0+cu111) contains a local version label (+cu111). MLflow logged a pip requirement for this package as 'torch==1.9.0' without the local version label to make it installable from PyPI. To specify pip requirements containing local version labels, please use `conda_env` or `pip_requirements`.\n",
            "2021/10/18 12:41:19 WARNING mlflow.utils.requirements_utils: Found torchvision version (0.10.0+cu111) contains a local version label (+cu111). MLflow logged a pip requirement for this package as 'torchvision==0.10.0' without the local version label to make it installable from PyPI. To specify pip requirements containing local version labels, please use `conda_env` or `pip_requirements`.\n"
          ]
        },
        {
          "output_type": "stream",
          "name": "stdout",
          "text": [
            "\n",
            "Test set: Average loss: 0.0007, Accuracy: 9441/10000 (94%)\n",
            "\n"
          ]
        },
        {
          "output_type": "stream",
          "name": "stderr",
          "text": [
            "2021/10/18 12:41:21 WARNING mlflow.utils.requirements_utils: Found torch version (1.9.0+cu111) contains a local version label (+cu111). MLflow logged a pip requirement for this package as 'torch==1.9.0' without the local version label to make it installable from PyPI. To specify pip requirements containing local version labels, please use `conda_env` or `pip_requirements`.\n"
          ]
        },
        {
          "output_type": "stream",
          "name": "stdout",
          "text": [
            "\n",
            "LR = 0.02, Momentum = 0.95, Hidden nodes = 24\n",
            "\n",
            "Train Epoch: 1 [0/60000 (0%)]\tLoss: 2.361\n",
            "Train Epoch: 1 [5120/60000 (9%)]\tLoss: 0.766\n",
            "Train Epoch: 1 [10240/60000 (17%)]\tLoss: 0.364\n",
            "Train Epoch: 1 [15360/60000 (26%)]\tLoss: 0.271\n",
            "Train Epoch: 1 [20480/60000 (34%)]\tLoss: 0.344\n",
            "Train Epoch: 1 [25600/60000 (43%)]\tLoss: 0.208\n",
            "Train Epoch: 1 [30720/60000 (51%)]\tLoss: 0.238\n",
            "Train Epoch: 1 [35840/60000 (60%)]\tLoss: 0.290\n",
            "Train Epoch: 1 [40960/60000 (68%)]\tLoss: 0.311\n",
            "Train Epoch: 1 [46080/60000 (77%)]\tLoss: 0.245\n",
            "Train Epoch: 1 [51200/60000 (85%)]\tLoss: 0.263\n",
            "Train Epoch: 1 [56320/60000 (94%)]\tLoss: 0.156\n",
            "\n",
            "Test set: Average loss: 0.0009, Accuracy: 9371/10000 (94%)\n",
            "\n",
            "Train Epoch: 2 [0/60000 (0%)]\tLoss: 0.224\n",
            "Train Epoch: 2 [5120/60000 (9%)]\tLoss: 0.214\n",
            "Train Epoch: 2 [10240/60000 (17%)]\tLoss: 0.172\n",
            "Train Epoch: 2 [15360/60000 (26%)]\tLoss: 0.169\n",
            "Train Epoch: 2 [20480/60000 (34%)]\tLoss: 0.211\n",
            "Train Epoch: 2 [25600/60000 (43%)]\tLoss: 0.183\n",
            "Train Epoch: 2 [30720/60000 (51%)]\tLoss: 0.159\n",
            "Train Epoch: 2 [35840/60000 (60%)]\tLoss: 0.139\n",
            "Train Epoch: 2 [40960/60000 (68%)]\tLoss: 0.188\n",
            "Train Epoch: 2 [46080/60000 (77%)]\tLoss: 0.121\n",
            "Train Epoch: 2 [51200/60000 (85%)]\tLoss: 0.194\n",
            "Train Epoch: 2 [56320/60000 (94%)]\tLoss: 0.156\n",
            "\n",
            "Test set: Average loss: 0.0007, Accuracy: 9472/10000 (95%)\n",
            "\n",
            "Train Epoch: 3 [0/60000 (0%)]\tLoss: 0.131\n",
            "Train Epoch: 3 [5120/60000 (9%)]\tLoss: 0.176\n",
            "Train Epoch: 3 [10240/60000 (17%)]\tLoss: 0.154\n",
            "Train Epoch: 3 [15360/60000 (26%)]\tLoss: 0.175\n",
            "Train Epoch: 3 [20480/60000 (34%)]\tLoss: 0.130\n",
            "Train Epoch: 3 [25600/60000 (43%)]\tLoss: 0.125\n",
            "Train Epoch: 3 [30720/60000 (51%)]\tLoss: 0.155\n",
            "Train Epoch: 3 [35840/60000 (60%)]\tLoss: 0.142\n",
            "Train Epoch: 3 [40960/60000 (68%)]\tLoss: 0.253\n",
            "Train Epoch: 3 [46080/60000 (77%)]\tLoss: 0.112\n",
            "Train Epoch: 3 [51200/60000 (85%)]\tLoss: 0.193\n",
            "Train Epoch: 3 [56320/60000 (94%)]\tLoss: 0.139\n",
            "\n",
            "Test set: Average loss: 0.0006, Accuracy: 9573/10000 (96%)\n",
            "\n",
            "Train Epoch: 4 [0/60000 (0%)]\tLoss: 0.086\n",
            "Train Epoch: 4 [5120/60000 (9%)]\tLoss: 0.144\n",
            "Train Epoch: 4 [10240/60000 (17%)]\tLoss: 0.097\n",
            "Train Epoch: 4 [15360/60000 (26%)]\tLoss: 0.115\n",
            "Train Epoch: 4 [20480/60000 (34%)]\tLoss: 0.108\n",
            "Train Epoch: 4 [25600/60000 (43%)]\tLoss: 0.095\n",
            "Train Epoch: 4 [30720/60000 (51%)]\tLoss: 0.155\n",
            "Train Epoch: 4 [35840/60000 (60%)]\tLoss: 0.100\n",
            "Train Epoch: 4 [40960/60000 (68%)]\tLoss: 0.173\n",
            "Train Epoch: 4 [46080/60000 (77%)]\tLoss: 0.141\n",
            "Train Epoch: 4 [51200/60000 (85%)]\tLoss: 0.139\n",
            "Train Epoch: 4 [56320/60000 (94%)]\tLoss: 0.111\n"
          ]
        },
        {
          "output_type": "stream",
          "name": "stderr",
          "text": [
            "2021/10/18 12:42:06 WARNING mlflow.utils.requirements_utils: Found torch version (1.9.0+cu111) contains a local version label (+cu111). MLflow logged a pip requirement for this package as 'torch==1.9.0' without the local version label to make it installable from PyPI. To specify pip requirements containing local version labels, please use `conda_env` or `pip_requirements`.\n",
            "2021/10/18 12:42:06 WARNING mlflow.utils.requirements_utils: Found torchvision version (0.10.0+cu111) contains a local version label (+cu111). MLflow logged a pip requirement for this package as 'torchvision==0.10.0' without the local version label to make it installable from PyPI. To specify pip requirements containing local version labels, please use `conda_env` or `pip_requirements`.\n"
          ]
        },
        {
          "output_type": "stream",
          "name": "stdout",
          "text": [
            "\n",
            "Test set: Average loss: 0.0005, Accuracy: 9587/10000 (96%)\n",
            "\n"
          ]
        },
        {
          "output_type": "stream",
          "name": "stderr",
          "text": [
            "2021/10/18 12:42:08 WARNING mlflow.utils.requirements_utils: Found torch version (1.9.0+cu111) contains a local version label (+cu111). MLflow logged a pip requirement for this package as 'torch==1.9.0' without the local version label to make it installable from PyPI. To specify pip requirements containing local version labels, please use `conda_env` or `pip_requirements`.\n"
          ]
        },
        {
          "output_type": "stream",
          "name": "stdout",
          "text": [
            "\n",
            "LR = 0.02, Momentum = 0.95, Hidden nodes = 32\n",
            "\n",
            "Train Epoch: 1 [0/60000 (0%)]\tLoss: 2.334\n",
            "Train Epoch: 1 [5120/60000 (9%)]\tLoss: 0.604\n",
            "Train Epoch: 1 [10240/60000 (17%)]\tLoss: 0.459\n",
            "Train Epoch: 1 [15360/60000 (26%)]\tLoss: 0.488\n",
            "Train Epoch: 1 [20480/60000 (34%)]\tLoss: 0.369\n",
            "Train Epoch: 1 [25600/60000 (43%)]\tLoss: 0.248\n",
            "Train Epoch: 1 [30720/60000 (51%)]\tLoss: 0.383\n",
            "Train Epoch: 1 [35840/60000 (60%)]\tLoss: 0.266\n",
            "Train Epoch: 1 [40960/60000 (68%)]\tLoss: 0.240\n",
            "Train Epoch: 1 [46080/60000 (77%)]\tLoss: 0.227\n",
            "Train Epoch: 1 [51200/60000 (85%)]\tLoss: 0.201\n",
            "Train Epoch: 1 [56320/60000 (94%)]\tLoss: 0.311\n",
            "\n",
            "Test set: Average loss: 0.0009, Accuracy: 9337/10000 (93%)\n",
            "\n",
            "Train Epoch: 2 [0/60000 (0%)]\tLoss: 0.270\n",
            "Train Epoch: 2 [5120/60000 (9%)]\tLoss: 0.190\n",
            "Train Epoch: 2 [10240/60000 (17%)]\tLoss: 0.193\n",
            "Train Epoch: 2 [15360/60000 (26%)]\tLoss: 0.262\n",
            "Train Epoch: 2 [20480/60000 (34%)]\tLoss: 0.204\n",
            "Train Epoch: 2 [25600/60000 (43%)]\tLoss: 0.177\n",
            "Train Epoch: 2 [30720/60000 (51%)]\tLoss: 0.161\n",
            "Train Epoch: 2 [35840/60000 (60%)]\tLoss: 0.141\n",
            "Train Epoch: 2 [40960/60000 (68%)]\tLoss: 0.134\n",
            "Train Epoch: 2 [46080/60000 (77%)]\tLoss: 0.126\n",
            "Train Epoch: 2 [51200/60000 (85%)]\tLoss: 0.158\n",
            "Train Epoch: 2 [56320/60000 (94%)]\tLoss: 0.130\n",
            "\n",
            "Test set: Average loss: 0.0006, Accuracy: 9513/10000 (95%)\n",
            "\n",
            "Train Epoch: 3 [0/60000 (0%)]\tLoss: 0.125\n",
            "Train Epoch: 3 [5120/60000 (9%)]\tLoss: 0.172\n",
            "Train Epoch: 3 [10240/60000 (17%)]\tLoss: 0.170\n",
            "Train Epoch: 3 [15360/60000 (26%)]\tLoss: 0.162\n",
            "Train Epoch: 3 [20480/60000 (34%)]\tLoss: 0.155\n",
            "Train Epoch: 3 [25600/60000 (43%)]\tLoss: 0.108\n",
            "Train Epoch: 3 [30720/60000 (51%)]\tLoss: 0.135\n",
            "Train Epoch: 3 [35840/60000 (60%)]\tLoss: 0.131\n",
            "Train Epoch: 3 [40960/60000 (68%)]\tLoss: 0.144\n",
            "Train Epoch: 3 [46080/60000 (77%)]\tLoss: 0.116\n",
            "Train Epoch: 3 [51200/60000 (85%)]\tLoss: 0.102\n",
            "Train Epoch: 3 [56320/60000 (94%)]\tLoss: 0.194\n",
            "\n",
            "Test set: Average loss: 0.0005, Accuracy: 9582/10000 (96%)\n",
            "\n",
            "Train Epoch: 4 [0/60000 (0%)]\tLoss: 0.154\n",
            "Train Epoch: 4 [5120/60000 (9%)]\tLoss: 0.096\n",
            "Train Epoch: 4 [10240/60000 (17%)]\tLoss: 0.092\n",
            "Train Epoch: 4 [15360/60000 (26%)]\tLoss: 0.205\n",
            "Train Epoch: 4 [20480/60000 (34%)]\tLoss: 0.115\n",
            "Train Epoch: 4 [25600/60000 (43%)]\tLoss: 0.098\n",
            "Train Epoch: 4 [30720/60000 (51%)]\tLoss: 0.151\n",
            "Train Epoch: 4 [35840/60000 (60%)]\tLoss: 0.132\n",
            "Train Epoch: 4 [40960/60000 (68%)]\tLoss: 0.139\n",
            "Train Epoch: 4 [46080/60000 (77%)]\tLoss: 0.114\n",
            "Train Epoch: 4 [51200/60000 (85%)]\tLoss: 0.061\n",
            "Train Epoch: 4 [56320/60000 (94%)]\tLoss: 0.164\n"
          ]
        },
        {
          "output_type": "stream",
          "name": "stderr",
          "text": [
            "2021/10/18 12:42:52 WARNING mlflow.utils.requirements_utils: Found torch version (1.9.0+cu111) contains a local version label (+cu111). MLflow logged a pip requirement for this package as 'torch==1.9.0' without the local version label to make it installable from PyPI. To specify pip requirements containing local version labels, please use `conda_env` or `pip_requirements`.\n",
            "2021/10/18 12:42:52 WARNING mlflow.utils.requirements_utils: Found torchvision version (0.10.0+cu111) contains a local version label (+cu111). MLflow logged a pip requirement for this package as 'torchvision==0.10.0' without the local version label to make it installable from PyPI. To specify pip requirements containing local version labels, please use `conda_env` or `pip_requirements`.\n"
          ]
        },
        {
          "output_type": "stream",
          "name": "stdout",
          "text": [
            "\n",
            "Test set: Average loss: 0.0005, Accuracy: 9597/10000 (96%)\n",
            "\n"
          ]
        },
        {
          "output_type": "stream",
          "name": "stderr",
          "text": [
            "2021/10/18 12:42:55 WARNING mlflow.utils.requirements_utils: Found torch version (1.9.0+cu111) contains a local version label (+cu111). MLflow logged a pip requirement for this package as 'torch==1.9.0' without the local version label to make it installable from PyPI. To specify pip requirements containing local version labels, please use `conda_env` or `pip_requirements`.\n"
          ]
        },
        {
          "output_type": "stream",
          "name": "stdout",
          "text": [
            "\n",
            "LR = 0.02, Momentum = 0.95, Hidden nodes = 48\n",
            "\n",
            "Train Epoch: 1 [0/60000 (0%)]\tLoss: 2.325\n",
            "Train Epoch: 1 [5120/60000 (9%)]\tLoss: 0.523\n",
            "Train Epoch: 1 [10240/60000 (17%)]\tLoss: 0.825\n",
            "Train Epoch: 1 [15360/60000 (26%)]\tLoss: 0.533\n",
            "Train Epoch: 1 [20480/60000 (34%)]\tLoss: 0.284\n",
            "Train Epoch: 1 [25600/60000 (43%)]\tLoss: 0.222\n",
            "Train Epoch: 1 [30720/60000 (51%)]\tLoss: 0.217\n",
            "Train Epoch: 1 [35840/60000 (60%)]\tLoss: 0.253\n",
            "Train Epoch: 1 [40960/60000 (68%)]\tLoss: 0.246\n",
            "Train Epoch: 1 [46080/60000 (77%)]\tLoss: 0.135\n",
            "Train Epoch: 1 [51200/60000 (85%)]\tLoss: 0.199\n",
            "Train Epoch: 1 [56320/60000 (94%)]\tLoss: 0.152\n",
            "\n",
            "Test set: Average loss: 0.0007, Accuracy: 9455/10000 (95%)\n",
            "\n",
            "Train Epoch: 2 [0/60000 (0%)]\tLoss: 0.222\n",
            "Train Epoch: 2 [5120/60000 (9%)]\tLoss: 0.195\n",
            "Train Epoch: 2 [10240/60000 (17%)]\tLoss: 0.148\n",
            "Train Epoch: 2 [15360/60000 (26%)]\tLoss: 0.155\n",
            "Train Epoch: 2 [20480/60000 (34%)]\tLoss: 0.078\n",
            "Train Epoch: 2 [25600/60000 (43%)]\tLoss: 0.076\n",
            "Train Epoch: 2 [30720/60000 (51%)]\tLoss: 0.111\n",
            "Train Epoch: 2 [35840/60000 (60%)]\tLoss: 0.186\n",
            "Train Epoch: 2 [40960/60000 (68%)]\tLoss: 0.152\n",
            "Train Epoch: 2 [46080/60000 (77%)]\tLoss: 0.122\n",
            "Train Epoch: 2 [51200/60000 (85%)]\tLoss: 0.091\n",
            "Train Epoch: 2 [56320/60000 (94%)]\tLoss: 0.193\n",
            "\n",
            "Test set: Average loss: 0.0005, Accuracy: 9617/10000 (96%)\n",
            "\n",
            "Train Epoch: 3 [0/60000 (0%)]\tLoss: 0.134\n",
            "Train Epoch: 3 [5120/60000 (9%)]\tLoss: 0.128\n",
            "Train Epoch: 3 [10240/60000 (17%)]\tLoss: 0.119\n",
            "Train Epoch: 3 [15360/60000 (26%)]\tLoss: 0.145\n",
            "Train Epoch: 3 [20480/60000 (34%)]\tLoss: 0.078\n",
            "Train Epoch: 3 [25600/60000 (43%)]\tLoss: 0.111\n",
            "Train Epoch: 3 [30720/60000 (51%)]\tLoss: 0.069\n",
            "Train Epoch: 3 [35840/60000 (60%)]\tLoss: 0.066\n",
            "Train Epoch: 3 [40960/60000 (68%)]\tLoss: 0.106\n",
            "Train Epoch: 3 [46080/60000 (77%)]\tLoss: 0.082\n",
            "Train Epoch: 3 [51200/60000 (85%)]\tLoss: 0.157\n",
            "Train Epoch: 3 [56320/60000 (94%)]\tLoss: 0.168\n",
            "\n",
            "Test set: Average loss: 0.0005, Accuracy: 9635/10000 (96%)\n",
            "\n",
            "Train Epoch: 4 [0/60000 (0%)]\tLoss: 0.077\n",
            "Train Epoch: 4 [5120/60000 (9%)]\tLoss: 0.102\n",
            "Train Epoch: 4 [10240/60000 (17%)]\tLoss: 0.121\n",
            "Train Epoch: 4 [15360/60000 (26%)]\tLoss: 0.138\n",
            "Train Epoch: 4 [20480/60000 (34%)]\tLoss: 0.096\n",
            "Train Epoch: 4 [25600/60000 (43%)]\tLoss: 0.126\n",
            "Train Epoch: 4 [30720/60000 (51%)]\tLoss: 0.112\n",
            "Train Epoch: 4 [35840/60000 (60%)]\tLoss: 0.054\n",
            "Train Epoch: 4 [40960/60000 (68%)]\tLoss: 0.130\n",
            "Train Epoch: 4 [46080/60000 (77%)]\tLoss: 0.079\n",
            "Train Epoch: 4 [51200/60000 (85%)]\tLoss: 0.073\n",
            "Train Epoch: 4 [56320/60000 (94%)]\tLoss: 0.132\n"
          ]
        },
        {
          "output_type": "stream",
          "name": "stderr",
          "text": [
            "2021/10/18 12:43:40 WARNING mlflow.utils.requirements_utils: Found torch version (1.9.0+cu111) contains a local version label (+cu111). MLflow logged a pip requirement for this package as 'torch==1.9.0' without the local version label to make it installable from PyPI. To specify pip requirements containing local version labels, please use `conda_env` or `pip_requirements`.\n",
            "2021/10/18 12:43:40 WARNING mlflow.utils.requirements_utils: Found torchvision version (0.10.0+cu111) contains a local version label (+cu111). MLflow logged a pip requirement for this package as 'torchvision==0.10.0' without the local version label to make it installable from PyPI. To specify pip requirements containing local version labels, please use `conda_env` or `pip_requirements`.\n"
          ]
        },
        {
          "output_type": "stream",
          "name": "stdout",
          "text": [
            "\n",
            "Test set: Average loss: 0.0004, Accuracy: 9663/10000 (97%)\n",
            "\n"
          ]
        },
        {
          "output_type": "stream",
          "name": "stderr",
          "text": [
            "2021/10/18 12:43:42 WARNING mlflow.utils.requirements_utils: Found torch version (1.9.0+cu111) contains a local version label (+cu111). MLflow logged a pip requirement for this package as 'torch==1.9.0' without the local version label to make it installable from PyPI. To specify pip requirements containing local version labels, please use `conda_env` or `pip_requirements`.\n"
          ]
        },
        {
          "output_type": "stream",
          "name": "stdout",
          "text": [
            "\n",
            "LR = 0.02, Momentum = 0.99, Hidden nodes = 16\n",
            "\n",
            "Train Epoch: 1 [0/60000 (0%)]\tLoss: 2.322\n",
            "Train Epoch: 1 [5120/60000 (9%)]\tLoss: 0.720\n",
            "Train Epoch: 1 [10240/60000 (17%)]\tLoss: 0.831\n",
            "Train Epoch: 1 [15360/60000 (26%)]\tLoss: 0.988\n",
            "Train Epoch: 1 [20480/60000 (34%)]\tLoss: 0.846\n",
            "Train Epoch: 1 [25600/60000 (43%)]\tLoss: 0.639\n",
            "Train Epoch: 1 [30720/60000 (51%)]\tLoss: 0.711\n",
            "Train Epoch: 1 [35840/60000 (60%)]\tLoss: 0.659\n",
            "Train Epoch: 1 [40960/60000 (68%)]\tLoss: 0.785\n",
            "Train Epoch: 1 [46080/60000 (77%)]\tLoss: 0.579\n",
            "Train Epoch: 1 [51200/60000 (85%)]\tLoss: 0.909\n",
            "Train Epoch: 1 [56320/60000 (94%)]\tLoss: 0.441\n",
            "\n",
            "Test set: Average loss: 0.0022, Accuracy: 8559/10000 (86%)\n",
            "\n",
            "Train Epoch: 2 [0/60000 (0%)]\tLoss: 0.362\n",
            "Train Epoch: 2 [5120/60000 (9%)]\tLoss: 0.433\n",
            "Train Epoch: 2 [10240/60000 (17%)]\tLoss: 0.417\n",
            "Train Epoch: 2 [15360/60000 (26%)]\tLoss: 0.350\n",
            "Train Epoch: 2 [20480/60000 (34%)]\tLoss: 0.519\n",
            "Train Epoch: 2 [25600/60000 (43%)]\tLoss: 0.329\n",
            "Train Epoch: 2 [30720/60000 (51%)]\tLoss: 0.574\n",
            "Train Epoch: 2 [35840/60000 (60%)]\tLoss: 0.404\n",
            "Train Epoch: 2 [40960/60000 (68%)]\tLoss: 0.559\n",
            "Train Epoch: 2 [46080/60000 (77%)]\tLoss: 0.514\n",
            "Train Epoch: 2 [51200/60000 (85%)]\tLoss: 0.536\n",
            "Train Epoch: 2 [56320/60000 (94%)]\tLoss: 0.353\n",
            "\n",
            "Test set: Average loss: 0.0014, Accuracy: 9019/10000 (90%)\n",
            "\n",
            "Train Epoch: 3 [0/60000 (0%)]\tLoss: 0.483\n",
            "Train Epoch: 3 [5120/60000 (9%)]\tLoss: 0.410\n",
            "Train Epoch: 3 [10240/60000 (17%)]\tLoss: 0.148\n",
            "Train Epoch: 3 [15360/60000 (26%)]\tLoss: 0.492\n",
            "Train Epoch: 3 [20480/60000 (34%)]\tLoss: 0.398\n",
            "Train Epoch: 3 [25600/60000 (43%)]\tLoss: 0.446\n",
            "Train Epoch: 3 [30720/60000 (51%)]\tLoss: 0.311\n",
            "Train Epoch: 3 [35840/60000 (60%)]\tLoss: 0.321\n",
            "Train Epoch: 3 [40960/60000 (68%)]\tLoss: 0.329\n",
            "Train Epoch: 3 [46080/60000 (77%)]\tLoss: 0.380\n",
            "Train Epoch: 3 [51200/60000 (85%)]\tLoss: 0.236\n",
            "Train Epoch: 3 [56320/60000 (94%)]\tLoss: 0.503\n",
            "\n",
            "Test set: Average loss: 0.0013, Accuracy: 9150/10000 (92%)\n",
            "\n",
            "Train Epoch: 4 [0/60000 (0%)]\tLoss: 0.304\n",
            "Train Epoch: 4 [5120/60000 (9%)]\tLoss: 0.281\n",
            "Train Epoch: 4 [10240/60000 (17%)]\tLoss: 0.290\n",
            "Train Epoch: 4 [15360/60000 (26%)]\tLoss: 0.334\n",
            "Train Epoch: 4 [20480/60000 (34%)]\tLoss: 0.214\n",
            "Train Epoch: 4 [25600/60000 (43%)]\tLoss: 0.481\n",
            "Train Epoch: 4 [30720/60000 (51%)]\tLoss: 0.258\n",
            "Train Epoch: 4 [35840/60000 (60%)]\tLoss: 0.255\n",
            "Train Epoch: 4 [40960/60000 (68%)]\tLoss: 0.330\n",
            "Train Epoch: 4 [46080/60000 (77%)]\tLoss: 0.267\n",
            "Train Epoch: 4 [51200/60000 (85%)]\tLoss: 0.464\n",
            "Train Epoch: 4 [56320/60000 (94%)]\tLoss: 0.487\n"
          ]
        },
        {
          "output_type": "stream",
          "name": "stderr",
          "text": [
            "2021/10/18 12:44:26 WARNING mlflow.utils.requirements_utils: Found torch version (1.9.0+cu111) contains a local version label (+cu111). MLflow logged a pip requirement for this package as 'torch==1.9.0' without the local version label to make it installable from PyPI. To specify pip requirements containing local version labels, please use `conda_env` or `pip_requirements`.\n",
            "2021/10/18 12:44:26 WARNING mlflow.utils.requirements_utils: Found torchvision version (0.10.0+cu111) contains a local version label (+cu111). MLflow logged a pip requirement for this package as 'torchvision==0.10.0' without the local version label to make it installable from PyPI. To specify pip requirements containing local version labels, please use `conda_env` or `pip_requirements`.\n"
          ]
        },
        {
          "output_type": "stream",
          "name": "stdout",
          "text": [
            "\n",
            "Test set: Average loss: 0.0014, Accuracy: 9130/10000 (91%)\n",
            "\n"
          ]
        },
        {
          "output_type": "stream",
          "name": "stderr",
          "text": [
            "2021/10/18 12:44:28 WARNING mlflow.utils.requirements_utils: Found torch version (1.9.0+cu111) contains a local version label (+cu111). MLflow logged a pip requirement for this package as 'torch==1.9.0' without the local version label to make it installable from PyPI. To specify pip requirements containing local version labels, please use `conda_env` or `pip_requirements`.\n"
          ]
        },
        {
          "output_type": "stream",
          "name": "stdout",
          "text": [
            "\n",
            "LR = 0.02, Momentum = 0.99, Hidden nodes = 24\n",
            "\n",
            "Train Epoch: 1 [0/60000 (0%)]\tLoss: 2.370\n",
            "Train Epoch: 1 [5120/60000 (9%)]\tLoss: 0.628\n",
            "Train Epoch: 1 [10240/60000 (17%)]\tLoss: 1.120\n",
            "Train Epoch: 1 [15360/60000 (26%)]\tLoss: 1.554\n",
            "Train Epoch: 1 [20480/60000 (34%)]\tLoss: 1.615\n",
            "Train Epoch: 1 [25600/60000 (43%)]\tLoss: 0.719\n",
            "Train Epoch: 1 [30720/60000 (51%)]\tLoss: 1.019\n",
            "Train Epoch: 1 [35840/60000 (60%)]\tLoss: 1.082\n",
            "Train Epoch: 1 [40960/60000 (68%)]\tLoss: 1.016\n",
            "Train Epoch: 1 [46080/60000 (77%)]\tLoss: 0.884\n",
            "Train Epoch: 1 [51200/60000 (85%)]\tLoss: 0.580\n",
            "Train Epoch: 1 [56320/60000 (94%)]\tLoss: 0.865\n",
            "\n",
            "Test set: Average loss: 0.0025, Accuracy: 8297/10000 (83%)\n",
            "\n",
            "Train Epoch: 2 [0/60000 (0%)]\tLoss: 0.495\n",
            "Train Epoch: 2 [5120/60000 (9%)]\tLoss: 0.792\n",
            "Train Epoch: 2 [10240/60000 (17%)]\tLoss: 0.549\n",
            "Train Epoch: 2 [15360/60000 (26%)]\tLoss: 0.512\n",
            "Train Epoch: 2 [20480/60000 (34%)]\tLoss: 0.540\n",
            "Train Epoch: 2 [25600/60000 (43%)]\tLoss: 0.430\n",
            "Train Epoch: 2 [30720/60000 (51%)]\tLoss: 0.475\n",
            "Train Epoch: 2 [35840/60000 (60%)]\tLoss: 0.444\n",
            "Train Epoch: 2 [40960/60000 (68%)]\tLoss: 0.478\n",
            "Train Epoch: 2 [46080/60000 (77%)]\tLoss: 0.222\n",
            "Train Epoch: 2 [51200/60000 (85%)]\tLoss: 0.436\n",
            "Train Epoch: 2 [56320/60000 (94%)]\tLoss: 0.446\n",
            "\n",
            "Test set: Average loss: 0.0018, Accuracy: 8913/10000 (89%)\n",
            "\n",
            "Train Epoch: 3 [0/60000 (0%)]\tLoss: 0.427\n",
            "Train Epoch: 3 [5120/60000 (9%)]\tLoss: 0.296\n",
            "Train Epoch: 3 [10240/60000 (17%)]\tLoss: 0.246\n",
            "Train Epoch: 3 [15360/60000 (26%)]\tLoss: 0.392\n",
            "Train Epoch: 3 [20480/60000 (34%)]\tLoss: 0.362\n",
            "Train Epoch: 3 [25600/60000 (43%)]\tLoss: 0.375\n",
            "Train Epoch: 3 [30720/60000 (51%)]\tLoss: 0.376\n",
            "Train Epoch: 3 [35840/60000 (60%)]\tLoss: 0.432\n",
            "Train Epoch: 3 [40960/60000 (68%)]\tLoss: 0.237\n",
            "Train Epoch: 3 [46080/60000 (77%)]\tLoss: 0.304\n",
            "Train Epoch: 3 [51200/60000 (85%)]\tLoss: 0.274\n",
            "Train Epoch: 3 [56320/60000 (94%)]\tLoss: 0.544\n",
            "\n",
            "Test set: Average loss: 0.0014, Accuracy: 9173/10000 (92%)\n",
            "\n",
            "Train Epoch: 4 [0/60000 (0%)]\tLoss: 0.281\n",
            "Train Epoch: 4 [5120/60000 (9%)]\tLoss: 0.371\n",
            "Train Epoch: 4 [10240/60000 (17%)]\tLoss: 0.246\n",
            "Train Epoch: 4 [15360/60000 (26%)]\tLoss: 0.248\n",
            "Train Epoch: 4 [20480/60000 (34%)]\tLoss: 0.256\n",
            "Train Epoch: 4 [25600/60000 (43%)]\tLoss: 0.264\n",
            "Train Epoch: 4 [30720/60000 (51%)]\tLoss: 0.466\n",
            "Train Epoch: 4 [35840/60000 (60%)]\tLoss: 0.236\n",
            "Train Epoch: 4 [40960/60000 (68%)]\tLoss: 0.585\n",
            "Train Epoch: 4 [46080/60000 (77%)]\tLoss: 0.296\n",
            "Train Epoch: 4 [51200/60000 (85%)]\tLoss: 0.341\n",
            "Train Epoch: 4 [56320/60000 (94%)]\tLoss: 0.383\n"
          ]
        },
        {
          "output_type": "stream",
          "name": "stderr",
          "text": [
            "2021/10/18 12:45:13 WARNING mlflow.utils.requirements_utils: Found torch version (1.9.0+cu111) contains a local version label (+cu111). MLflow logged a pip requirement for this package as 'torch==1.9.0' without the local version label to make it installable from PyPI. To specify pip requirements containing local version labels, please use `conda_env` or `pip_requirements`.\n",
            "2021/10/18 12:45:13 WARNING mlflow.utils.requirements_utils: Found torchvision version (0.10.0+cu111) contains a local version label (+cu111). MLflow logged a pip requirement for this package as 'torchvision==0.10.0' without the local version label to make it installable from PyPI. To specify pip requirements containing local version labels, please use `conda_env` or `pip_requirements`.\n"
          ]
        },
        {
          "output_type": "stream",
          "name": "stdout",
          "text": [
            "\n",
            "Test set: Average loss: 0.0012, Accuracy: 9252/10000 (93%)\n",
            "\n"
          ]
        },
        {
          "output_type": "stream",
          "name": "stderr",
          "text": [
            "2021/10/18 12:45:15 WARNING mlflow.utils.requirements_utils: Found torch version (1.9.0+cu111) contains a local version label (+cu111). MLflow logged a pip requirement for this package as 'torch==1.9.0' without the local version label to make it installable from PyPI. To specify pip requirements containing local version labels, please use `conda_env` or `pip_requirements`.\n"
          ]
        },
        {
          "output_type": "stream",
          "name": "stdout",
          "text": [
            "\n",
            "LR = 0.02, Momentum = 0.99, Hidden nodes = 32\n",
            "\n",
            "Train Epoch: 1 [0/60000 (0%)]\tLoss: 2.333\n",
            "Train Epoch: 1 [5120/60000 (9%)]\tLoss: 0.647\n",
            "Train Epoch: 1 [10240/60000 (17%)]\tLoss: 0.727\n",
            "Train Epoch: 1 [15360/60000 (26%)]\tLoss: 1.513\n",
            "Train Epoch: 1 [20480/60000 (34%)]\tLoss: 1.055\n",
            "Train Epoch: 1 [25600/60000 (43%)]\tLoss: 0.763\n",
            "Train Epoch: 1 [30720/60000 (51%)]\tLoss: 0.804\n",
            "Train Epoch: 1 [35840/60000 (60%)]\tLoss: 0.672\n",
            "Train Epoch: 1 [40960/60000 (68%)]\tLoss: 0.872\n",
            "Train Epoch: 1 [46080/60000 (77%)]\tLoss: 0.738\n",
            "Train Epoch: 1 [51200/60000 (85%)]\tLoss: 0.392\n",
            "Train Epoch: 1 [56320/60000 (94%)]\tLoss: 0.447\n",
            "\n",
            "Test set: Average loss: 0.0021, Accuracy: 8730/10000 (87%)\n",
            "\n",
            "Train Epoch: 2 [0/60000 (0%)]\tLoss: 0.593\n",
            "Train Epoch: 2 [5120/60000 (9%)]\tLoss: 0.484\n",
            "Train Epoch: 2 [10240/60000 (17%)]\tLoss: 0.408\n",
            "Train Epoch: 2 [15360/60000 (26%)]\tLoss: 0.507\n",
            "Train Epoch: 2 [20480/60000 (34%)]\tLoss: 0.502\n",
            "Train Epoch: 2 [25600/60000 (43%)]\tLoss: 0.393\n",
            "Train Epoch: 2 [30720/60000 (51%)]\tLoss: 0.403\n",
            "Train Epoch: 2 [35840/60000 (60%)]\tLoss: 0.489\n",
            "Train Epoch: 2 [40960/60000 (68%)]\tLoss: 0.324\n",
            "Train Epoch: 2 [46080/60000 (77%)]\tLoss: 0.197\n",
            "Train Epoch: 2 [51200/60000 (85%)]\tLoss: 0.451\n",
            "Train Epoch: 2 [56320/60000 (94%)]\tLoss: 0.282\n",
            "\n",
            "Test set: Average loss: 0.0016, Accuracy: 8985/10000 (90%)\n",
            "\n",
            "Train Epoch: 3 [0/60000 (0%)]\tLoss: 0.520\n",
            "Train Epoch: 3 [5120/60000 (9%)]\tLoss: 0.415\n",
            "Train Epoch: 3 [10240/60000 (17%)]\tLoss: 0.461\n",
            "Train Epoch: 3 [15360/60000 (26%)]\tLoss: 0.301\n",
            "Train Epoch: 3 [20480/60000 (34%)]\tLoss: 0.343\n",
            "Train Epoch: 3 [25600/60000 (43%)]\tLoss: 0.250\n",
            "Train Epoch: 3 [30720/60000 (51%)]\tLoss: 0.233\n",
            "Train Epoch: 3 [35840/60000 (60%)]\tLoss: 0.326\n",
            "Train Epoch: 3 [40960/60000 (68%)]\tLoss: 0.178\n",
            "Train Epoch: 3 [46080/60000 (77%)]\tLoss: 0.231\n",
            "Train Epoch: 3 [51200/60000 (85%)]\tLoss: 0.151\n",
            "Train Epoch: 3 [56320/60000 (94%)]\tLoss: 0.220\n",
            "\n",
            "Test set: Average loss: 0.0012, Accuracy: 9294/10000 (93%)\n",
            "\n",
            "Train Epoch: 4 [0/60000 (0%)]\tLoss: 0.269\n",
            "Train Epoch: 4 [5120/60000 (9%)]\tLoss: 0.162\n",
            "Train Epoch: 4 [10240/60000 (17%)]\tLoss: 0.164\n",
            "Train Epoch: 4 [15360/60000 (26%)]\tLoss: 0.262\n",
            "Train Epoch: 4 [20480/60000 (34%)]\tLoss: 0.232\n",
            "Train Epoch: 4 [25600/60000 (43%)]\tLoss: 0.256\n",
            "Train Epoch: 4 [30720/60000 (51%)]\tLoss: 0.241\n",
            "Train Epoch: 4 [35840/60000 (60%)]\tLoss: 0.298\n",
            "Train Epoch: 4 [40960/60000 (68%)]\tLoss: 0.327\n",
            "Train Epoch: 4 [46080/60000 (77%)]\tLoss: 0.250\n",
            "Train Epoch: 4 [51200/60000 (85%)]\tLoss: 0.230\n",
            "Train Epoch: 4 [56320/60000 (94%)]\tLoss: 0.201\n"
          ]
        },
        {
          "output_type": "stream",
          "name": "stderr",
          "text": [
            "2021/10/18 12:46:00 WARNING mlflow.utils.requirements_utils: Found torch version (1.9.0+cu111) contains a local version label (+cu111). MLflow logged a pip requirement for this package as 'torch==1.9.0' without the local version label to make it installable from PyPI. To specify pip requirements containing local version labels, please use `conda_env` or `pip_requirements`.\n",
            "2021/10/18 12:46:00 WARNING mlflow.utils.requirements_utils: Found torchvision version (0.10.0+cu111) contains a local version label (+cu111). MLflow logged a pip requirement for this package as 'torchvision==0.10.0' without the local version label to make it installable from PyPI. To specify pip requirements containing local version labels, please use `conda_env` or `pip_requirements`.\n"
          ]
        },
        {
          "output_type": "stream",
          "name": "stdout",
          "text": [
            "\n",
            "Test set: Average loss: 0.0011, Accuracy: 9276/10000 (93%)\n",
            "\n"
          ]
        },
        {
          "output_type": "stream",
          "name": "stderr",
          "text": [
            "2021/10/18 12:46:02 WARNING mlflow.utils.requirements_utils: Found torch version (1.9.0+cu111) contains a local version label (+cu111). MLflow logged a pip requirement for this package as 'torch==1.9.0' without the local version label to make it installable from PyPI. To specify pip requirements containing local version labels, please use `conda_env` or `pip_requirements`.\n"
          ]
        },
        {
          "output_type": "stream",
          "name": "stdout",
          "text": [
            "\n",
            "LR = 0.02, Momentum = 0.99, Hidden nodes = 48\n",
            "\n",
            "Train Epoch: 1 [0/60000 (0%)]\tLoss: 2.302\n",
            "Train Epoch: 1 [5120/60000 (9%)]\tLoss: 0.587\n",
            "Train Epoch: 1 [10240/60000 (17%)]\tLoss: 0.856\n",
            "Train Epoch: 1 [15360/60000 (26%)]\tLoss: 1.483\n",
            "Train Epoch: 1 [20480/60000 (34%)]\tLoss: 1.056\n",
            "Train Epoch: 1 [25600/60000 (43%)]\tLoss: 0.609\n",
            "Train Epoch: 1 [30720/60000 (51%)]\tLoss: 0.629\n",
            "Train Epoch: 1 [35840/60000 (60%)]\tLoss: 0.685\n",
            "Train Epoch: 1 [40960/60000 (68%)]\tLoss: 0.387\n",
            "Train Epoch: 1 [46080/60000 (77%)]\tLoss: 0.562\n",
            "Train Epoch: 1 [51200/60000 (85%)]\tLoss: 0.482\n",
            "Train Epoch: 1 [56320/60000 (94%)]\tLoss: 0.730\n",
            "\n",
            "Test set: Average loss: 0.0019, Accuracy: 8777/10000 (88%)\n",
            "\n",
            "Train Epoch: 2 [0/60000 (0%)]\tLoss: 0.315\n",
            "Train Epoch: 2 [5120/60000 (9%)]\tLoss: 0.402\n",
            "Train Epoch: 2 [10240/60000 (17%)]\tLoss: 0.432\n",
            "Train Epoch: 2 [15360/60000 (26%)]\tLoss: 0.354\n",
            "Train Epoch: 2 [20480/60000 (34%)]\tLoss: 0.208\n",
            "Train Epoch: 2 [25600/60000 (43%)]\tLoss: 0.431\n",
            "Train Epoch: 2 [30720/60000 (51%)]\tLoss: 0.351\n",
            "Train Epoch: 2 [35840/60000 (60%)]\tLoss: 0.679\n",
            "Train Epoch: 2 [40960/60000 (68%)]\tLoss: 0.294\n",
            "Train Epoch: 2 [46080/60000 (77%)]\tLoss: 0.311\n",
            "Train Epoch: 2 [51200/60000 (85%)]\tLoss: 0.295\n",
            "Train Epoch: 2 [56320/60000 (94%)]\tLoss: 0.305\n",
            "\n",
            "Test set: Average loss: 0.0012, Accuracy: 9219/10000 (92%)\n",
            "\n",
            "Train Epoch: 3 [0/60000 (0%)]\tLoss: 0.287\n",
            "Train Epoch: 3 [5120/60000 (9%)]\tLoss: 0.311\n",
            "Train Epoch: 3 [10240/60000 (17%)]\tLoss: 0.295\n",
            "Train Epoch: 3 [15360/60000 (26%)]\tLoss: 0.252\n",
            "Train Epoch: 3 [20480/60000 (34%)]\tLoss: 0.343\n",
            "Train Epoch: 3 [25600/60000 (43%)]\tLoss: 0.249\n",
            "Train Epoch: 3 [30720/60000 (51%)]\tLoss: 0.252\n",
            "Train Epoch: 3 [35840/60000 (60%)]\tLoss: 0.203\n",
            "Train Epoch: 3 [40960/60000 (68%)]\tLoss: 0.348\n",
            "Train Epoch: 3 [46080/60000 (77%)]\tLoss: 0.282\n",
            "Train Epoch: 3 [51200/60000 (85%)]\tLoss: 0.211\n",
            "Train Epoch: 3 [56320/60000 (94%)]\tLoss: 0.226\n",
            "\n",
            "Test set: Average loss: 0.0010, Accuracy: 9335/10000 (93%)\n",
            "\n",
            "Train Epoch: 4 [0/60000 (0%)]\tLoss: 0.280\n",
            "Train Epoch: 4 [5120/60000 (9%)]\tLoss: 0.280\n",
            "Train Epoch: 4 [10240/60000 (17%)]\tLoss: 0.151\n",
            "Train Epoch: 4 [15360/60000 (26%)]\tLoss: 0.226\n",
            "Train Epoch: 4 [20480/60000 (34%)]\tLoss: 0.106\n",
            "Train Epoch: 4 [25600/60000 (43%)]\tLoss: 0.156\n",
            "Train Epoch: 4 [30720/60000 (51%)]\tLoss: 0.163\n",
            "Train Epoch: 4 [35840/60000 (60%)]\tLoss: 0.118\n",
            "Train Epoch: 4 [40960/60000 (68%)]\tLoss: 0.264\n",
            "Train Epoch: 4 [46080/60000 (77%)]\tLoss: 0.152\n",
            "Train Epoch: 4 [51200/60000 (85%)]\tLoss: 0.208\n",
            "Train Epoch: 4 [56320/60000 (94%)]\tLoss: 0.365\n"
          ]
        },
        {
          "output_type": "stream",
          "name": "stderr",
          "text": [
            "2021/10/18 12:46:47 WARNING mlflow.utils.requirements_utils: Found torch version (1.9.0+cu111) contains a local version label (+cu111). MLflow logged a pip requirement for this package as 'torch==1.9.0' without the local version label to make it installable from PyPI. To specify pip requirements containing local version labels, please use `conda_env` or `pip_requirements`.\n",
            "2021/10/18 12:46:47 WARNING mlflow.utils.requirements_utils: Found torchvision version (0.10.0+cu111) contains a local version label (+cu111). MLflow logged a pip requirement for this package as 'torchvision==0.10.0' without the local version label to make it installable from PyPI. To specify pip requirements containing local version labels, please use `conda_env` or `pip_requirements`.\n"
          ]
        },
        {
          "output_type": "stream",
          "name": "stdout",
          "text": [
            "\n",
            "Test set: Average loss: 0.0011, Accuracy: 9307/10000 (93%)\n",
            "\n"
          ]
        },
        {
          "output_type": "stream",
          "name": "stderr",
          "text": [
            "2021/10/18 12:46:49 WARNING mlflow.utils.requirements_utils: Found torch version (1.9.0+cu111) contains a local version label (+cu111). MLflow logged a pip requirement for this package as 'torch==1.9.0' without the local version label to make it installable from PyPI. To specify pip requirements containing local version labels, please use `conda_env` or `pip_requirements`.\n"
          ]
        },
        {
          "output_type": "stream",
          "name": "stdout",
          "text": [
            "\n",
            "LR = 0.05, Momentum = 0.90, Hidden nodes = 16\n",
            "\n",
            "Train Epoch: 1 [0/60000 (0%)]\tLoss: 2.368\n",
            "Train Epoch: 1 [5120/60000 (9%)]\tLoss: 0.775\n",
            "Train Epoch: 1 [10240/60000 (17%)]\tLoss: 0.381\n",
            "Train Epoch: 1 [15360/60000 (26%)]\tLoss: 0.342\n",
            "Train Epoch: 1 [20480/60000 (34%)]\tLoss: 0.302\n",
            "Train Epoch: 1 [25600/60000 (43%)]\tLoss: 0.319\n",
            "Train Epoch: 1 [30720/60000 (51%)]\tLoss: 0.307\n",
            "Train Epoch: 1 [35840/60000 (60%)]\tLoss: 0.461\n",
            "Train Epoch: 1 [40960/60000 (68%)]\tLoss: 0.326\n",
            "Train Epoch: 1 [46080/60000 (77%)]\tLoss: 0.305\n",
            "Train Epoch: 1 [51200/60000 (85%)]\tLoss: 0.213\n",
            "Train Epoch: 1 [56320/60000 (94%)]\tLoss: 0.247\n",
            "\n",
            "Test set: Average loss: 0.0008, Accuracy: 9340/10000 (93%)\n",
            "\n",
            "Train Epoch: 2 [0/60000 (0%)]\tLoss: 0.241\n",
            "Train Epoch: 2 [5120/60000 (9%)]\tLoss: 0.209\n",
            "Train Epoch: 2 [10240/60000 (17%)]\tLoss: 0.258\n",
            "Train Epoch: 2 [15360/60000 (26%)]\tLoss: 0.193\n",
            "Train Epoch: 2 [20480/60000 (34%)]\tLoss: 0.213\n",
            "Train Epoch: 2 [25600/60000 (43%)]\tLoss: 0.240\n",
            "Train Epoch: 2 [30720/60000 (51%)]\tLoss: 0.228\n",
            "Train Epoch: 2 [35840/60000 (60%)]\tLoss: 0.196\n",
            "Train Epoch: 2 [40960/60000 (68%)]\tLoss: 0.181\n",
            "Train Epoch: 2 [46080/60000 (77%)]\tLoss: 0.191\n",
            "Train Epoch: 2 [51200/60000 (85%)]\tLoss: 0.285\n",
            "Train Epoch: 2 [56320/60000 (94%)]\tLoss: 0.220\n",
            "\n",
            "Test set: Average loss: 0.0008, Accuracy: 9418/10000 (94%)\n",
            "\n",
            "Train Epoch: 3 [0/60000 (0%)]\tLoss: 0.202\n",
            "Train Epoch: 3 [5120/60000 (9%)]\tLoss: 0.119\n",
            "Train Epoch: 3 [10240/60000 (17%)]\tLoss: 0.222\n",
            "Train Epoch: 3 [15360/60000 (26%)]\tLoss: 0.184\n",
            "Train Epoch: 3 [20480/60000 (34%)]\tLoss: 0.218\n",
            "Train Epoch: 3 [25600/60000 (43%)]\tLoss: 0.199\n",
            "Train Epoch: 3 [30720/60000 (51%)]\tLoss: 0.152\n",
            "Train Epoch: 3 [35840/60000 (60%)]\tLoss: 0.133\n",
            "Train Epoch: 3 [40960/60000 (68%)]\tLoss: 0.232\n",
            "Train Epoch: 3 [46080/60000 (77%)]\tLoss: 0.266\n",
            "Train Epoch: 3 [51200/60000 (85%)]\tLoss: 0.182\n",
            "Train Epoch: 3 [56320/60000 (94%)]\tLoss: 0.161\n",
            "\n",
            "Test set: Average loss: 0.0007, Accuracy: 9433/10000 (94%)\n",
            "\n",
            "Train Epoch: 4 [0/60000 (0%)]\tLoss: 0.114\n",
            "Train Epoch: 4 [5120/60000 (9%)]\tLoss: 0.153\n",
            "Train Epoch: 4 [10240/60000 (17%)]\tLoss: 0.155\n",
            "Train Epoch: 4 [15360/60000 (26%)]\tLoss: 0.252\n",
            "Train Epoch: 4 [20480/60000 (34%)]\tLoss: 0.203\n",
            "Train Epoch: 4 [25600/60000 (43%)]\tLoss: 0.116\n",
            "Train Epoch: 4 [30720/60000 (51%)]\tLoss: 0.180\n",
            "Train Epoch: 4 [35840/60000 (60%)]\tLoss: 0.187\n",
            "Train Epoch: 4 [40960/60000 (68%)]\tLoss: 0.257\n",
            "Train Epoch: 4 [46080/60000 (77%)]\tLoss: 0.188\n",
            "Train Epoch: 4 [51200/60000 (85%)]\tLoss: 0.158\n",
            "Train Epoch: 4 [56320/60000 (94%)]\tLoss: 0.161\n"
          ]
        },
        {
          "output_type": "stream",
          "name": "stderr",
          "text": [
            "2021/10/18 12:47:33 WARNING mlflow.utils.requirements_utils: Found torch version (1.9.0+cu111) contains a local version label (+cu111). MLflow logged a pip requirement for this package as 'torch==1.9.0' without the local version label to make it installable from PyPI. To specify pip requirements containing local version labels, please use `conda_env` or `pip_requirements`.\n",
            "2021/10/18 12:47:33 WARNING mlflow.utils.requirements_utils: Found torchvision version (0.10.0+cu111) contains a local version label (+cu111). MLflow logged a pip requirement for this package as 'torchvision==0.10.0' without the local version label to make it installable from PyPI. To specify pip requirements containing local version labels, please use `conda_env` or `pip_requirements`.\n"
          ]
        },
        {
          "output_type": "stream",
          "name": "stdout",
          "text": [
            "\n",
            "Test set: Average loss: 0.0007, Accuracy: 9457/10000 (95%)\n",
            "\n"
          ]
        },
        {
          "output_type": "stream",
          "name": "stderr",
          "text": [
            "2021/10/18 12:47:35 WARNING mlflow.utils.requirements_utils: Found torch version (1.9.0+cu111) contains a local version label (+cu111). MLflow logged a pip requirement for this package as 'torch==1.9.0' without the local version label to make it installable from PyPI. To specify pip requirements containing local version labels, please use `conda_env` or `pip_requirements`.\n"
          ]
        },
        {
          "output_type": "stream",
          "name": "stdout",
          "text": [
            "\n",
            "LR = 0.05, Momentum = 0.90, Hidden nodes = 24\n",
            "\n",
            "Train Epoch: 1 [0/60000 (0%)]\tLoss: 2.409\n",
            "Train Epoch: 1 [5120/60000 (9%)]\tLoss: 0.374\n",
            "Train Epoch: 1 [10240/60000 (17%)]\tLoss: 0.480\n",
            "Train Epoch: 1 [15360/60000 (26%)]\tLoss: 0.280\n",
            "Train Epoch: 1 [20480/60000 (34%)]\tLoss: 0.195\n",
            "Train Epoch: 1 [25600/60000 (43%)]\tLoss: 0.330\n",
            "Train Epoch: 1 [30720/60000 (51%)]\tLoss: 0.373\n",
            "Train Epoch: 1 [35840/60000 (60%)]\tLoss: 0.353\n",
            "Train Epoch: 1 [40960/60000 (68%)]\tLoss: 0.226\n",
            "Train Epoch: 1 [46080/60000 (77%)]\tLoss: 0.258\n",
            "Train Epoch: 1 [51200/60000 (85%)]\tLoss: 0.259\n",
            "Train Epoch: 1 [56320/60000 (94%)]\tLoss: 0.333\n",
            "\n",
            "Test set: Average loss: 0.0008, Accuracy: 9402/10000 (94%)\n",
            "\n",
            "Train Epoch: 2 [0/60000 (0%)]\tLoss: 0.207\n",
            "Train Epoch: 2 [5120/60000 (9%)]\tLoss: 0.230\n",
            "Train Epoch: 2 [10240/60000 (17%)]\tLoss: 0.149\n",
            "Train Epoch: 2 [15360/60000 (26%)]\tLoss: 0.192\n",
            "Train Epoch: 2 [20480/60000 (34%)]\tLoss: 0.197\n",
            "Train Epoch: 2 [25600/60000 (43%)]\tLoss: 0.161\n",
            "Train Epoch: 2 [30720/60000 (51%)]\tLoss: 0.140\n",
            "Train Epoch: 2 [35840/60000 (60%)]\tLoss: 0.147\n",
            "Train Epoch: 2 [40960/60000 (68%)]\tLoss: 0.146\n",
            "Train Epoch: 2 [46080/60000 (77%)]\tLoss: 0.150\n",
            "Train Epoch: 2 [51200/60000 (85%)]\tLoss: 0.128\n",
            "Train Epoch: 2 [56320/60000 (94%)]\tLoss: 0.186\n",
            "\n",
            "Test set: Average loss: 0.0007, Accuracy: 9470/10000 (95%)\n",
            "\n",
            "Train Epoch: 3 [0/60000 (0%)]\tLoss: 0.155\n",
            "Train Epoch: 3 [5120/60000 (9%)]\tLoss: 0.117\n",
            "Train Epoch: 3 [10240/60000 (17%)]\tLoss: 0.219\n",
            "Train Epoch: 3 [15360/60000 (26%)]\tLoss: 0.196\n",
            "Train Epoch: 3 [20480/60000 (34%)]\tLoss: 0.124\n",
            "Train Epoch: 3 [25600/60000 (43%)]\tLoss: 0.128\n",
            "Train Epoch: 3 [30720/60000 (51%)]\tLoss: 0.168\n",
            "Train Epoch: 3 [35840/60000 (60%)]\tLoss: 0.159\n",
            "Train Epoch: 3 [40960/60000 (68%)]\tLoss: 0.142\n",
            "Train Epoch: 3 [46080/60000 (77%)]\tLoss: 0.153\n",
            "Train Epoch: 3 [51200/60000 (85%)]\tLoss: 0.137\n",
            "Train Epoch: 3 [56320/60000 (94%)]\tLoss: 0.090\n",
            "\n",
            "Test set: Average loss: 0.0005, Accuracy: 9583/10000 (96%)\n",
            "\n",
            "Train Epoch: 4 [0/60000 (0%)]\tLoss: 0.176\n",
            "Train Epoch: 4 [5120/60000 (9%)]\tLoss: 0.120\n",
            "Train Epoch: 4 [10240/60000 (17%)]\tLoss: 0.124\n",
            "Train Epoch: 4 [15360/60000 (26%)]\tLoss: 0.146\n",
            "Train Epoch: 4 [20480/60000 (34%)]\tLoss: 0.131\n",
            "Train Epoch: 4 [25600/60000 (43%)]\tLoss: 0.110\n",
            "Train Epoch: 4 [30720/60000 (51%)]\tLoss: 0.104\n",
            "Train Epoch: 4 [35840/60000 (60%)]\tLoss: 0.078\n",
            "Train Epoch: 4 [40960/60000 (68%)]\tLoss: 0.082\n",
            "Train Epoch: 4 [46080/60000 (77%)]\tLoss: 0.118\n",
            "Train Epoch: 4 [51200/60000 (85%)]\tLoss: 0.112\n",
            "Train Epoch: 4 [56320/60000 (94%)]\tLoss: 0.071\n"
          ]
        },
        {
          "output_type": "stream",
          "name": "stderr",
          "text": [
            "2021/10/18 12:48:20 WARNING mlflow.utils.requirements_utils: Found torch version (1.9.0+cu111) contains a local version label (+cu111). MLflow logged a pip requirement for this package as 'torch==1.9.0' without the local version label to make it installable from PyPI. To specify pip requirements containing local version labels, please use `conda_env` or `pip_requirements`.\n",
            "2021/10/18 12:48:20 WARNING mlflow.utils.requirements_utils: Found torchvision version (0.10.0+cu111) contains a local version label (+cu111). MLflow logged a pip requirement for this package as 'torchvision==0.10.0' without the local version label to make it installable from PyPI. To specify pip requirements containing local version labels, please use `conda_env` or `pip_requirements`.\n"
          ]
        },
        {
          "output_type": "stream",
          "name": "stdout",
          "text": [
            "\n",
            "Test set: Average loss: 0.0005, Accuracy: 9654/10000 (97%)\n",
            "\n"
          ]
        },
        {
          "output_type": "stream",
          "name": "stderr",
          "text": [
            "2021/10/18 12:48:22 WARNING mlflow.utils.requirements_utils: Found torch version (1.9.0+cu111) contains a local version label (+cu111). MLflow logged a pip requirement for this package as 'torch==1.9.0' without the local version label to make it installable from PyPI. To specify pip requirements containing local version labels, please use `conda_env` or `pip_requirements`.\n"
          ]
        },
        {
          "output_type": "stream",
          "name": "stdout",
          "text": [
            "\n",
            "LR = 0.05, Momentum = 0.90, Hidden nodes = 32\n",
            "\n",
            "Train Epoch: 1 [0/60000 (0%)]\tLoss: 2.328\n",
            "Train Epoch: 1 [5120/60000 (9%)]\tLoss: 0.414\n",
            "Train Epoch: 1 [10240/60000 (17%)]\tLoss: 0.393\n",
            "Train Epoch: 1 [15360/60000 (26%)]\tLoss: 0.276\n",
            "Train Epoch: 1 [20480/60000 (34%)]\tLoss: 0.362\n",
            "Train Epoch: 1 [25600/60000 (43%)]\tLoss: 0.323\n",
            "Train Epoch: 1 [30720/60000 (51%)]\tLoss: 0.223\n",
            "Train Epoch: 1 [35840/60000 (60%)]\tLoss: 0.197\n",
            "Train Epoch: 1 [40960/60000 (68%)]\tLoss: 0.240\n",
            "Train Epoch: 1 [46080/60000 (77%)]\tLoss: 0.257\n",
            "Train Epoch: 1 [51200/60000 (85%)]\tLoss: 0.178\n",
            "Train Epoch: 1 [56320/60000 (94%)]\tLoss: 0.189\n",
            "\n",
            "Test set: Average loss: 0.0007, Accuracy: 9487/10000 (95%)\n",
            "\n",
            "Train Epoch: 2 [0/60000 (0%)]\tLoss: 0.154\n",
            "Train Epoch: 2 [5120/60000 (9%)]\tLoss: 0.163\n",
            "Train Epoch: 2 [10240/60000 (17%)]\tLoss: 0.141\n",
            "Train Epoch: 2 [15360/60000 (26%)]\tLoss: 0.193\n",
            "Train Epoch: 2 [20480/60000 (34%)]\tLoss: 0.192\n",
            "Train Epoch: 2 [25600/60000 (43%)]\tLoss: 0.123\n",
            "Train Epoch: 2 [30720/60000 (51%)]\tLoss: 0.195\n",
            "Train Epoch: 2 [35840/60000 (60%)]\tLoss: 0.148\n",
            "Train Epoch: 2 [40960/60000 (68%)]\tLoss: 0.157\n",
            "Train Epoch: 2 [46080/60000 (77%)]\tLoss: 0.183\n",
            "Train Epoch: 2 [51200/60000 (85%)]\tLoss: 0.157\n",
            "Train Epoch: 2 [56320/60000 (94%)]\tLoss: 0.152\n",
            "\n",
            "Test set: Average loss: 0.0006, Accuracy: 9563/10000 (96%)\n",
            "\n",
            "Train Epoch: 3 [0/60000 (0%)]\tLoss: 0.140\n",
            "Train Epoch: 3 [5120/60000 (9%)]\tLoss: 0.138\n",
            "Train Epoch: 3 [10240/60000 (17%)]\tLoss: 0.119\n",
            "Train Epoch: 3 [15360/60000 (26%)]\tLoss: 0.129\n",
            "Train Epoch: 3 [20480/60000 (34%)]\tLoss: 0.097\n",
            "Train Epoch: 3 [25600/60000 (43%)]\tLoss: 0.178\n",
            "Train Epoch: 3 [30720/60000 (51%)]\tLoss: 0.132\n",
            "Train Epoch: 3 [35840/60000 (60%)]\tLoss: 0.117\n",
            "Train Epoch: 3 [40960/60000 (68%)]\tLoss: 0.100\n",
            "Train Epoch: 3 [46080/60000 (77%)]\tLoss: 0.147\n",
            "Train Epoch: 3 [51200/60000 (85%)]\tLoss: 0.116\n",
            "Train Epoch: 3 [56320/60000 (94%)]\tLoss: 0.081\n",
            "\n",
            "Test set: Average loss: 0.0005, Accuracy: 9617/10000 (96%)\n",
            "\n",
            "Train Epoch: 4 [0/60000 (0%)]\tLoss: 0.115\n",
            "Train Epoch: 4 [5120/60000 (9%)]\tLoss: 0.064\n",
            "Train Epoch: 4 [10240/60000 (17%)]\tLoss: 0.160\n",
            "Train Epoch: 4 [15360/60000 (26%)]\tLoss: 0.088\n",
            "Train Epoch: 4 [20480/60000 (34%)]\tLoss: 0.096\n",
            "Train Epoch: 4 [25600/60000 (43%)]\tLoss: 0.128\n",
            "Train Epoch: 4 [30720/60000 (51%)]\tLoss: 0.050\n",
            "Train Epoch: 4 [35840/60000 (60%)]\tLoss: 0.128\n",
            "Train Epoch: 4 [40960/60000 (68%)]\tLoss: 0.124\n",
            "Train Epoch: 4 [46080/60000 (77%)]\tLoss: 0.055\n",
            "Train Epoch: 4 [51200/60000 (85%)]\tLoss: 0.071\n",
            "Train Epoch: 4 [56320/60000 (94%)]\tLoss: 0.072\n"
          ]
        },
        {
          "output_type": "stream",
          "name": "stderr",
          "text": [
            "2021/10/18 12:49:06 WARNING mlflow.utils.requirements_utils: Found torch version (1.9.0+cu111) contains a local version label (+cu111). MLflow logged a pip requirement for this package as 'torch==1.9.0' without the local version label to make it installable from PyPI. To specify pip requirements containing local version labels, please use `conda_env` or `pip_requirements`.\n",
            "2021/10/18 12:49:06 WARNING mlflow.utils.requirements_utils: Found torchvision version (0.10.0+cu111) contains a local version label (+cu111). MLflow logged a pip requirement for this package as 'torchvision==0.10.0' without the local version label to make it installable from PyPI. To specify pip requirements containing local version labels, please use `conda_env` or `pip_requirements`.\n"
          ]
        },
        {
          "output_type": "stream",
          "name": "stdout",
          "text": [
            "\n",
            "Test set: Average loss: 0.0005, Accuracy: 9615/10000 (96%)\n",
            "\n"
          ]
        },
        {
          "output_type": "stream",
          "name": "stderr",
          "text": [
            "2021/10/18 12:49:09 WARNING mlflow.utils.requirements_utils: Found torch version (1.9.0+cu111) contains a local version label (+cu111). MLflow logged a pip requirement for this package as 'torch==1.9.0' without the local version label to make it installable from PyPI. To specify pip requirements containing local version labels, please use `conda_env` or `pip_requirements`.\n"
          ]
        },
        {
          "output_type": "stream",
          "name": "stdout",
          "text": [
            "\n",
            "LR = 0.05, Momentum = 0.90, Hidden nodes = 48\n",
            "\n",
            "Train Epoch: 1 [0/60000 (0%)]\tLoss: 2.354\n",
            "Train Epoch: 1 [5120/60000 (9%)]\tLoss: 0.643\n",
            "Train Epoch: 1 [10240/60000 (17%)]\tLoss: 0.518\n",
            "Train Epoch: 1 [15360/60000 (26%)]\tLoss: 0.290\n",
            "Train Epoch: 1 [20480/60000 (34%)]\tLoss: 0.271\n",
            "Train Epoch: 1 [25600/60000 (43%)]\tLoss: 0.225\n",
            "Train Epoch: 1 [30720/60000 (51%)]\tLoss: 0.212\n",
            "Train Epoch: 1 [35840/60000 (60%)]\tLoss: 0.191\n",
            "Train Epoch: 1 [40960/60000 (68%)]\tLoss: 0.225\n",
            "Train Epoch: 1 [46080/60000 (77%)]\tLoss: 0.254\n",
            "Train Epoch: 1 [51200/60000 (85%)]\tLoss: 0.226\n",
            "Train Epoch: 1 [56320/60000 (94%)]\tLoss: 0.183\n",
            "\n",
            "Test set: Average loss: 0.0006, Accuracy: 9542/10000 (95%)\n",
            "\n",
            "Train Epoch: 2 [0/60000 (0%)]\tLoss: 0.156\n",
            "Train Epoch: 2 [5120/60000 (9%)]\tLoss: 0.143\n",
            "Train Epoch: 2 [10240/60000 (17%)]\tLoss: 0.078\n",
            "Train Epoch: 2 [15360/60000 (26%)]\tLoss: 0.114\n",
            "Train Epoch: 2 [20480/60000 (34%)]\tLoss: 0.141\n",
            "Train Epoch: 2 [25600/60000 (43%)]\tLoss: 0.158\n",
            "Train Epoch: 2 [30720/60000 (51%)]\tLoss: 0.131\n",
            "Train Epoch: 2 [35840/60000 (60%)]\tLoss: 0.122\n",
            "Train Epoch: 2 [40960/60000 (68%)]\tLoss: 0.162\n",
            "Train Epoch: 2 [46080/60000 (77%)]\tLoss: 0.173\n",
            "Train Epoch: 2 [51200/60000 (85%)]\tLoss: 0.094\n",
            "Train Epoch: 2 [56320/60000 (94%)]\tLoss: 0.135\n",
            "\n",
            "Test set: Average loss: 0.0005, Accuracy: 9620/10000 (96%)\n",
            "\n",
            "Train Epoch: 3 [0/60000 (0%)]\tLoss: 0.095\n",
            "Train Epoch: 3 [5120/60000 (9%)]\tLoss: 0.088\n",
            "Train Epoch: 3 [10240/60000 (17%)]\tLoss: 0.064\n",
            "Train Epoch: 3 [15360/60000 (26%)]\tLoss: 0.130\n",
            "Train Epoch: 3 [20480/60000 (34%)]\tLoss: 0.149\n",
            "Train Epoch: 3 [25600/60000 (43%)]\tLoss: 0.114\n",
            "Train Epoch: 3 [30720/60000 (51%)]\tLoss: 0.126\n",
            "Train Epoch: 3 [35840/60000 (60%)]\tLoss: 0.207\n",
            "Train Epoch: 3 [40960/60000 (68%)]\tLoss: 0.092\n",
            "Train Epoch: 3 [46080/60000 (77%)]\tLoss: 0.095\n",
            "Train Epoch: 3 [51200/60000 (85%)]\tLoss: 0.112\n",
            "Train Epoch: 3 [56320/60000 (94%)]\tLoss: 0.160\n",
            "\n",
            "Test set: Average loss: 0.0004, Accuracy: 9666/10000 (97%)\n",
            "\n",
            "Train Epoch: 4 [0/60000 (0%)]\tLoss: 0.078\n",
            "Train Epoch: 4 [5120/60000 (9%)]\tLoss: 0.073\n",
            "Train Epoch: 4 [10240/60000 (17%)]\tLoss: 0.071\n",
            "Train Epoch: 4 [15360/60000 (26%)]\tLoss: 0.091\n",
            "Train Epoch: 4 [20480/60000 (34%)]\tLoss: 0.071\n",
            "Train Epoch: 4 [25600/60000 (43%)]\tLoss: 0.068\n",
            "Train Epoch: 4 [30720/60000 (51%)]\tLoss: 0.102\n",
            "Train Epoch: 4 [35840/60000 (60%)]\tLoss: 0.097\n",
            "Train Epoch: 4 [40960/60000 (68%)]\tLoss: 0.087\n",
            "Train Epoch: 4 [46080/60000 (77%)]\tLoss: 0.236\n",
            "Train Epoch: 4 [51200/60000 (85%)]\tLoss: 0.108\n",
            "Train Epoch: 4 [56320/60000 (94%)]\tLoss: 0.091\n"
          ]
        },
        {
          "output_type": "stream",
          "name": "stderr",
          "text": [
            "2021/10/18 12:49:54 WARNING mlflow.utils.requirements_utils: Found torch version (1.9.0+cu111) contains a local version label (+cu111). MLflow logged a pip requirement for this package as 'torch==1.9.0' without the local version label to make it installable from PyPI. To specify pip requirements containing local version labels, please use `conda_env` or `pip_requirements`.\n",
            "2021/10/18 12:49:54 WARNING mlflow.utils.requirements_utils: Found torchvision version (0.10.0+cu111) contains a local version label (+cu111). MLflow logged a pip requirement for this package as 'torchvision==0.10.0' without the local version label to make it installable from PyPI. To specify pip requirements containing local version labels, please use `conda_env` or `pip_requirements`.\n"
          ]
        },
        {
          "output_type": "stream",
          "name": "stdout",
          "text": [
            "\n",
            "Test set: Average loss: 0.0004, Accuracy: 9681/10000 (97%)\n",
            "\n"
          ]
        },
        {
          "output_type": "stream",
          "name": "stderr",
          "text": [
            "2021/10/18 12:49:56 WARNING mlflow.utils.requirements_utils: Found torch version (1.9.0+cu111) contains a local version label (+cu111). MLflow logged a pip requirement for this package as 'torch==1.9.0' without the local version label to make it installable from PyPI. To specify pip requirements containing local version labels, please use `conda_env` or `pip_requirements`.\n"
          ]
        },
        {
          "output_type": "stream",
          "name": "stdout",
          "text": [
            "\n",
            "LR = 0.05, Momentum = 0.95, Hidden nodes = 16\n",
            "\n",
            "Train Epoch: 1 [0/60000 (0%)]\tLoss: 2.305\n",
            "Train Epoch: 1 [5120/60000 (9%)]\tLoss: 0.626\n",
            "Train Epoch: 1 [10240/60000 (17%)]\tLoss: 0.495\n",
            "Train Epoch: 1 [15360/60000 (26%)]\tLoss: 0.523\n",
            "Train Epoch: 1 [20480/60000 (34%)]\tLoss: 0.394\n",
            "Train Epoch: 1 [25600/60000 (43%)]\tLoss: 0.307\n",
            "Train Epoch: 1 [30720/60000 (51%)]\tLoss: 0.326\n",
            "Train Epoch: 1 [35840/60000 (60%)]\tLoss: 0.260\n",
            "Train Epoch: 1 [40960/60000 (68%)]\tLoss: 0.398\n",
            "Train Epoch: 1 [46080/60000 (77%)]\tLoss: 0.344\n",
            "Train Epoch: 1 [51200/60000 (85%)]\tLoss: 0.239\n",
            "Train Epoch: 1 [56320/60000 (94%)]\tLoss: 0.371\n",
            "\n",
            "Test set: Average loss: 0.0009, Accuracy: 9303/10000 (93%)\n",
            "\n",
            "Train Epoch: 2 [0/60000 (0%)]\tLoss: 0.166\n",
            "Train Epoch: 2 [5120/60000 (9%)]\tLoss: 0.262\n",
            "Train Epoch: 2 [10240/60000 (17%)]\tLoss: 0.304\n",
            "Train Epoch: 2 [15360/60000 (26%)]\tLoss: 0.310\n",
            "Train Epoch: 2 [20480/60000 (34%)]\tLoss: 0.187\n",
            "Train Epoch: 2 [25600/60000 (43%)]\tLoss: 0.184\n",
            "Train Epoch: 2 [30720/60000 (51%)]\tLoss: 0.172\n",
            "Train Epoch: 2 [35840/60000 (60%)]\tLoss: 0.305\n",
            "Train Epoch: 2 [40960/60000 (68%)]\tLoss: 0.237\n",
            "Train Epoch: 2 [46080/60000 (77%)]\tLoss: 0.215\n",
            "Train Epoch: 2 [51200/60000 (85%)]\tLoss: 0.101\n",
            "Train Epoch: 2 [56320/60000 (94%)]\tLoss: 0.239\n",
            "\n",
            "Test set: Average loss: 0.0009, Accuracy: 9347/10000 (93%)\n",
            "\n",
            "Train Epoch: 3 [0/60000 (0%)]\tLoss: 0.231\n",
            "Train Epoch: 3 [5120/60000 (9%)]\tLoss: 0.287\n",
            "Train Epoch: 3 [10240/60000 (17%)]\tLoss: 0.202\n",
            "Train Epoch: 3 [15360/60000 (26%)]\tLoss: 0.205\n",
            "Train Epoch: 3 [20480/60000 (34%)]\tLoss: 0.258\n",
            "Train Epoch: 3 [25600/60000 (43%)]\tLoss: 0.134\n",
            "Train Epoch: 3 [30720/60000 (51%)]\tLoss: 0.250\n",
            "Train Epoch: 3 [35840/60000 (60%)]\tLoss: 0.250\n",
            "Train Epoch: 3 [40960/60000 (68%)]\tLoss: 0.192\n",
            "Train Epoch: 3 [46080/60000 (77%)]\tLoss: 0.207\n",
            "Train Epoch: 3 [51200/60000 (85%)]\tLoss: 0.147\n",
            "Train Epoch: 3 [56320/60000 (94%)]\tLoss: 0.145\n",
            "\n",
            "Test set: Average loss: 0.0008, Accuracy: 9341/10000 (93%)\n",
            "\n",
            "Train Epoch: 4 [0/60000 (0%)]\tLoss: 0.183\n",
            "Train Epoch: 4 [5120/60000 (9%)]\tLoss: 0.247\n",
            "Train Epoch: 4 [10240/60000 (17%)]\tLoss: 0.106\n",
            "Train Epoch: 4 [15360/60000 (26%)]\tLoss: 0.274\n",
            "Train Epoch: 4 [20480/60000 (34%)]\tLoss: 0.213\n",
            "Train Epoch: 4 [25600/60000 (43%)]\tLoss: 0.237\n",
            "Train Epoch: 4 [30720/60000 (51%)]\tLoss: 0.262\n",
            "Train Epoch: 4 [35840/60000 (60%)]\tLoss: 0.175\n",
            "Train Epoch: 4 [40960/60000 (68%)]\tLoss: 0.191\n",
            "Train Epoch: 4 [46080/60000 (77%)]\tLoss: 0.098\n",
            "Train Epoch: 4 [51200/60000 (85%)]\tLoss: 0.246\n",
            "Train Epoch: 4 [56320/60000 (94%)]\tLoss: 0.174\n"
          ]
        },
        {
          "output_type": "stream",
          "name": "stderr",
          "text": [
            "2021/10/18 12:50:40 WARNING mlflow.utils.requirements_utils: Found torch version (1.9.0+cu111) contains a local version label (+cu111). MLflow logged a pip requirement for this package as 'torch==1.9.0' without the local version label to make it installable from PyPI. To specify pip requirements containing local version labels, please use `conda_env` or `pip_requirements`.\n",
            "2021/10/18 12:50:40 WARNING mlflow.utils.requirements_utils: Found torchvision version (0.10.0+cu111) contains a local version label (+cu111). MLflow logged a pip requirement for this package as 'torchvision==0.10.0' without the local version label to make it installable from PyPI. To specify pip requirements containing local version labels, please use `conda_env` or `pip_requirements`.\n"
          ]
        },
        {
          "output_type": "stream",
          "name": "stdout",
          "text": [
            "\n",
            "Test set: Average loss: 0.0008, Accuracy: 9410/10000 (94%)\n",
            "\n"
          ]
        },
        {
          "output_type": "stream",
          "name": "stderr",
          "text": [
            "2021/10/18 12:50:42 WARNING mlflow.utils.requirements_utils: Found torch version (1.9.0+cu111) contains a local version label (+cu111). MLflow logged a pip requirement for this package as 'torch==1.9.0' without the local version label to make it installable from PyPI. To specify pip requirements containing local version labels, please use `conda_env` or `pip_requirements`.\n"
          ]
        },
        {
          "output_type": "stream",
          "name": "stdout",
          "text": [
            "\n",
            "LR = 0.05, Momentum = 0.95, Hidden nodes = 24\n",
            "\n",
            "Train Epoch: 1 [0/60000 (0%)]\tLoss: 2.326\n",
            "Train Epoch: 1 [5120/60000 (9%)]\tLoss: 0.574\n",
            "Train Epoch: 1 [10240/60000 (17%)]\tLoss: 0.886\n",
            "Train Epoch: 1 [15360/60000 (26%)]\tLoss: 0.467\n",
            "Train Epoch: 1 [20480/60000 (34%)]\tLoss: 0.415\n",
            "Train Epoch: 1 [25600/60000 (43%)]\tLoss: 0.281\n",
            "Train Epoch: 1 [30720/60000 (51%)]\tLoss: 0.185\n",
            "Train Epoch: 1 [35840/60000 (60%)]\tLoss: 0.274\n",
            "Train Epoch: 1 [40960/60000 (68%)]\tLoss: 0.304\n",
            "Train Epoch: 1 [46080/60000 (77%)]\tLoss: 0.227\n",
            "Train Epoch: 1 [51200/60000 (85%)]\tLoss: 0.206\n",
            "Train Epoch: 1 [56320/60000 (94%)]\tLoss: 0.297\n",
            "\n",
            "Test set: Average loss: 0.0008, Accuracy: 9375/10000 (94%)\n",
            "\n",
            "Train Epoch: 2 [0/60000 (0%)]\tLoss: 0.162\n",
            "Train Epoch: 2 [5120/60000 (9%)]\tLoss: 0.194\n",
            "Train Epoch: 2 [10240/60000 (17%)]\tLoss: 0.217\n",
            "Train Epoch: 2 [15360/60000 (26%)]\tLoss: 0.147\n",
            "Train Epoch: 2 [20480/60000 (34%)]\tLoss: 0.171\n",
            "Train Epoch: 2 [25600/60000 (43%)]\tLoss: 0.204\n",
            "Train Epoch: 2 [30720/60000 (51%)]\tLoss: 0.181\n",
            "Train Epoch: 2 [35840/60000 (60%)]\tLoss: 0.243\n",
            "Train Epoch: 2 [40960/60000 (68%)]\tLoss: 0.150\n",
            "Train Epoch: 2 [46080/60000 (77%)]\tLoss: 0.226\n",
            "Train Epoch: 2 [51200/60000 (85%)]\tLoss: 0.191\n",
            "Train Epoch: 2 [56320/60000 (94%)]\tLoss: 0.133\n",
            "\n",
            "Test set: Average loss: 0.0006, Accuracy: 9506/10000 (95%)\n",
            "\n",
            "Train Epoch: 3 [0/60000 (0%)]\tLoss: 0.092\n",
            "Train Epoch: 3 [5120/60000 (9%)]\tLoss: 0.054\n",
            "Train Epoch: 3 [10240/60000 (17%)]\tLoss: 0.174\n",
            "Train Epoch: 3 [15360/60000 (26%)]\tLoss: 0.118\n",
            "Train Epoch: 3 [20480/60000 (34%)]\tLoss: 0.195\n",
            "Train Epoch: 3 [25600/60000 (43%)]\tLoss: 0.163\n",
            "Train Epoch: 3 [30720/60000 (51%)]\tLoss: 0.098\n",
            "Train Epoch: 3 [35840/60000 (60%)]\tLoss: 0.222\n",
            "Train Epoch: 3 [40960/60000 (68%)]\tLoss: 0.140\n",
            "Train Epoch: 3 [46080/60000 (77%)]\tLoss: 0.223\n",
            "Train Epoch: 3 [51200/60000 (85%)]\tLoss: 0.161\n",
            "Train Epoch: 3 [56320/60000 (94%)]\tLoss: 0.144\n",
            "\n",
            "Test set: Average loss: 0.0006, Accuracy: 9545/10000 (95%)\n",
            "\n",
            "Train Epoch: 4 [0/60000 (0%)]\tLoss: 0.191\n",
            "Train Epoch: 4 [5120/60000 (9%)]\tLoss: 0.227\n",
            "Train Epoch: 4 [10240/60000 (17%)]\tLoss: 0.196\n",
            "Train Epoch: 4 [15360/60000 (26%)]\tLoss: 0.198\n",
            "Train Epoch: 4 [20480/60000 (34%)]\tLoss: 0.106\n",
            "Train Epoch: 4 [25600/60000 (43%)]\tLoss: 0.131\n",
            "Train Epoch: 4 [30720/60000 (51%)]\tLoss: 0.242\n",
            "Train Epoch: 4 [35840/60000 (60%)]\tLoss: 0.237\n",
            "Train Epoch: 4 [40960/60000 (68%)]\tLoss: 0.152\n",
            "Train Epoch: 4 [46080/60000 (77%)]\tLoss: 0.136\n",
            "Train Epoch: 4 [51200/60000 (85%)]\tLoss: 0.149\n",
            "Train Epoch: 4 [56320/60000 (94%)]\tLoss: 0.093\n"
          ]
        },
        {
          "output_type": "stream",
          "name": "stderr",
          "text": [
            "2021/10/18 12:51:27 WARNING mlflow.utils.requirements_utils: Found torch version (1.9.0+cu111) contains a local version label (+cu111). MLflow logged a pip requirement for this package as 'torch==1.9.0' without the local version label to make it installable from PyPI. To specify pip requirements containing local version labels, please use `conda_env` or `pip_requirements`.\n",
            "2021/10/18 12:51:27 WARNING mlflow.utils.requirements_utils: Found torchvision version (0.10.0+cu111) contains a local version label (+cu111). MLflow logged a pip requirement for this package as 'torchvision==0.10.0' without the local version label to make it installable from PyPI. To specify pip requirements containing local version labels, please use `conda_env` or `pip_requirements`.\n"
          ]
        },
        {
          "output_type": "stream",
          "name": "stdout",
          "text": [
            "\n",
            "Test set: Average loss: 0.0007, Accuracy: 9531/10000 (95%)\n",
            "\n"
          ]
        },
        {
          "output_type": "stream",
          "name": "stderr",
          "text": [
            "2021/10/18 12:51:29 WARNING mlflow.utils.requirements_utils: Found torch version (1.9.0+cu111) contains a local version label (+cu111). MLflow logged a pip requirement for this package as 'torch==1.9.0' without the local version label to make it installable from PyPI. To specify pip requirements containing local version labels, please use `conda_env` or `pip_requirements`.\n"
          ]
        },
        {
          "output_type": "stream",
          "name": "stdout",
          "text": [
            "\n",
            "LR = 0.05, Momentum = 0.95, Hidden nodes = 32\n",
            "\n",
            "Train Epoch: 1 [0/60000 (0%)]\tLoss: 2.337\n",
            "Train Epoch: 1 [5120/60000 (9%)]\tLoss: 0.558\n",
            "Train Epoch: 1 [10240/60000 (17%)]\tLoss: 0.512\n",
            "Train Epoch: 1 [15360/60000 (26%)]\tLoss: 0.465\n",
            "Train Epoch: 1 [20480/60000 (34%)]\tLoss: 0.441\n",
            "Train Epoch: 1 [25600/60000 (43%)]\tLoss: 0.332\n",
            "Train Epoch: 1 [30720/60000 (51%)]\tLoss: 0.257\n",
            "Train Epoch: 1 [35840/60000 (60%)]\tLoss: 0.209\n",
            "Train Epoch: 1 [40960/60000 (68%)]\tLoss: 0.161\n",
            "Train Epoch: 1 [46080/60000 (77%)]\tLoss: 0.279\n",
            "Train Epoch: 1 [51200/60000 (85%)]\tLoss: 0.234\n",
            "Train Epoch: 1 [56320/60000 (94%)]\tLoss: 0.184\n",
            "\n",
            "Test set: Average loss: 0.0007, Accuracy: 9448/10000 (94%)\n",
            "\n",
            "Train Epoch: 2 [0/60000 (0%)]\tLoss: 0.219\n",
            "Train Epoch: 2 [5120/60000 (9%)]\tLoss: 0.234\n",
            "Train Epoch: 2 [10240/60000 (17%)]\tLoss: 0.194\n",
            "Train Epoch: 2 [15360/60000 (26%)]\tLoss: 0.171\n",
            "Train Epoch: 2 [20480/60000 (34%)]\tLoss: 0.160\n",
            "Train Epoch: 2 [25600/60000 (43%)]\tLoss: 0.190\n",
            "Train Epoch: 2 [30720/60000 (51%)]\tLoss: 0.108\n",
            "Train Epoch: 2 [35840/60000 (60%)]\tLoss: 0.135\n",
            "Train Epoch: 2 [40960/60000 (68%)]\tLoss: 0.147\n",
            "Train Epoch: 2 [46080/60000 (77%)]\tLoss: 0.214\n",
            "Train Epoch: 2 [51200/60000 (85%)]\tLoss: 0.141\n",
            "Train Epoch: 2 [56320/60000 (94%)]\tLoss: 0.178\n",
            "\n",
            "Test set: Average loss: 0.0006, Accuracy: 9523/10000 (95%)\n",
            "\n",
            "Train Epoch: 3 [0/60000 (0%)]\tLoss: 0.300\n",
            "Train Epoch: 3 [5120/60000 (9%)]\tLoss: 0.100\n",
            "Train Epoch: 3 [10240/60000 (17%)]\tLoss: 0.119\n",
            "Train Epoch: 3 [15360/60000 (26%)]\tLoss: 0.088\n",
            "Train Epoch: 3 [20480/60000 (34%)]\tLoss: 0.112\n",
            "Train Epoch: 3 [25600/60000 (43%)]\tLoss: 0.124\n",
            "Train Epoch: 3 [30720/60000 (51%)]\tLoss: 0.080\n",
            "Train Epoch: 3 [35840/60000 (60%)]\tLoss: 0.156\n",
            "Train Epoch: 3 [40960/60000 (68%)]\tLoss: 0.186\n",
            "Train Epoch: 3 [46080/60000 (77%)]\tLoss: 0.188\n",
            "Train Epoch: 3 [51200/60000 (85%)]\tLoss: 0.060\n",
            "Train Epoch: 3 [56320/60000 (94%)]\tLoss: 0.075\n",
            "\n",
            "Test set: Average loss: 0.0006, Accuracy: 9568/10000 (96%)\n",
            "\n",
            "Train Epoch: 4 [0/60000 (0%)]\tLoss: 0.076\n",
            "Train Epoch: 4 [5120/60000 (9%)]\tLoss: 0.128\n",
            "Train Epoch: 4 [10240/60000 (17%)]\tLoss: 0.200\n",
            "Train Epoch: 4 [15360/60000 (26%)]\tLoss: 0.125\n",
            "Train Epoch: 4 [20480/60000 (34%)]\tLoss: 0.094\n",
            "Train Epoch: 4 [25600/60000 (43%)]\tLoss: 0.089\n",
            "Train Epoch: 4 [30720/60000 (51%)]\tLoss: 0.083\n",
            "Train Epoch: 4 [35840/60000 (60%)]\tLoss: 0.087\n",
            "Train Epoch: 4 [40960/60000 (68%)]\tLoss: 0.136\n",
            "Train Epoch: 4 [46080/60000 (77%)]\tLoss: 0.174\n",
            "Train Epoch: 4 [51200/60000 (85%)]\tLoss: 0.088\n",
            "Train Epoch: 4 [56320/60000 (94%)]\tLoss: 0.185\n"
          ]
        },
        {
          "output_type": "stream",
          "name": "stderr",
          "text": [
            "2021/10/18 12:52:14 WARNING mlflow.utils.requirements_utils: Found torch version (1.9.0+cu111) contains a local version label (+cu111). MLflow logged a pip requirement for this package as 'torch==1.9.0' without the local version label to make it installable from PyPI. To specify pip requirements containing local version labels, please use `conda_env` or `pip_requirements`.\n",
            "2021/10/18 12:52:14 WARNING mlflow.utils.requirements_utils: Found torchvision version (0.10.0+cu111) contains a local version label (+cu111). MLflow logged a pip requirement for this package as 'torchvision==0.10.0' without the local version label to make it installable from PyPI. To specify pip requirements containing local version labels, please use `conda_env` or `pip_requirements`.\n"
          ]
        },
        {
          "output_type": "stream",
          "name": "stdout",
          "text": [
            "\n",
            "Test set: Average loss: 0.0005, Accuracy: 9598/10000 (96%)\n",
            "\n"
          ]
        },
        {
          "output_type": "stream",
          "name": "stderr",
          "text": [
            "2021/10/18 12:52:16 WARNING mlflow.utils.requirements_utils: Found torch version (1.9.0+cu111) contains a local version label (+cu111). MLflow logged a pip requirement for this package as 'torch==1.9.0' without the local version label to make it installable from PyPI. To specify pip requirements containing local version labels, please use `conda_env` or `pip_requirements`.\n"
          ]
        },
        {
          "output_type": "stream",
          "name": "stdout",
          "text": [
            "\n",
            "LR = 0.05, Momentum = 0.95, Hidden nodes = 48\n",
            "\n",
            "Train Epoch: 1 [0/60000 (0%)]\tLoss: 2.373\n",
            "Train Epoch: 1 [5120/60000 (9%)]\tLoss: 0.621\n",
            "Train Epoch: 1 [10240/60000 (17%)]\tLoss: 0.584\n",
            "Train Epoch: 1 [15360/60000 (26%)]\tLoss: 0.431\n",
            "Train Epoch: 1 [20480/60000 (34%)]\tLoss: 0.443\n",
            "Train Epoch: 1 [25600/60000 (43%)]\tLoss: 0.216\n",
            "Train Epoch: 1 [30720/60000 (51%)]\tLoss: 0.199\n",
            "Train Epoch: 1 [35840/60000 (60%)]\tLoss: 0.273\n",
            "Train Epoch: 1 [40960/60000 (68%)]\tLoss: 0.141\n",
            "Train Epoch: 1 [46080/60000 (77%)]\tLoss: 0.160\n",
            "Train Epoch: 1 [51200/60000 (85%)]\tLoss: 0.127\n",
            "Train Epoch: 1 [56320/60000 (94%)]\tLoss: 0.154\n",
            "\n",
            "Test set: Average loss: 0.0006, Accuracy: 9518/10000 (95%)\n",
            "\n",
            "Train Epoch: 2 [0/60000 (0%)]\tLoss: 0.158\n",
            "Train Epoch: 2 [5120/60000 (9%)]\tLoss: 0.178\n",
            "Train Epoch: 2 [10240/60000 (17%)]\tLoss: 0.084\n",
            "Train Epoch: 2 [15360/60000 (26%)]\tLoss: 0.187\n",
            "Train Epoch: 2 [20480/60000 (34%)]\tLoss: 0.101\n",
            "Train Epoch: 2 [25600/60000 (43%)]\tLoss: 0.171\n",
            "Train Epoch: 2 [30720/60000 (51%)]\tLoss: 0.138\n",
            "Train Epoch: 2 [35840/60000 (60%)]\tLoss: 0.132\n",
            "Train Epoch: 2 [40960/60000 (68%)]\tLoss: 0.193\n",
            "Train Epoch: 2 [46080/60000 (77%)]\tLoss: 0.121\n",
            "Train Epoch: 2 [51200/60000 (85%)]\tLoss: 0.127\n",
            "Train Epoch: 2 [56320/60000 (94%)]\tLoss: 0.139\n",
            "\n",
            "Test set: Average loss: 0.0006, Accuracy: 9543/10000 (95%)\n",
            "\n",
            "Train Epoch: 3 [0/60000 (0%)]\tLoss: 0.112\n",
            "Train Epoch: 3 [5120/60000 (9%)]\tLoss: 0.113\n",
            "Train Epoch: 3 [10240/60000 (17%)]\tLoss: 0.122\n",
            "Train Epoch: 3 [15360/60000 (26%)]\tLoss: 0.116\n",
            "Train Epoch: 3 [20480/60000 (34%)]\tLoss: 0.095\n",
            "Train Epoch: 3 [25600/60000 (43%)]\tLoss: 0.164\n",
            "Train Epoch: 3 [30720/60000 (51%)]\tLoss: 0.107\n",
            "Train Epoch: 3 [35840/60000 (60%)]\tLoss: 0.099\n",
            "Train Epoch: 3 [40960/60000 (68%)]\tLoss: 0.135\n",
            "Train Epoch: 3 [46080/60000 (77%)]\tLoss: 0.140\n",
            "Train Epoch: 3 [51200/60000 (85%)]\tLoss: 0.074\n",
            "Train Epoch: 3 [56320/60000 (94%)]\tLoss: 0.183\n",
            "\n",
            "Test set: Average loss: 0.0005, Accuracy: 9656/10000 (97%)\n",
            "\n",
            "Train Epoch: 4 [0/60000 (0%)]\tLoss: 0.112\n",
            "Train Epoch: 4 [5120/60000 (9%)]\tLoss: 0.051\n",
            "Train Epoch: 4 [10240/60000 (17%)]\tLoss: 0.081\n",
            "Train Epoch: 4 [15360/60000 (26%)]\tLoss: 0.105\n",
            "Train Epoch: 4 [20480/60000 (34%)]\tLoss: 0.141\n",
            "Train Epoch: 4 [25600/60000 (43%)]\tLoss: 0.082\n",
            "Train Epoch: 4 [30720/60000 (51%)]\tLoss: 0.074\n",
            "Train Epoch: 4 [35840/60000 (60%)]\tLoss: 0.103\n",
            "Train Epoch: 4 [40960/60000 (68%)]\tLoss: 0.110\n",
            "Train Epoch: 4 [46080/60000 (77%)]\tLoss: 0.108\n",
            "Train Epoch: 4 [51200/60000 (85%)]\tLoss: 0.127\n",
            "Train Epoch: 4 [56320/60000 (94%)]\tLoss: 0.148\n"
          ]
        },
        {
          "output_type": "stream",
          "name": "stderr",
          "text": [
            "2021/10/18 12:53:01 WARNING mlflow.utils.requirements_utils: Found torch version (1.9.0+cu111) contains a local version label (+cu111). MLflow logged a pip requirement for this package as 'torch==1.9.0' without the local version label to make it installable from PyPI. To specify pip requirements containing local version labels, please use `conda_env` or `pip_requirements`.\n",
            "2021/10/18 12:53:01 WARNING mlflow.utils.requirements_utils: Found torchvision version (0.10.0+cu111) contains a local version label (+cu111). MLflow logged a pip requirement for this package as 'torchvision==0.10.0' without the local version label to make it installable from PyPI. To specify pip requirements containing local version labels, please use `conda_env` or `pip_requirements`.\n"
          ]
        },
        {
          "output_type": "stream",
          "name": "stdout",
          "text": [
            "\n",
            "Test set: Average loss: 0.0004, Accuracy: 9664/10000 (97%)\n",
            "\n"
          ]
        },
        {
          "output_type": "stream",
          "name": "stderr",
          "text": [
            "2021/10/18 12:53:03 WARNING mlflow.utils.requirements_utils: Found torch version (1.9.0+cu111) contains a local version label (+cu111). MLflow logged a pip requirement for this package as 'torch==1.9.0' without the local version label to make it installable from PyPI. To specify pip requirements containing local version labels, please use `conda_env` or `pip_requirements`.\n"
          ]
        },
        {
          "output_type": "stream",
          "name": "stdout",
          "text": [
            "\n",
            "LR = 0.05, Momentum = 0.99, Hidden nodes = 16\n",
            "\n",
            "Train Epoch: 1 [0/60000 (0%)]\tLoss: 2.298\n",
            "Train Epoch: 1 [5120/60000 (9%)]\tLoss: 0.704\n",
            "Train Epoch: 1 [10240/60000 (17%)]\tLoss: 1.421\n",
            "Train Epoch: 1 [15360/60000 (26%)]\tLoss: 1.062\n",
            "Train Epoch: 1 [20480/60000 (34%)]\tLoss: 1.320\n",
            "Train Epoch: 1 [25600/60000 (43%)]\tLoss: 1.822\n",
            "Train Epoch: 1 [30720/60000 (51%)]\tLoss: 1.095\n",
            "Train Epoch: 1 [35840/60000 (60%)]\tLoss: 1.011\n",
            "Train Epoch: 1 [40960/60000 (68%)]\tLoss: 0.970\n",
            "Train Epoch: 1 [46080/60000 (77%)]\tLoss: 1.542\n",
            "Train Epoch: 1 [51200/60000 (85%)]\tLoss: 1.040\n",
            "Train Epoch: 1 [56320/60000 (94%)]\tLoss: 0.907\n",
            "\n",
            "Test set: Average loss: 0.0038, Accuracy: 7816/10000 (78%)\n",
            "\n",
            "Train Epoch: 2 [0/60000 (0%)]\tLoss: 0.842\n",
            "Train Epoch: 2 [5120/60000 (9%)]\tLoss: 1.109\n",
            "Train Epoch: 2 [10240/60000 (17%)]\tLoss: 0.755\n",
            "Train Epoch: 2 [15360/60000 (26%)]\tLoss: 0.915\n",
            "Train Epoch: 2 [20480/60000 (34%)]\tLoss: 1.401\n",
            "Train Epoch: 2 [25600/60000 (43%)]\tLoss: 0.904\n",
            "Train Epoch: 2 [30720/60000 (51%)]\tLoss: 0.907\n",
            "Train Epoch: 2 [35840/60000 (60%)]\tLoss: 1.038\n",
            "Train Epoch: 2 [40960/60000 (68%)]\tLoss: 1.021\n",
            "Train Epoch: 2 [46080/60000 (77%)]\tLoss: 0.960\n",
            "Train Epoch: 2 [51200/60000 (85%)]\tLoss: 0.991\n",
            "Train Epoch: 2 [56320/60000 (94%)]\tLoss: 1.097\n",
            "\n",
            "Test set: Average loss: 0.0038, Accuracy: 7378/10000 (74%)\n",
            "\n",
            "Train Epoch: 3 [0/60000 (0%)]\tLoss: 0.791\n",
            "Train Epoch: 3 [5120/60000 (9%)]\tLoss: 0.912\n",
            "Train Epoch: 3 [10240/60000 (17%)]\tLoss: 0.867\n",
            "Train Epoch: 3 [15360/60000 (26%)]\tLoss: 1.084\n",
            "Train Epoch: 3 [20480/60000 (34%)]\tLoss: 1.347\n",
            "Train Epoch: 3 [25600/60000 (43%)]\tLoss: 0.973\n",
            "Train Epoch: 3 [30720/60000 (51%)]\tLoss: 1.032\n",
            "Train Epoch: 3 [35840/60000 (60%)]\tLoss: 0.843\n",
            "Train Epoch: 3 [40960/60000 (68%)]\tLoss: 1.100\n",
            "Train Epoch: 3 [46080/60000 (77%)]\tLoss: 0.832\n",
            "Train Epoch: 3 [51200/60000 (85%)]\tLoss: 0.952\n",
            "Train Epoch: 3 [56320/60000 (94%)]\tLoss: 0.791\n",
            "\n",
            "Test set: Average loss: 0.0043, Accuracy: 6502/10000 (65%)\n",
            "\n",
            "Train Epoch: 4 [0/60000 (0%)]\tLoss: 1.028\n",
            "Train Epoch: 4 [5120/60000 (9%)]\tLoss: 1.031\n",
            "Train Epoch: 4 [10240/60000 (17%)]\tLoss: 1.697\n",
            "Train Epoch: 4 [15360/60000 (26%)]\tLoss: 1.060\n",
            "Train Epoch: 4 [20480/60000 (34%)]\tLoss: 1.229\n",
            "Train Epoch: 4 [25600/60000 (43%)]\tLoss: 1.360\n",
            "Train Epoch: 4 [30720/60000 (51%)]\tLoss: 0.877\n",
            "Train Epoch: 4 [35840/60000 (60%)]\tLoss: 0.888\n",
            "Train Epoch: 4 [40960/60000 (68%)]\tLoss: 1.544\n",
            "Train Epoch: 4 [46080/60000 (77%)]\tLoss: 1.104\n",
            "Train Epoch: 4 [51200/60000 (85%)]\tLoss: 1.110\n",
            "Train Epoch: 4 [56320/60000 (94%)]\tLoss: 1.064\n"
          ]
        },
        {
          "output_type": "stream",
          "name": "stderr",
          "text": [
            "2021/10/18 12:53:48 WARNING mlflow.utils.requirements_utils: Found torch version (1.9.0+cu111) contains a local version label (+cu111). MLflow logged a pip requirement for this package as 'torch==1.9.0' without the local version label to make it installable from PyPI. To specify pip requirements containing local version labels, please use `conda_env` or `pip_requirements`.\n",
            "2021/10/18 12:53:48 WARNING mlflow.utils.requirements_utils: Found torchvision version (0.10.0+cu111) contains a local version label (+cu111). MLflow logged a pip requirement for this package as 'torchvision==0.10.0' without the local version label to make it installable from PyPI. To specify pip requirements containing local version labels, please use `conda_env` or `pip_requirements`.\n"
          ]
        },
        {
          "output_type": "stream",
          "name": "stdout",
          "text": [
            "\n",
            "Test set: Average loss: 0.0042, Accuracy: 6443/10000 (64%)\n",
            "\n"
          ]
        },
        {
          "output_type": "stream",
          "name": "stderr",
          "text": [
            "2021/10/18 12:53:50 WARNING mlflow.utils.requirements_utils: Found torch version (1.9.0+cu111) contains a local version label (+cu111). MLflow logged a pip requirement for this package as 'torch==1.9.0' without the local version label to make it installable from PyPI. To specify pip requirements containing local version labels, please use `conda_env` or `pip_requirements`.\n"
          ]
        },
        {
          "output_type": "stream",
          "name": "stdout",
          "text": [
            "\n",
            "LR = 0.05, Momentum = 0.99, Hidden nodes = 24\n",
            "\n",
            "Train Epoch: 1 [0/60000 (0%)]\tLoss: 2.419\n",
            "Train Epoch: 1 [5120/60000 (9%)]\tLoss: 0.850\n",
            "Train Epoch: 1 [10240/60000 (17%)]\tLoss: 1.335\n",
            "Train Epoch: 1 [15360/60000 (26%)]\tLoss: 1.542\n",
            "Train Epoch: 1 [20480/60000 (34%)]\tLoss: 1.000\n",
            "Train Epoch: 1 [25600/60000 (43%)]\tLoss: 0.920\n",
            "Train Epoch: 1 [30720/60000 (51%)]\tLoss: 1.052\n",
            "Train Epoch: 1 [35840/60000 (60%)]\tLoss: 1.123\n",
            "Train Epoch: 1 [40960/60000 (68%)]\tLoss: 0.986\n",
            "Train Epoch: 1 [46080/60000 (77%)]\tLoss: 1.134\n",
            "Train Epoch: 1 [51200/60000 (85%)]\tLoss: 0.753\n",
            "Train Epoch: 1 [56320/60000 (94%)]\tLoss: 1.345\n",
            "\n",
            "Test set: Average loss: 0.0035, Accuracy: 7848/10000 (78%)\n",
            "\n",
            "Train Epoch: 2 [0/60000 (0%)]\tLoss: 1.142\n",
            "Train Epoch: 2 [5120/60000 (9%)]\tLoss: 0.782\n",
            "Train Epoch: 2 [10240/60000 (17%)]\tLoss: 0.935\n",
            "Train Epoch: 2 [15360/60000 (26%)]\tLoss: 0.882\n",
            "Train Epoch: 2 [20480/60000 (34%)]\tLoss: 0.890\n",
            "Train Epoch: 2 [25600/60000 (43%)]\tLoss: 0.979\n",
            "Train Epoch: 2 [30720/60000 (51%)]\tLoss: 1.003\n",
            "Train Epoch: 2 [35840/60000 (60%)]\tLoss: 0.954\n",
            "Train Epoch: 2 [40960/60000 (68%)]\tLoss: 1.314\n",
            "Train Epoch: 2 [46080/60000 (77%)]\tLoss: 0.927\n",
            "Train Epoch: 2 [51200/60000 (85%)]\tLoss: 1.173\n",
            "Train Epoch: 2 [56320/60000 (94%)]\tLoss: 1.774\n",
            "\n",
            "Test set: Average loss: 0.0042, Accuracy: 6735/10000 (67%)\n",
            "\n",
            "Train Epoch: 3 [0/60000 (0%)]\tLoss: 1.108\n",
            "Train Epoch: 3 [5120/60000 (9%)]\tLoss: 1.039\n",
            "Train Epoch: 3 [10240/60000 (17%)]\tLoss: 1.102\n",
            "Train Epoch: 3 [15360/60000 (26%)]\tLoss: 0.629\n",
            "Train Epoch: 3 [20480/60000 (34%)]\tLoss: 1.187\n",
            "Train Epoch: 3 [25600/60000 (43%)]\tLoss: 0.710\n",
            "Train Epoch: 3 [30720/60000 (51%)]\tLoss: 0.991\n",
            "Train Epoch: 3 [35840/60000 (60%)]\tLoss: 0.780\n",
            "Train Epoch: 3 [40960/60000 (68%)]\tLoss: 0.687\n",
            "Train Epoch: 3 [46080/60000 (77%)]\tLoss: 0.922\n",
            "Train Epoch: 3 [51200/60000 (85%)]\tLoss: 0.952\n",
            "Train Epoch: 3 [56320/60000 (94%)]\tLoss: 0.778\n",
            "\n",
            "Test set: Average loss: 0.0039, Accuracy: 7098/10000 (71%)\n",
            "\n",
            "Train Epoch: 4 [0/60000 (0%)]\tLoss: 0.894\n",
            "Train Epoch: 4 [5120/60000 (9%)]\tLoss: 0.906\n",
            "Train Epoch: 4 [10240/60000 (17%)]\tLoss: 0.818\n",
            "Train Epoch: 4 [15360/60000 (26%)]\tLoss: 1.007\n",
            "Train Epoch: 4 [20480/60000 (34%)]\tLoss: 2.146\n",
            "Train Epoch: 4 [25600/60000 (43%)]\tLoss: 0.948\n",
            "Train Epoch: 4 [30720/60000 (51%)]\tLoss: 0.869\n",
            "Train Epoch: 4 [35840/60000 (60%)]\tLoss: 0.793\n",
            "Train Epoch: 4 [40960/60000 (68%)]\tLoss: 0.809\n",
            "Train Epoch: 4 [46080/60000 (77%)]\tLoss: 0.856\n",
            "Train Epoch: 4 [51200/60000 (85%)]\tLoss: 0.981\n",
            "Train Epoch: 4 [56320/60000 (94%)]\tLoss: 0.690\n"
          ]
        },
        {
          "output_type": "stream",
          "name": "stderr",
          "text": [
            "2021/10/18 12:54:34 WARNING mlflow.utils.requirements_utils: Found torch version (1.9.0+cu111) contains a local version label (+cu111). MLflow logged a pip requirement for this package as 'torch==1.9.0' without the local version label to make it installable from PyPI. To specify pip requirements containing local version labels, please use `conda_env` or `pip_requirements`.\n",
            "2021/10/18 12:54:34 WARNING mlflow.utils.requirements_utils: Found torchvision version (0.10.0+cu111) contains a local version label (+cu111). MLflow logged a pip requirement for this package as 'torchvision==0.10.0' without the local version label to make it installable from PyPI. To specify pip requirements containing local version labels, please use `conda_env` or `pip_requirements`.\n"
          ]
        },
        {
          "output_type": "stream",
          "name": "stdout",
          "text": [
            "\n",
            "Test set: Average loss: 0.0038, Accuracy: 7358/10000 (74%)\n",
            "\n"
          ]
        },
        {
          "output_type": "stream",
          "name": "stderr",
          "text": [
            "2021/10/18 12:54:37 WARNING mlflow.utils.requirements_utils: Found torch version (1.9.0+cu111) contains a local version label (+cu111). MLflow logged a pip requirement for this package as 'torch==1.9.0' without the local version label to make it installable from PyPI. To specify pip requirements containing local version labels, please use `conda_env` or `pip_requirements`.\n"
          ]
        },
        {
          "output_type": "stream",
          "name": "stdout",
          "text": [
            "\n",
            "LR = 0.05, Momentum = 0.99, Hidden nodes = 32\n",
            "\n",
            "Train Epoch: 1 [0/60000 (0%)]\tLoss: 2.319\n",
            "Train Epoch: 1 [5120/60000 (9%)]\tLoss: 1.041\n",
            "Train Epoch: 1 [10240/60000 (17%)]\tLoss: 1.048\n",
            "Train Epoch: 1 [15360/60000 (26%)]\tLoss: 0.699\n",
            "Train Epoch: 1 [20480/60000 (34%)]\tLoss: 0.761\n",
            "Train Epoch: 1 [25600/60000 (43%)]\tLoss: 0.774\n",
            "Train Epoch: 1 [30720/60000 (51%)]\tLoss: 0.606\n",
            "Train Epoch: 1 [35840/60000 (60%)]\tLoss: 0.631\n",
            "Train Epoch: 1 [40960/60000 (68%)]\tLoss: 0.554\n",
            "Train Epoch: 1 [46080/60000 (77%)]\tLoss: 1.007\n",
            "Train Epoch: 1 [51200/60000 (85%)]\tLoss: 0.873\n",
            "Train Epoch: 1 [56320/60000 (94%)]\tLoss: 0.762\n",
            "\n",
            "Test set: Average loss: 0.0030, Accuracy: 8055/10000 (81%)\n",
            "\n",
            "Train Epoch: 2 [0/60000 (0%)]\tLoss: 0.773\n",
            "Train Epoch: 2 [5120/60000 (9%)]\tLoss: 0.898\n",
            "Train Epoch: 2 [10240/60000 (17%)]\tLoss: 0.840\n",
            "Train Epoch: 2 [15360/60000 (26%)]\tLoss: 0.786\n",
            "Train Epoch: 2 [20480/60000 (34%)]\tLoss: 0.574\n",
            "Train Epoch: 2 [25600/60000 (43%)]\tLoss: 0.524\n",
            "Train Epoch: 2 [30720/60000 (51%)]\tLoss: 0.545\n",
            "Train Epoch: 2 [35840/60000 (60%)]\tLoss: 0.603\n",
            "Train Epoch: 2 [40960/60000 (68%)]\tLoss: 0.880\n",
            "Train Epoch: 2 [46080/60000 (77%)]\tLoss: 0.775\n",
            "Train Epoch: 2 [51200/60000 (85%)]\tLoss: 0.769\n",
            "Train Epoch: 2 [56320/60000 (94%)]\tLoss: 0.650\n",
            "\n",
            "Test set: Average loss: 0.0035, Accuracy: 7905/10000 (79%)\n",
            "\n",
            "Train Epoch: 3 [0/60000 (0%)]\tLoss: 0.729\n",
            "Train Epoch: 3 [5120/60000 (9%)]\tLoss: 1.025\n",
            "Train Epoch: 3 [10240/60000 (17%)]\tLoss: 0.565\n",
            "Train Epoch: 3 [15360/60000 (26%)]\tLoss: 0.501\n",
            "Train Epoch: 3 [20480/60000 (34%)]\tLoss: 1.002\n",
            "Train Epoch: 3 [25600/60000 (43%)]\tLoss: 0.621\n",
            "Train Epoch: 3 [30720/60000 (51%)]\tLoss: 0.653\n",
            "Train Epoch: 3 [35840/60000 (60%)]\tLoss: 0.722\n",
            "Train Epoch: 3 [40960/60000 (68%)]\tLoss: 0.737\n",
            "Train Epoch: 3 [46080/60000 (77%)]\tLoss: 0.559\n",
            "Train Epoch: 3 [51200/60000 (85%)]\tLoss: 0.483\n",
            "Train Epoch: 3 [56320/60000 (94%)]\tLoss: 0.500\n",
            "\n",
            "Test set: Average loss: 0.0026, Accuracy: 8509/10000 (85%)\n",
            "\n",
            "Train Epoch: 4 [0/60000 (0%)]\tLoss: 0.637\n",
            "Train Epoch: 4 [5120/60000 (9%)]\tLoss: 0.795\n",
            "Train Epoch: 4 [10240/60000 (17%)]\tLoss: 0.342\n",
            "Train Epoch: 4 [15360/60000 (26%)]\tLoss: 0.481\n",
            "Train Epoch: 4 [20480/60000 (34%)]\tLoss: 0.936\n",
            "Train Epoch: 4 [25600/60000 (43%)]\tLoss: 0.572\n",
            "Train Epoch: 4 [30720/60000 (51%)]\tLoss: 0.382\n",
            "Train Epoch: 4 [35840/60000 (60%)]\tLoss: 0.719\n",
            "Train Epoch: 4 [40960/60000 (68%)]\tLoss: 0.522\n",
            "Train Epoch: 4 [46080/60000 (77%)]\tLoss: 0.463\n",
            "Train Epoch: 4 [51200/60000 (85%)]\tLoss: 0.699\n",
            "Train Epoch: 4 [56320/60000 (94%)]\tLoss: 0.802\n"
          ]
        },
        {
          "output_type": "stream",
          "name": "stderr",
          "text": [
            "2021/10/18 12:55:21 WARNING mlflow.utils.requirements_utils: Found torch version (1.9.0+cu111) contains a local version label (+cu111). MLflow logged a pip requirement for this package as 'torch==1.9.0' without the local version label to make it installable from PyPI. To specify pip requirements containing local version labels, please use `conda_env` or `pip_requirements`.\n",
            "2021/10/18 12:55:21 WARNING mlflow.utils.requirements_utils: Found torchvision version (0.10.0+cu111) contains a local version label (+cu111). MLflow logged a pip requirement for this package as 'torchvision==0.10.0' without the local version label to make it installable from PyPI. To specify pip requirements containing local version labels, please use `conda_env` or `pip_requirements`.\n"
          ]
        },
        {
          "output_type": "stream",
          "name": "stdout",
          "text": [
            "\n",
            "Test set: Average loss: 0.0025, Accuracy: 8462/10000 (85%)\n",
            "\n"
          ]
        },
        {
          "output_type": "stream",
          "name": "stderr",
          "text": [
            "2021/10/18 12:55:23 WARNING mlflow.utils.requirements_utils: Found torch version (1.9.0+cu111) contains a local version label (+cu111). MLflow logged a pip requirement for this package as 'torch==1.9.0' without the local version label to make it installable from PyPI. To specify pip requirements containing local version labels, please use `conda_env` or `pip_requirements`.\n"
          ]
        },
        {
          "output_type": "stream",
          "name": "stdout",
          "text": [
            "\n",
            "LR = 0.05, Momentum = 0.99, Hidden nodes = 48\n",
            "\n",
            "Train Epoch: 1 [0/60000 (0%)]\tLoss: 2.326\n",
            "Train Epoch: 1 [5120/60000 (9%)]\tLoss: 0.856\n",
            "Train Epoch: 1 [10240/60000 (17%)]\tLoss: 1.279\n",
            "Train Epoch: 1 [15360/60000 (26%)]\tLoss: 0.968\n",
            "Train Epoch: 1 [20480/60000 (34%)]\tLoss: 0.588\n",
            "Train Epoch: 1 [25600/60000 (43%)]\tLoss: 0.989\n",
            "Train Epoch: 1 [30720/60000 (51%)]\tLoss: 1.034\n",
            "Train Epoch: 1 [35840/60000 (60%)]\tLoss: 0.950\n",
            "Train Epoch: 1 [40960/60000 (68%)]\tLoss: 0.515\n",
            "Train Epoch: 1 [46080/60000 (77%)]\tLoss: 0.788\n",
            "Train Epoch: 1 [51200/60000 (85%)]\tLoss: 0.824\n",
            "Train Epoch: 1 [56320/60000 (94%)]\tLoss: 0.666\n",
            "\n",
            "Test set: Average loss: 0.0026, Accuracy: 8448/10000 (84%)\n",
            "\n",
            "Train Epoch: 2 [0/60000 (0%)]\tLoss: 0.518\n",
            "Train Epoch: 2 [5120/60000 (9%)]\tLoss: 0.632\n",
            "Train Epoch: 2 [10240/60000 (17%)]\tLoss: 0.704\n",
            "Train Epoch: 2 [15360/60000 (26%)]\tLoss: 0.547\n",
            "Train Epoch: 2 [20480/60000 (34%)]\tLoss: 0.799\n",
            "Train Epoch: 2 [25600/60000 (43%)]\tLoss: 0.587\n",
            "Train Epoch: 2 [30720/60000 (51%)]\tLoss: 0.566\n",
            "Train Epoch: 2 [35840/60000 (60%)]\tLoss: 0.626\n",
            "Train Epoch: 2 [40960/60000 (68%)]\tLoss: 0.456\n",
            "Train Epoch: 2 [46080/60000 (77%)]\tLoss: 0.530\n",
            "Train Epoch: 2 [51200/60000 (85%)]\tLoss: 0.660\n",
            "Train Epoch: 2 [56320/60000 (94%)]\tLoss: 0.660\n",
            "\n",
            "Test set: Average loss: 0.0032, Accuracy: 8159/10000 (82%)\n",
            "\n",
            "Train Epoch: 3 [0/60000 (0%)]\tLoss: 0.611\n",
            "Train Epoch: 3 [5120/60000 (9%)]\tLoss: 0.737\n",
            "Train Epoch: 3 [10240/60000 (17%)]\tLoss: 0.701\n",
            "Train Epoch: 3 [15360/60000 (26%)]\tLoss: 0.648\n",
            "Train Epoch: 3 [20480/60000 (34%)]\tLoss: 0.594\n",
            "Train Epoch: 3 [25600/60000 (43%)]\tLoss: 0.775\n",
            "Train Epoch: 3 [30720/60000 (51%)]\tLoss: 0.775\n",
            "Train Epoch: 3 [35840/60000 (60%)]\tLoss: 0.733\n",
            "Train Epoch: 3 [40960/60000 (68%)]\tLoss: 0.688\n",
            "Train Epoch: 3 [46080/60000 (77%)]\tLoss: 0.576\n",
            "Train Epoch: 3 [51200/60000 (85%)]\tLoss: 0.695\n",
            "Train Epoch: 3 [56320/60000 (94%)]\tLoss: 0.575\n",
            "\n",
            "Test set: Average loss: 0.0029, Accuracy: 8220/10000 (82%)\n",
            "\n",
            "Train Epoch: 4 [0/60000 (0%)]\tLoss: 0.804\n",
            "Train Epoch: 4 [5120/60000 (9%)]\tLoss: 0.789\n",
            "Train Epoch: 4 [10240/60000 (17%)]\tLoss: 0.590\n",
            "Train Epoch: 4 [15360/60000 (26%)]\tLoss: 0.751\n",
            "Train Epoch: 4 [20480/60000 (34%)]\tLoss: 0.665\n",
            "Train Epoch: 4 [25600/60000 (43%)]\tLoss: 0.576\n",
            "Train Epoch: 4 [30720/60000 (51%)]\tLoss: 0.788\n",
            "Train Epoch: 4 [35840/60000 (60%)]\tLoss: 1.619\n",
            "Train Epoch: 4 [40960/60000 (68%)]\tLoss: 0.633\n",
            "Train Epoch: 4 [46080/60000 (77%)]\tLoss: 0.679\n",
            "Train Epoch: 4 [51200/60000 (85%)]\tLoss: 0.778\n",
            "Train Epoch: 4 [56320/60000 (94%)]\tLoss: 0.626\n"
          ]
        },
        {
          "output_type": "stream",
          "name": "stderr",
          "text": [
            "2021/10/18 12:56:08 WARNING mlflow.utils.requirements_utils: Found torch version (1.9.0+cu111) contains a local version label (+cu111). MLflow logged a pip requirement for this package as 'torch==1.9.0' without the local version label to make it installable from PyPI. To specify pip requirements containing local version labels, please use `conda_env` or `pip_requirements`.\n",
            "2021/10/18 12:56:08 WARNING mlflow.utils.requirements_utils: Found torchvision version (0.10.0+cu111) contains a local version label (+cu111). MLflow logged a pip requirement for this package as 'torchvision==0.10.0' without the local version label to make it installable from PyPI. To specify pip requirements containing local version labels, please use `conda_env` or `pip_requirements`.\n"
          ]
        },
        {
          "output_type": "stream",
          "name": "stdout",
          "text": [
            "\n",
            "Test set: Average loss: 0.0032, Accuracy: 8266/10000 (83%)\n",
            "\n"
          ]
        },
        {
          "output_type": "stream",
          "name": "stderr",
          "text": [
            "2021/10/18 12:56:10 WARNING mlflow.utils.requirements_utils: Found torch version (1.9.0+cu111) contains a local version label (+cu111). MLflow logged a pip requirement for this package as 'torch==1.9.0' without the local version label to make it installable from PyPI. To specify pip requirements containing local version labels, please use `conda_env` or `pip_requirements`.\n"
          ]
        },
        {
          "output_type": "stream",
          "name": "stdout",
          "text": [
            "\n",
            "LR = 0.10, Momentum = 0.90, Hidden nodes = 16\n",
            "\n",
            "Train Epoch: 1 [0/60000 (0%)]\tLoss: 2.322\n",
            "Train Epoch: 1 [5120/60000 (9%)]\tLoss: 0.752\n",
            "Train Epoch: 1 [10240/60000 (17%)]\tLoss: 0.447\n",
            "Train Epoch: 1 [15360/60000 (26%)]\tLoss: 0.382\n",
            "Train Epoch: 1 [20480/60000 (34%)]\tLoss: 0.332\n",
            "Train Epoch: 1 [25600/60000 (43%)]\tLoss: 0.318\n",
            "Train Epoch: 1 [30720/60000 (51%)]\tLoss: 0.311\n",
            "Train Epoch: 1 [35840/60000 (60%)]\tLoss: 0.236\n",
            "Train Epoch: 1 [40960/60000 (68%)]\tLoss: 0.219\n",
            "Train Epoch: 1 [46080/60000 (77%)]\tLoss: 0.208\n",
            "Train Epoch: 1 [51200/60000 (85%)]\tLoss: 0.275\n",
            "Train Epoch: 1 [56320/60000 (94%)]\tLoss: 0.266\n",
            "\n",
            "Test set: Average loss: 0.0009, Accuracy: 9281/10000 (93%)\n",
            "\n",
            "Train Epoch: 2 [0/60000 (0%)]\tLoss: 0.267\n",
            "Train Epoch: 2 [5120/60000 (9%)]\tLoss: 0.238\n",
            "Train Epoch: 2 [10240/60000 (17%)]\tLoss: 0.299\n",
            "Train Epoch: 2 [15360/60000 (26%)]\tLoss: 0.298\n",
            "Train Epoch: 2 [20480/60000 (34%)]\tLoss: 0.229\n",
            "Train Epoch: 2 [25600/60000 (43%)]\tLoss: 0.123\n",
            "Train Epoch: 2 [30720/60000 (51%)]\tLoss: 0.273\n",
            "Train Epoch: 2 [35840/60000 (60%)]\tLoss: 0.185\n",
            "Train Epoch: 2 [40960/60000 (68%)]\tLoss: 0.315\n",
            "Train Epoch: 2 [46080/60000 (77%)]\tLoss: 0.280\n",
            "Train Epoch: 2 [51200/60000 (85%)]\tLoss: 0.193\n",
            "Train Epoch: 2 [56320/60000 (94%)]\tLoss: 0.258\n",
            "\n",
            "Test set: Average loss: 0.0008, Accuracy: 9379/10000 (94%)\n",
            "\n",
            "Train Epoch: 3 [0/60000 (0%)]\tLoss: 0.166\n",
            "Train Epoch: 3 [5120/60000 (9%)]\tLoss: 0.251\n",
            "Train Epoch: 3 [10240/60000 (17%)]\tLoss: 0.235\n",
            "Train Epoch: 3 [15360/60000 (26%)]\tLoss: 0.257\n",
            "Train Epoch: 3 [20480/60000 (34%)]\tLoss: 0.212\n",
            "Train Epoch: 3 [25600/60000 (43%)]\tLoss: 0.263\n",
            "Train Epoch: 3 [30720/60000 (51%)]\tLoss: 0.218\n",
            "Train Epoch: 3 [35840/60000 (60%)]\tLoss: 0.192\n",
            "Train Epoch: 3 [40960/60000 (68%)]\tLoss: 0.195\n",
            "Train Epoch: 3 [46080/60000 (77%)]\tLoss: 0.134\n",
            "Train Epoch: 3 [51200/60000 (85%)]\tLoss: 0.100\n",
            "Train Epoch: 3 [56320/60000 (94%)]\tLoss: 0.228\n",
            "\n",
            "Test set: Average loss: 0.0008, Accuracy: 9391/10000 (94%)\n",
            "\n",
            "Train Epoch: 4 [0/60000 (0%)]\tLoss: 0.247\n",
            "Train Epoch: 4 [5120/60000 (9%)]\tLoss: 0.166\n",
            "Train Epoch: 4 [10240/60000 (17%)]\tLoss: 0.151\n",
            "Train Epoch: 4 [15360/60000 (26%)]\tLoss: 0.247\n",
            "Train Epoch: 4 [20480/60000 (34%)]\tLoss: 0.118\n",
            "Train Epoch: 4 [25600/60000 (43%)]\tLoss: 0.117\n",
            "Train Epoch: 4 [30720/60000 (51%)]\tLoss: 0.187\n",
            "Train Epoch: 4 [35840/60000 (60%)]\tLoss: 0.238\n",
            "Train Epoch: 4 [40960/60000 (68%)]\tLoss: 0.238\n",
            "Train Epoch: 4 [46080/60000 (77%)]\tLoss: 0.176\n",
            "Train Epoch: 4 [51200/60000 (85%)]\tLoss: 0.228\n",
            "Train Epoch: 4 [56320/60000 (94%)]\tLoss: 0.260\n"
          ]
        },
        {
          "output_type": "stream",
          "name": "stderr",
          "text": [
            "2021/10/18 12:56:55 WARNING mlflow.utils.requirements_utils: Found torch version (1.9.0+cu111) contains a local version label (+cu111). MLflow logged a pip requirement for this package as 'torch==1.9.0' without the local version label to make it installable from PyPI. To specify pip requirements containing local version labels, please use `conda_env` or `pip_requirements`.\n",
            "2021/10/18 12:56:55 WARNING mlflow.utils.requirements_utils: Found torchvision version (0.10.0+cu111) contains a local version label (+cu111). MLflow logged a pip requirement for this package as 'torchvision==0.10.0' without the local version label to make it installable from PyPI. To specify pip requirements containing local version labels, please use `conda_env` or `pip_requirements`.\n"
          ]
        },
        {
          "output_type": "stream",
          "name": "stdout",
          "text": [
            "\n",
            "Test set: Average loss: 0.0008, Accuracy: 9407/10000 (94%)\n",
            "\n"
          ]
        },
        {
          "output_type": "stream",
          "name": "stderr",
          "text": [
            "2021/10/18 12:56:57 WARNING mlflow.utils.requirements_utils: Found torch version (1.9.0+cu111) contains a local version label (+cu111). MLflow logged a pip requirement for this package as 'torch==1.9.0' without the local version label to make it installable from PyPI. To specify pip requirements containing local version labels, please use `conda_env` or `pip_requirements`.\n"
          ]
        },
        {
          "output_type": "stream",
          "name": "stdout",
          "text": [
            "\n",
            "LR = 0.10, Momentum = 0.90, Hidden nodes = 24\n",
            "\n",
            "Train Epoch: 1 [0/60000 (0%)]\tLoss: 2.293\n",
            "Train Epoch: 1 [5120/60000 (9%)]\tLoss: 0.335\n",
            "Train Epoch: 1 [10240/60000 (17%)]\tLoss: 0.432\n",
            "Train Epoch: 1 [15360/60000 (26%)]\tLoss: 0.292\n",
            "Train Epoch: 1 [20480/60000 (34%)]\tLoss: 0.240\n",
            "Train Epoch: 1 [25600/60000 (43%)]\tLoss: 0.351\n",
            "Train Epoch: 1 [30720/60000 (51%)]\tLoss: 0.278\n",
            "Train Epoch: 1 [35840/60000 (60%)]\tLoss: 0.247\n",
            "Train Epoch: 1 [40960/60000 (68%)]\tLoss: 0.225\n",
            "Train Epoch: 1 [46080/60000 (77%)]\tLoss: 0.209\n",
            "Train Epoch: 1 [51200/60000 (85%)]\tLoss: 0.208\n",
            "Train Epoch: 1 [56320/60000 (94%)]\tLoss: 0.183\n",
            "\n",
            "Test set: Average loss: 0.0008, Accuracy: 9355/10000 (94%)\n",
            "\n",
            "Train Epoch: 2 [0/60000 (0%)]\tLoss: 0.251\n",
            "Train Epoch: 2 [5120/60000 (9%)]\tLoss: 0.194\n",
            "Train Epoch: 2 [10240/60000 (17%)]\tLoss: 0.192\n",
            "Train Epoch: 2 [15360/60000 (26%)]\tLoss: 0.180\n",
            "Train Epoch: 2 [20480/60000 (34%)]\tLoss: 0.137\n",
            "Train Epoch: 2 [25600/60000 (43%)]\tLoss: 0.168\n",
            "Train Epoch: 2 [30720/60000 (51%)]\tLoss: 0.160\n",
            "Train Epoch: 2 [35840/60000 (60%)]\tLoss: 0.216\n",
            "Train Epoch: 2 [40960/60000 (68%)]\tLoss: 0.168\n",
            "Train Epoch: 2 [46080/60000 (77%)]\tLoss: 0.184\n",
            "Train Epoch: 2 [51200/60000 (85%)]\tLoss: 0.213\n",
            "Train Epoch: 2 [56320/60000 (94%)]\tLoss: 0.199\n",
            "\n",
            "Test set: Average loss: 0.0007, Accuracy: 9494/10000 (95%)\n",
            "\n",
            "Train Epoch: 3 [0/60000 (0%)]\tLoss: 0.134\n",
            "Train Epoch: 3 [5120/60000 (9%)]\tLoss: 0.117\n",
            "Train Epoch: 3 [10240/60000 (17%)]\tLoss: 0.093\n",
            "Train Epoch: 3 [15360/60000 (26%)]\tLoss: 0.103\n",
            "Train Epoch: 3 [20480/60000 (34%)]\tLoss: 0.114\n",
            "Train Epoch: 3 [25600/60000 (43%)]\tLoss: 0.239\n",
            "Train Epoch: 3 [30720/60000 (51%)]\tLoss: 0.204\n",
            "Train Epoch: 3 [35840/60000 (60%)]\tLoss: 0.100\n",
            "Train Epoch: 3 [40960/60000 (68%)]\tLoss: 0.079\n",
            "Train Epoch: 3 [46080/60000 (77%)]\tLoss: 0.122\n",
            "Train Epoch: 3 [51200/60000 (85%)]\tLoss: 0.196\n",
            "Train Epoch: 3 [56320/60000 (94%)]\tLoss: 0.167\n",
            "\n",
            "Test set: Average loss: 0.0007, Accuracy: 9463/10000 (95%)\n",
            "\n",
            "Train Epoch: 4 [0/60000 (0%)]\tLoss: 0.132\n",
            "Train Epoch: 4 [5120/60000 (9%)]\tLoss: 0.198\n",
            "Train Epoch: 4 [10240/60000 (17%)]\tLoss: 0.103\n",
            "Train Epoch: 4 [15360/60000 (26%)]\tLoss: 0.128\n",
            "Train Epoch: 4 [20480/60000 (34%)]\tLoss: 0.186\n",
            "Train Epoch: 4 [25600/60000 (43%)]\tLoss: 0.122\n",
            "Train Epoch: 4 [30720/60000 (51%)]\tLoss: 0.115\n",
            "Train Epoch: 4 [35840/60000 (60%)]\tLoss: 0.157\n",
            "Train Epoch: 4 [40960/60000 (68%)]\tLoss: 0.149\n",
            "Train Epoch: 4 [46080/60000 (77%)]\tLoss: 0.117\n",
            "Train Epoch: 4 [51200/60000 (85%)]\tLoss: 0.134\n",
            "Train Epoch: 4 [56320/60000 (94%)]\tLoss: 0.118\n"
          ]
        },
        {
          "output_type": "stream",
          "name": "stderr",
          "text": [
            "2021/10/18 12:57:41 WARNING mlflow.utils.requirements_utils: Found torch version (1.9.0+cu111) contains a local version label (+cu111). MLflow logged a pip requirement for this package as 'torch==1.9.0' without the local version label to make it installable from PyPI. To specify pip requirements containing local version labels, please use `conda_env` or `pip_requirements`.\n",
            "2021/10/18 12:57:41 WARNING mlflow.utils.requirements_utils: Found torchvision version (0.10.0+cu111) contains a local version label (+cu111). MLflow logged a pip requirement for this package as 'torchvision==0.10.0' without the local version label to make it installable from PyPI. To specify pip requirements containing local version labels, please use `conda_env` or `pip_requirements`.\n"
          ]
        },
        {
          "output_type": "stream",
          "name": "stdout",
          "text": [
            "\n",
            "Test set: Average loss: 0.0006, Accuracy: 9578/10000 (96%)\n",
            "\n"
          ]
        },
        {
          "output_type": "stream",
          "name": "stderr",
          "text": [
            "2021/10/18 12:57:43 WARNING mlflow.utils.requirements_utils: Found torch version (1.9.0+cu111) contains a local version label (+cu111). MLflow logged a pip requirement for this package as 'torch==1.9.0' without the local version label to make it installable from PyPI. To specify pip requirements containing local version labels, please use `conda_env` or `pip_requirements`.\n"
          ]
        },
        {
          "output_type": "stream",
          "name": "stdout",
          "text": [
            "\n",
            "LR = 0.10, Momentum = 0.90, Hidden nodes = 32\n",
            "\n",
            "Train Epoch: 1 [0/60000 (0%)]\tLoss: 2.349\n",
            "Train Epoch: 1 [5120/60000 (9%)]\tLoss: 0.823\n",
            "Train Epoch: 1 [10240/60000 (17%)]\tLoss: 0.434\n",
            "Train Epoch: 1 [15360/60000 (26%)]\tLoss: 0.337\n",
            "Train Epoch: 1 [20480/60000 (34%)]\tLoss: 0.285\n",
            "Train Epoch: 1 [25600/60000 (43%)]\tLoss: 0.191\n",
            "Train Epoch: 1 [30720/60000 (51%)]\tLoss: 0.184\n",
            "Train Epoch: 1 [35840/60000 (60%)]\tLoss: 0.331\n",
            "Train Epoch: 1 [40960/60000 (68%)]\tLoss: 0.319\n",
            "Train Epoch: 1 [46080/60000 (77%)]\tLoss: 0.258\n",
            "Train Epoch: 1 [51200/60000 (85%)]\tLoss: 0.221\n",
            "Train Epoch: 1 [56320/60000 (94%)]\tLoss: 0.170\n",
            "\n",
            "Test set: Average loss: 0.0007, Accuracy: 9476/10000 (95%)\n",
            "\n",
            "Train Epoch: 2 [0/60000 (0%)]\tLoss: 0.173\n",
            "Train Epoch: 2 [5120/60000 (9%)]\tLoss: 0.179\n",
            "Train Epoch: 2 [10240/60000 (17%)]\tLoss: 0.132\n",
            "Train Epoch: 2 [15360/60000 (26%)]\tLoss: 0.188\n",
            "Train Epoch: 2 [20480/60000 (34%)]\tLoss: 0.131\n",
            "Train Epoch: 2 [25600/60000 (43%)]\tLoss: 0.224\n",
            "Train Epoch: 2 [30720/60000 (51%)]\tLoss: 0.130\n",
            "Train Epoch: 2 [35840/60000 (60%)]\tLoss: 0.180\n",
            "Train Epoch: 2 [40960/60000 (68%)]\tLoss: 0.094\n",
            "Train Epoch: 2 [46080/60000 (77%)]\tLoss: 0.166\n",
            "Train Epoch: 2 [51200/60000 (85%)]\tLoss: 0.141\n",
            "Train Epoch: 2 [56320/60000 (94%)]\tLoss: 0.178\n",
            "\n",
            "Test set: Average loss: 0.0006, Accuracy: 9537/10000 (95%)\n",
            "\n",
            "Train Epoch: 3 [0/60000 (0%)]\tLoss: 0.100\n",
            "Train Epoch: 3 [5120/60000 (9%)]\tLoss: 0.143\n",
            "Train Epoch: 3 [10240/60000 (17%)]\tLoss: 0.132\n",
            "Train Epoch: 3 [15360/60000 (26%)]\tLoss: 0.066\n",
            "Train Epoch: 3 [20480/60000 (34%)]\tLoss: 0.114\n",
            "Train Epoch: 3 [25600/60000 (43%)]\tLoss: 0.159\n",
            "Train Epoch: 3 [30720/60000 (51%)]\tLoss: 0.073\n",
            "Train Epoch: 3 [35840/60000 (60%)]\tLoss: 0.220\n",
            "Train Epoch: 3 [40960/60000 (68%)]\tLoss: 0.113\n",
            "Train Epoch: 3 [46080/60000 (77%)]\tLoss: 0.126\n",
            "Train Epoch: 3 [51200/60000 (85%)]\tLoss: 0.133\n",
            "Train Epoch: 3 [56320/60000 (94%)]\tLoss: 0.139\n",
            "\n",
            "Test set: Average loss: 0.0005, Accuracy: 9603/10000 (96%)\n",
            "\n",
            "Train Epoch: 4 [0/60000 (0%)]\tLoss: 0.114\n",
            "Train Epoch: 4 [5120/60000 (9%)]\tLoss: 0.053\n",
            "Train Epoch: 4 [10240/60000 (17%)]\tLoss: 0.123\n",
            "Train Epoch: 4 [15360/60000 (26%)]\tLoss: 0.079\n",
            "Train Epoch: 4 [20480/60000 (34%)]\tLoss: 0.127\n",
            "Train Epoch: 4 [25600/60000 (43%)]\tLoss: 0.159\n",
            "Train Epoch: 4 [30720/60000 (51%)]\tLoss: 0.177\n",
            "Train Epoch: 4 [35840/60000 (60%)]\tLoss: 0.134\n",
            "Train Epoch: 4 [40960/60000 (68%)]\tLoss: 0.147\n",
            "Train Epoch: 4 [46080/60000 (77%)]\tLoss: 0.107\n",
            "Train Epoch: 4 [51200/60000 (85%)]\tLoss: 0.147\n",
            "Train Epoch: 4 [56320/60000 (94%)]\tLoss: 0.118\n"
          ]
        },
        {
          "output_type": "stream",
          "name": "stderr",
          "text": [
            "2021/10/18 12:58:28 WARNING mlflow.utils.requirements_utils: Found torch version (1.9.0+cu111) contains a local version label (+cu111). MLflow logged a pip requirement for this package as 'torch==1.9.0' without the local version label to make it installable from PyPI. To specify pip requirements containing local version labels, please use `conda_env` or `pip_requirements`.\n",
            "2021/10/18 12:58:28 WARNING mlflow.utils.requirements_utils: Found torchvision version (0.10.0+cu111) contains a local version label (+cu111). MLflow logged a pip requirement for this package as 'torchvision==0.10.0' without the local version label to make it installable from PyPI. To specify pip requirements containing local version labels, please use `conda_env` or `pip_requirements`.\n"
          ]
        },
        {
          "output_type": "stream",
          "name": "stdout",
          "text": [
            "\n",
            "Test set: Average loss: 0.0005, Accuracy: 9643/10000 (96%)\n",
            "\n"
          ]
        },
        {
          "output_type": "stream",
          "name": "stderr",
          "text": [
            "2021/10/18 12:58:31 WARNING mlflow.utils.requirements_utils: Found torch version (1.9.0+cu111) contains a local version label (+cu111). MLflow logged a pip requirement for this package as 'torch==1.9.0' without the local version label to make it installable from PyPI. To specify pip requirements containing local version labels, please use `conda_env` or `pip_requirements`.\n"
          ]
        },
        {
          "output_type": "stream",
          "name": "stdout",
          "text": [
            "\n",
            "LR = 0.10, Momentum = 0.90, Hidden nodes = 48\n",
            "\n",
            "Train Epoch: 1 [0/60000 (0%)]\tLoss: 2.331\n",
            "Train Epoch: 1 [5120/60000 (9%)]\tLoss: 0.763\n",
            "Train Epoch: 1 [10240/60000 (17%)]\tLoss: 0.346\n",
            "Train Epoch: 1 [15360/60000 (26%)]\tLoss: 0.231\n",
            "Train Epoch: 1 [20480/60000 (34%)]\tLoss: 0.348\n",
            "Train Epoch: 1 [25600/60000 (43%)]\tLoss: 0.220\n",
            "Train Epoch: 1 [30720/60000 (51%)]\tLoss: 0.163\n",
            "Train Epoch: 1 [35840/60000 (60%)]\tLoss: 0.217\n",
            "Train Epoch: 1 [40960/60000 (68%)]\tLoss: 0.210\n",
            "Train Epoch: 1 [46080/60000 (77%)]\tLoss: 0.161\n",
            "Train Epoch: 1 [51200/60000 (85%)]\tLoss: 0.187\n",
            "Train Epoch: 1 [56320/60000 (94%)]\tLoss: 0.128\n",
            "\n",
            "Test set: Average loss: 0.0006, Accuracy: 9529/10000 (95%)\n",
            "\n",
            "Train Epoch: 2 [0/60000 (0%)]\tLoss: 0.142\n",
            "Train Epoch: 2 [5120/60000 (9%)]\tLoss: 0.145\n",
            "Train Epoch: 2 [10240/60000 (17%)]\tLoss: 0.158\n",
            "Train Epoch: 2 [15360/60000 (26%)]\tLoss: 0.190\n",
            "Train Epoch: 2 [20480/60000 (34%)]\tLoss: 0.153\n",
            "Train Epoch: 2 [25600/60000 (43%)]\tLoss: 0.093\n",
            "Train Epoch: 2 [30720/60000 (51%)]\tLoss: 0.133\n",
            "Train Epoch: 2 [35840/60000 (60%)]\tLoss: 0.134\n",
            "Train Epoch: 2 [40960/60000 (68%)]\tLoss: 0.141\n",
            "Train Epoch: 2 [46080/60000 (77%)]\tLoss: 0.101\n",
            "Train Epoch: 2 [51200/60000 (85%)]\tLoss: 0.103\n",
            "Train Epoch: 2 [56320/60000 (94%)]\tLoss: 0.150\n",
            "\n",
            "Test set: Average loss: 0.0004, Accuracy: 9667/10000 (97%)\n",
            "\n",
            "Train Epoch: 3 [0/60000 (0%)]\tLoss: 0.092\n",
            "Train Epoch: 3 [5120/60000 (9%)]\tLoss: 0.159\n",
            "Train Epoch: 3 [10240/60000 (17%)]\tLoss: 0.080\n",
            "Train Epoch: 3 [15360/60000 (26%)]\tLoss: 0.132\n",
            "Train Epoch: 3 [20480/60000 (34%)]\tLoss: 0.087\n",
            "Train Epoch: 3 [25600/60000 (43%)]\tLoss: 0.170\n",
            "Train Epoch: 3 [30720/60000 (51%)]\tLoss: 0.096\n",
            "Train Epoch: 3 [35840/60000 (60%)]\tLoss: 0.127\n",
            "Train Epoch: 3 [40960/60000 (68%)]\tLoss: 0.096\n",
            "Train Epoch: 3 [46080/60000 (77%)]\tLoss: 0.105\n",
            "Train Epoch: 3 [51200/60000 (85%)]\tLoss: 0.176\n",
            "Train Epoch: 3 [56320/60000 (94%)]\tLoss: 0.086\n",
            "\n",
            "Test set: Average loss: 0.0005, Accuracy: 9622/10000 (96%)\n",
            "\n",
            "Train Epoch: 4 [0/60000 (0%)]\tLoss: 0.081\n",
            "Train Epoch: 4 [5120/60000 (9%)]\tLoss: 0.045\n",
            "Train Epoch: 4 [10240/60000 (17%)]\tLoss: 0.108\n",
            "Train Epoch: 4 [15360/60000 (26%)]\tLoss: 0.190\n",
            "Train Epoch: 4 [20480/60000 (34%)]\tLoss: 0.092\n",
            "Train Epoch: 4 [25600/60000 (43%)]\tLoss: 0.046\n",
            "Train Epoch: 4 [30720/60000 (51%)]\tLoss: 0.077\n",
            "Train Epoch: 4 [35840/60000 (60%)]\tLoss: 0.080\n",
            "Train Epoch: 4 [40960/60000 (68%)]\tLoss: 0.080\n",
            "Train Epoch: 4 [46080/60000 (77%)]\tLoss: 0.099\n",
            "Train Epoch: 4 [51200/60000 (85%)]\tLoss: 0.068\n",
            "Train Epoch: 4 [56320/60000 (94%)]\tLoss: 0.083\n"
          ]
        },
        {
          "output_type": "stream",
          "name": "stderr",
          "text": [
            "2021/10/18 12:59:15 WARNING mlflow.utils.requirements_utils: Found torch version (1.9.0+cu111) contains a local version label (+cu111). MLflow logged a pip requirement for this package as 'torch==1.9.0' without the local version label to make it installable from PyPI. To specify pip requirements containing local version labels, please use `conda_env` or `pip_requirements`.\n",
            "2021/10/18 12:59:15 WARNING mlflow.utils.requirements_utils: Found torchvision version (0.10.0+cu111) contains a local version label (+cu111). MLflow logged a pip requirement for this package as 'torchvision==0.10.0' without the local version label to make it installable from PyPI. To specify pip requirements containing local version labels, please use `conda_env` or `pip_requirements`.\n"
          ]
        },
        {
          "output_type": "stream",
          "name": "stdout",
          "text": [
            "\n",
            "Test set: Average loss: 0.0004, Accuracy: 9692/10000 (97%)\n",
            "\n"
          ]
        },
        {
          "output_type": "stream",
          "name": "stderr",
          "text": [
            "2021/10/18 12:59:17 WARNING mlflow.utils.requirements_utils: Found torch version (1.9.0+cu111) contains a local version label (+cu111). MLflow logged a pip requirement for this package as 'torch==1.9.0' without the local version label to make it installable from PyPI. To specify pip requirements containing local version labels, please use `conda_env` or `pip_requirements`.\n"
          ]
        },
        {
          "output_type": "stream",
          "name": "stdout",
          "text": [
            "\n",
            "LR = 0.10, Momentum = 0.95, Hidden nodes = 16\n",
            "\n",
            "Train Epoch: 1 [0/60000 (0%)]\tLoss: 2.327\n",
            "Train Epoch: 1 [5120/60000 (9%)]\tLoss: 1.185\n",
            "Train Epoch: 1 [10240/60000 (17%)]\tLoss: 0.662\n",
            "Train Epoch: 1 [15360/60000 (26%)]\tLoss: 0.866\n",
            "Train Epoch: 1 [20480/60000 (34%)]\tLoss: 0.391\n",
            "Train Epoch: 1 [25600/60000 (43%)]\tLoss: 0.534\n",
            "Train Epoch: 1 [30720/60000 (51%)]\tLoss: 0.388\n",
            "Train Epoch: 1 [35840/60000 (60%)]\tLoss: 0.222\n",
            "Train Epoch: 1 [40960/60000 (68%)]\tLoss: 0.298\n",
            "Train Epoch: 1 [46080/60000 (77%)]\tLoss: 0.295\n",
            "Train Epoch: 1 [51200/60000 (85%)]\tLoss: 0.374\n",
            "Train Epoch: 1 [56320/60000 (94%)]\tLoss: 0.294\n",
            "\n",
            "Test set: Average loss: 0.0011, Accuracy: 9265/10000 (93%)\n",
            "\n",
            "Train Epoch: 2 [0/60000 (0%)]\tLoss: 0.273\n",
            "Train Epoch: 2 [5120/60000 (9%)]\tLoss: 0.250\n",
            "Train Epoch: 2 [10240/60000 (17%)]\tLoss: 0.303\n",
            "Train Epoch: 2 [15360/60000 (26%)]\tLoss: 0.281\n",
            "Train Epoch: 2 [20480/60000 (34%)]\tLoss: 0.305\n",
            "Train Epoch: 2 [25600/60000 (43%)]\tLoss: 0.211\n",
            "Train Epoch: 2 [30720/60000 (51%)]\tLoss: 0.301\n",
            "Train Epoch: 2 [35840/60000 (60%)]\tLoss: 0.285\n",
            "Train Epoch: 2 [40960/60000 (68%)]\tLoss: 0.352\n",
            "Train Epoch: 2 [46080/60000 (77%)]\tLoss: 0.228\n",
            "Train Epoch: 2 [51200/60000 (85%)]\tLoss: 0.235\n",
            "Train Epoch: 2 [56320/60000 (94%)]\tLoss: 0.325\n",
            "\n",
            "Test set: Average loss: 0.0009, Accuracy: 9380/10000 (94%)\n",
            "\n",
            "Train Epoch: 3 [0/60000 (0%)]\tLoss: 0.188\n",
            "Train Epoch: 3 [5120/60000 (9%)]\tLoss: 0.324\n",
            "Train Epoch: 3 [10240/60000 (17%)]\tLoss: 0.251\n",
            "Train Epoch: 3 [15360/60000 (26%)]\tLoss: 0.208\n",
            "Train Epoch: 3 [20480/60000 (34%)]\tLoss: 0.237\n",
            "Train Epoch: 3 [25600/60000 (43%)]\tLoss: 0.234\n",
            "Train Epoch: 3 [30720/60000 (51%)]\tLoss: 0.154\n",
            "Train Epoch: 3 [35840/60000 (60%)]\tLoss: 0.181\n",
            "Train Epoch: 3 [40960/60000 (68%)]\tLoss: 0.289\n",
            "Train Epoch: 3 [46080/60000 (77%)]\tLoss: 0.230\n",
            "Train Epoch: 3 [51200/60000 (85%)]\tLoss: 0.263\n",
            "Train Epoch: 3 [56320/60000 (94%)]\tLoss: 0.175\n",
            "\n",
            "Test set: Average loss: 0.0009, Accuracy: 9349/10000 (93%)\n",
            "\n",
            "Train Epoch: 4 [0/60000 (0%)]\tLoss: 0.189\n",
            "Train Epoch: 4 [5120/60000 (9%)]\tLoss: 0.164\n",
            "Train Epoch: 4 [10240/60000 (17%)]\tLoss: 0.143\n",
            "Train Epoch: 4 [15360/60000 (26%)]\tLoss: 0.230\n",
            "Train Epoch: 4 [20480/60000 (34%)]\tLoss: 0.213\n",
            "Train Epoch: 4 [25600/60000 (43%)]\tLoss: 0.365\n",
            "Train Epoch: 4 [30720/60000 (51%)]\tLoss: 0.253\n",
            "Train Epoch: 4 [35840/60000 (60%)]\tLoss: 0.199\n",
            "Train Epoch: 4 [40960/60000 (68%)]\tLoss: 0.185\n",
            "Train Epoch: 4 [46080/60000 (77%)]\tLoss: 0.265\n",
            "Train Epoch: 4 [51200/60000 (85%)]\tLoss: 0.187\n",
            "Train Epoch: 4 [56320/60000 (94%)]\tLoss: 0.216\n"
          ]
        },
        {
          "output_type": "stream",
          "name": "stderr",
          "text": [
            "2021/10/18 13:00:01 WARNING mlflow.utils.requirements_utils: Found torch version (1.9.0+cu111) contains a local version label (+cu111). MLflow logged a pip requirement for this package as 'torch==1.9.0' without the local version label to make it installable from PyPI. To specify pip requirements containing local version labels, please use `conda_env` or `pip_requirements`.\n",
            "2021/10/18 13:00:01 WARNING mlflow.utils.requirements_utils: Found torchvision version (0.10.0+cu111) contains a local version label (+cu111). MLflow logged a pip requirement for this package as 'torchvision==0.10.0' without the local version label to make it installable from PyPI. To specify pip requirements containing local version labels, please use `conda_env` or `pip_requirements`.\n"
          ]
        },
        {
          "output_type": "stream",
          "name": "stdout",
          "text": [
            "\n",
            "Test set: Average loss: 0.0008, Accuracy: 9417/10000 (94%)\n",
            "\n"
          ]
        },
        {
          "output_type": "stream",
          "name": "stderr",
          "text": [
            "2021/10/18 13:00:04 WARNING mlflow.utils.requirements_utils: Found torch version (1.9.0+cu111) contains a local version label (+cu111). MLflow logged a pip requirement for this package as 'torch==1.9.0' without the local version label to make it installable from PyPI. To specify pip requirements containing local version labels, please use `conda_env` or `pip_requirements`.\n"
          ]
        },
        {
          "output_type": "stream",
          "name": "stdout",
          "text": [
            "\n",
            "LR = 0.10, Momentum = 0.95, Hidden nodes = 24\n",
            "\n",
            "Train Epoch: 1 [0/60000 (0%)]\tLoss: 2.288\n",
            "Train Epoch: 1 [5120/60000 (9%)]\tLoss: 0.964\n",
            "Train Epoch: 1 [10240/60000 (17%)]\tLoss: 0.574\n",
            "Train Epoch: 1 [15360/60000 (26%)]\tLoss: 0.701\n",
            "Train Epoch: 1 [20480/60000 (34%)]\tLoss: 0.435\n",
            "Train Epoch: 1 [25600/60000 (43%)]\tLoss: 0.383\n",
            "Train Epoch: 1 [30720/60000 (51%)]\tLoss: 0.376\n",
            "Train Epoch: 1 [35840/60000 (60%)]\tLoss: 0.304\n",
            "Train Epoch: 1 [40960/60000 (68%)]\tLoss: 0.416\n",
            "Train Epoch: 1 [46080/60000 (77%)]\tLoss: 0.377\n",
            "Train Epoch: 1 [51200/60000 (85%)]\tLoss: 0.253\n",
            "Train Epoch: 1 [56320/60000 (94%)]\tLoss: 0.318\n",
            "\n",
            "Test set: Average loss: 0.0012, Accuracy: 9182/10000 (92%)\n",
            "\n",
            "Train Epoch: 2 [0/60000 (0%)]\tLoss: 0.302\n",
            "Train Epoch: 2 [5120/60000 (9%)]\tLoss: 0.266\n",
            "Train Epoch: 2 [10240/60000 (17%)]\tLoss: 0.313\n",
            "Train Epoch: 2 [15360/60000 (26%)]\tLoss: 0.261\n",
            "Train Epoch: 2 [20480/60000 (34%)]\tLoss: 0.283\n",
            "Train Epoch: 2 [25600/60000 (43%)]\tLoss: 0.273\n",
            "Train Epoch: 2 [30720/60000 (51%)]\tLoss: 0.294\n",
            "Train Epoch: 2 [35840/60000 (60%)]\tLoss: 0.249\n",
            "Train Epoch: 2 [40960/60000 (68%)]\tLoss: 0.234\n",
            "Train Epoch: 2 [46080/60000 (77%)]\tLoss: 0.169\n",
            "Train Epoch: 2 [51200/60000 (85%)]\tLoss: 0.204\n",
            "Train Epoch: 2 [56320/60000 (94%)]\tLoss: 0.278\n",
            "\n",
            "Test set: Average loss: 0.0009, Accuracy: 9337/10000 (93%)\n",
            "\n",
            "Train Epoch: 3 [0/60000 (0%)]\tLoss: 0.240\n",
            "Train Epoch: 3 [5120/60000 (9%)]\tLoss: 0.243\n",
            "Train Epoch: 3 [10240/60000 (17%)]\tLoss: 0.299\n",
            "Train Epoch: 3 [15360/60000 (26%)]\tLoss: 0.250\n",
            "Train Epoch: 3 [20480/60000 (34%)]\tLoss: 0.145\n",
            "Train Epoch: 3 [25600/60000 (43%)]\tLoss: 0.188\n",
            "Train Epoch: 3 [30720/60000 (51%)]\tLoss: 0.255\n",
            "Train Epoch: 3 [35840/60000 (60%)]\tLoss: 0.131\n",
            "Train Epoch: 3 [40960/60000 (68%)]\tLoss: 0.218\n",
            "Train Epoch: 3 [46080/60000 (77%)]\tLoss: 0.142\n",
            "Train Epoch: 3 [51200/60000 (85%)]\tLoss: 0.168\n",
            "Train Epoch: 3 [56320/60000 (94%)]\tLoss: 0.262\n",
            "\n",
            "Test set: Average loss: 0.0012, Accuracy: 9208/10000 (92%)\n",
            "\n",
            "Train Epoch: 4 [0/60000 (0%)]\tLoss: 0.182\n",
            "Train Epoch: 4 [5120/60000 (9%)]\tLoss: 0.279\n",
            "Train Epoch: 4 [10240/60000 (17%)]\tLoss: 0.197\n",
            "Train Epoch: 4 [15360/60000 (26%)]\tLoss: 0.180\n",
            "Train Epoch: 4 [20480/60000 (34%)]\tLoss: 0.154\n",
            "Train Epoch: 4 [25600/60000 (43%)]\tLoss: 0.252\n",
            "Train Epoch: 4 [30720/60000 (51%)]\tLoss: 0.209\n",
            "Train Epoch: 4 [35840/60000 (60%)]\tLoss: 0.123\n",
            "Train Epoch: 4 [40960/60000 (68%)]\tLoss: 0.151\n",
            "Train Epoch: 4 [46080/60000 (77%)]\tLoss: 0.170\n",
            "Train Epoch: 4 [51200/60000 (85%)]\tLoss: 0.252\n",
            "Train Epoch: 4 [56320/60000 (94%)]\tLoss: 0.181\n"
          ]
        },
        {
          "output_type": "stream",
          "name": "stderr",
          "text": [
            "2021/10/18 13:00:48 WARNING mlflow.utils.requirements_utils: Found torch version (1.9.0+cu111) contains a local version label (+cu111). MLflow logged a pip requirement for this package as 'torch==1.9.0' without the local version label to make it installable from PyPI. To specify pip requirements containing local version labels, please use `conda_env` or `pip_requirements`.\n",
            "2021/10/18 13:00:48 WARNING mlflow.utils.requirements_utils: Found torchvision version (0.10.0+cu111) contains a local version label (+cu111). MLflow logged a pip requirement for this package as 'torchvision==0.10.0' without the local version label to make it installable from PyPI. To specify pip requirements containing local version labels, please use `conda_env` or `pip_requirements`.\n"
          ]
        },
        {
          "output_type": "stream",
          "name": "stdout",
          "text": [
            "\n",
            "Test set: Average loss: 0.0008, Accuracy: 9460/10000 (95%)\n",
            "\n"
          ]
        },
        {
          "output_type": "stream",
          "name": "stderr",
          "text": [
            "2021/10/18 13:00:50 WARNING mlflow.utils.requirements_utils: Found torch version (1.9.0+cu111) contains a local version label (+cu111). MLflow logged a pip requirement for this package as 'torch==1.9.0' without the local version label to make it installable from PyPI. To specify pip requirements containing local version labels, please use `conda_env` or `pip_requirements`.\n"
          ]
        },
        {
          "output_type": "stream",
          "name": "stdout",
          "text": [
            "\n",
            "LR = 0.10, Momentum = 0.95, Hidden nodes = 32\n",
            "\n",
            "Train Epoch: 1 [0/60000 (0%)]\tLoss: 2.317\n",
            "Train Epoch: 1 [5120/60000 (9%)]\tLoss: 1.314\n",
            "Train Epoch: 1 [10240/60000 (17%)]\tLoss: 0.758\n",
            "Train Epoch: 1 [15360/60000 (26%)]\tLoss: 0.371\n",
            "Train Epoch: 1 [20480/60000 (34%)]\tLoss: 0.484\n",
            "Train Epoch: 1 [25600/60000 (43%)]\tLoss: 0.393\n",
            "Train Epoch: 1 [30720/60000 (51%)]\tLoss: 0.312\n",
            "Train Epoch: 1 [35840/60000 (60%)]\tLoss: 0.327\n",
            "Train Epoch: 1 [40960/60000 (68%)]\tLoss: 0.379\n",
            "Train Epoch: 1 [46080/60000 (77%)]\tLoss: 0.256\n",
            "Train Epoch: 1 [51200/60000 (85%)]\tLoss: 0.238\n",
            "Train Epoch: 1 [56320/60000 (94%)]\tLoss: 0.315\n",
            "\n",
            "Test set: Average loss: 0.0009, Accuracy: 9344/10000 (93%)\n",
            "\n",
            "Train Epoch: 2 [0/60000 (0%)]\tLoss: 0.162\n",
            "Train Epoch: 2 [5120/60000 (9%)]\tLoss: 0.254\n",
            "Train Epoch: 2 [10240/60000 (17%)]\tLoss: 0.235\n",
            "Train Epoch: 2 [15360/60000 (26%)]\tLoss: 0.156\n",
            "Train Epoch: 2 [20480/60000 (34%)]\tLoss: 0.243\n",
            "Train Epoch: 2 [25600/60000 (43%)]\tLoss: 0.161\n",
            "Train Epoch: 2 [30720/60000 (51%)]\tLoss: 0.169\n",
            "Train Epoch: 2 [35840/60000 (60%)]\tLoss: 0.238\n",
            "Train Epoch: 2 [40960/60000 (68%)]\tLoss: 0.204\n",
            "Train Epoch: 2 [46080/60000 (77%)]\tLoss: 0.263\n",
            "Train Epoch: 2 [51200/60000 (85%)]\tLoss: 0.172\n",
            "Train Epoch: 2 [56320/60000 (94%)]\tLoss: 0.202\n",
            "\n",
            "Test set: Average loss: 0.0008, Accuracy: 9438/10000 (94%)\n",
            "\n",
            "Train Epoch: 3 [0/60000 (0%)]\tLoss: 0.131\n",
            "Train Epoch: 3 [5120/60000 (9%)]\tLoss: 0.235\n",
            "Train Epoch: 3 [10240/60000 (17%)]\tLoss: 0.177\n",
            "Train Epoch: 3 [15360/60000 (26%)]\tLoss: 0.216\n",
            "Train Epoch: 3 [20480/60000 (34%)]\tLoss: 0.161\n",
            "Train Epoch: 3 [25600/60000 (43%)]\tLoss: 0.068\n",
            "Train Epoch: 3 [30720/60000 (51%)]\tLoss: 0.128\n",
            "Train Epoch: 3 [35840/60000 (60%)]\tLoss: 0.132\n",
            "Train Epoch: 3 [40960/60000 (68%)]\tLoss: 0.153\n",
            "Train Epoch: 3 [46080/60000 (77%)]\tLoss: 0.159\n",
            "Train Epoch: 3 [51200/60000 (85%)]\tLoss: 0.152\n",
            "Train Epoch: 3 [56320/60000 (94%)]\tLoss: 0.135\n",
            "\n",
            "Test set: Average loss: 0.0007, Accuracy: 9432/10000 (94%)\n",
            "\n",
            "Train Epoch: 4 [0/60000 (0%)]\tLoss: 0.075\n",
            "Train Epoch: 4 [5120/60000 (9%)]\tLoss: 0.142\n",
            "Train Epoch: 4 [10240/60000 (17%)]\tLoss: 0.179\n",
            "Train Epoch: 4 [15360/60000 (26%)]\tLoss: 0.100\n",
            "Train Epoch: 4 [20480/60000 (34%)]\tLoss: 0.195\n",
            "Train Epoch: 4 [25600/60000 (43%)]\tLoss: 0.142\n",
            "Train Epoch: 4 [30720/60000 (51%)]\tLoss: 0.195\n",
            "Train Epoch: 4 [35840/60000 (60%)]\tLoss: 0.141\n",
            "Train Epoch: 4 [40960/60000 (68%)]\tLoss: 0.211\n",
            "Train Epoch: 4 [46080/60000 (77%)]\tLoss: 0.157\n",
            "Train Epoch: 4 [51200/60000 (85%)]\tLoss: 0.180\n",
            "Train Epoch: 4 [56320/60000 (94%)]\tLoss: 0.170\n"
          ]
        },
        {
          "output_type": "stream",
          "name": "stderr",
          "text": [
            "2021/10/18 13:01:35 WARNING mlflow.utils.requirements_utils: Found torch version (1.9.0+cu111) contains a local version label (+cu111). MLflow logged a pip requirement for this package as 'torch==1.9.0' without the local version label to make it installable from PyPI. To specify pip requirements containing local version labels, please use `conda_env` or `pip_requirements`.\n",
            "2021/10/18 13:01:35 WARNING mlflow.utils.requirements_utils: Found torchvision version (0.10.0+cu111) contains a local version label (+cu111). MLflow logged a pip requirement for this package as 'torchvision==0.10.0' without the local version label to make it installable from PyPI. To specify pip requirements containing local version labels, please use `conda_env` or `pip_requirements`.\n"
          ]
        },
        {
          "output_type": "stream",
          "name": "stdout",
          "text": [
            "\n",
            "Test set: Average loss: 0.0007, Accuracy: 9476/10000 (95%)\n",
            "\n"
          ]
        },
        {
          "output_type": "stream",
          "name": "stderr",
          "text": [
            "2021/10/18 13:01:37 WARNING mlflow.utils.requirements_utils: Found torch version (1.9.0+cu111) contains a local version label (+cu111). MLflow logged a pip requirement for this package as 'torch==1.9.0' without the local version label to make it installable from PyPI. To specify pip requirements containing local version labels, please use `conda_env` or `pip_requirements`.\n"
          ]
        },
        {
          "output_type": "stream",
          "name": "stdout",
          "text": [
            "\n",
            "LR = 0.10, Momentum = 0.95, Hidden nodes = 48\n",
            "\n",
            "Train Epoch: 1 [0/60000 (0%)]\tLoss: 2.326\n",
            "Train Epoch: 1 [5120/60000 (9%)]\tLoss: 0.848\n",
            "Train Epoch: 1 [10240/60000 (17%)]\tLoss: 0.335\n",
            "Train Epoch: 1 [15360/60000 (26%)]\tLoss: 0.405\n",
            "Train Epoch: 1 [20480/60000 (34%)]\tLoss: 0.406\n",
            "Train Epoch: 1 [25600/60000 (43%)]\tLoss: 0.344\n",
            "Train Epoch: 1 [30720/60000 (51%)]\tLoss: 0.359\n",
            "Train Epoch: 1 [35840/60000 (60%)]\tLoss: 0.365\n",
            "Train Epoch: 1 [40960/60000 (68%)]\tLoss: 0.233\n",
            "Train Epoch: 1 [46080/60000 (77%)]\tLoss: 0.270\n",
            "Train Epoch: 1 [51200/60000 (85%)]\tLoss: 0.151\n",
            "Train Epoch: 1 [56320/60000 (94%)]\tLoss: 0.370\n",
            "\n",
            "Test set: Average loss: 0.0009, Accuracy: 9386/10000 (94%)\n",
            "\n",
            "Train Epoch: 2 [0/60000 (0%)]\tLoss: 0.186\n",
            "Train Epoch: 2 [5120/60000 (9%)]\tLoss: 0.244\n",
            "Train Epoch: 2 [10240/60000 (17%)]\tLoss: 0.178\n",
            "Train Epoch: 2 [15360/60000 (26%)]\tLoss: 0.135\n",
            "Train Epoch: 2 [20480/60000 (34%)]\tLoss: 0.153\n",
            "Train Epoch: 2 [25600/60000 (43%)]\tLoss: 0.253\n",
            "Train Epoch: 2 [30720/60000 (51%)]\tLoss: 0.255\n",
            "Train Epoch: 2 [35840/60000 (60%)]\tLoss: 0.245\n",
            "Train Epoch: 2 [40960/60000 (68%)]\tLoss: 0.220\n",
            "Train Epoch: 2 [46080/60000 (77%)]\tLoss: 0.169\n",
            "Train Epoch: 2 [51200/60000 (85%)]\tLoss: 0.191\n",
            "Train Epoch: 2 [56320/60000 (94%)]\tLoss: 0.241\n",
            "\n",
            "Test set: Average loss: 0.0007, Accuracy: 9543/10000 (95%)\n",
            "\n",
            "Train Epoch: 3 [0/60000 (0%)]\tLoss: 0.131\n",
            "Train Epoch: 3 [5120/60000 (9%)]\tLoss: 0.094\n",
            "Train Epoch: 3 [10240/60000 (17%)]\tLoss: 0.177\n",
            "Train Epoch: 3 [15360/60000 (26%)]\tLoss: 0.159\n",
            "Train Epoch: 3 [20480/60000 (34%)]\tLoss: 0.168\n",
            "Train Epoch: 3 [25600/60000 (43%)]\tLoss: 0.196\n",
            "Train Epoch: 3 [30720/60000 (51%)]\tLoss: 0.170\n",
            "Train Epoch: 3 [35840/60000 (60%)]\tLoss: 0.117\n",
            "Train Epoch: 3 [40960/60000 (68%)]\tLoss: 0.127\n",
            "Train Epoch: 3 [46080/60000 (77%)]\tLoss: 0.163\n",
            "Train Epoch: 3 [51200/60000 (85%)]\tLoss: 0.078\n",
            "Train Epoch: 3 [56320/60000 (94%)]\tLoss: 0.149\n",
            "\n",
            "Test set: Average loss: 0.0007, Accuracy: 9503/10000 (95%)\n",
            "\n",
            "Train Epoch: 4 [0/60000 (0%)]\tLoss: 0.113\n",
            "Train Epoch: 4 [5120/60000 (9%)]\tLoss: 0.168\n",
            "Train Epoch: 4 [10240/60000 (17%)]\tLoss: 0.162\n",
            "Train Epoch: 4 [15360/60000 (26%)]\tLoss: 0.158\n",
            "Train Epoch: 4 [20480/60000 (34%)]\tLoss: 0.119\n",
            "Train Epoch: 4 [25600/60000 (43%)]\tLoss: 0.103\n",
            "Train Epoch: 4 [30720/60000 (51%)]\tLoss: 0.130\n",
            "Train Epoch: 4 [35840/60000 (60%)]\tLoss: 0.152\n",
            "Train Epoch: 4 [40960/60000 (68%)]\tLoss: 0.089\n",
            "Train Epoch: 4 [46080/60000 (77%)]\tLoss: 0.118\n",
            "Train Epoch: 4 [51200/60000 (85%)]\tLoss: 0.108\n",
            "Train Epoch: 4 [56320/60000 (94%)]\tLoss: 0.138\n"
          ]
        },
        {
          "output_type": "stream",
          "name": "stderr",
          "text": [
            "2021/10/18 13:02:22 WARNING mlflow.utils.requirements_utils: Found torch version (1.9.0+cu111) contains a local version label (+cu111). MLflow logged a pip requirement for this package as 'torch==1.9.0' without the local version label to make it installable from PyPI. To specify pip requirements containing local version labels, please use `conda_env` or `pip_requirements`.\n",
            "2021/10/18 13:02:22 WARNING mlflow.utils.requirements_utils: Found torchvision version (0.10.0+cu111) contains a local version label (+cu111). MLflow logged a pip requirement for this package as 'torchvision==0.10.0' without the local version label to make it installable from PyPI. To specify pip requirements containing local version labels, please use `conda_env` or `pip_requirements`.\n"
          ]
        },
        {
          "output_type": "stream",
          "name": "stdout",
          "text": [
            "\n",
            "Test set: Average loss: 0.0007, Accuracy: 9485/10000 (95%)\n",
            "\n"
          ]
        },
        {
          "output_type": "stream",
          "name": "stderr",
          "text": [
            "2021/10/18 13:02:24 WARNING mlflow.utils.requirements_utils: Found torch version (1.9.0+cu111) contains a local version label (+cu111). MLflow logged a pip requirement for this package as 'torch==1.9.0' without the local version label to make it installable from PyPI. To specify pip requirements containing local version labels, please use `conda_env` or `pip_requirements`.\n"
          ]
        },
        {
          "output_type": "stream",
          "name": "stdout",
          "text": [
            "\n",
            "LR = 0.10, Momentum = 0.99, Hidden nodes = 16\n",
            "\n",
            "Train Epoch: 1 [0/60000 (0%)]\tLoss: 2.308\n",
            "Train Epoch: 1 [5120/60000 (9%)]\tLoss: 1.366\n",
            "Train Epoch: 1 [10240/60000 (17%)]\tLoss: 1.739\n",
            "Train Epoch: 1 [15360/60000 (26%)]\tLoss: 1.787\n",
            "Train Epoch: 1 [20480/60000 (34%)]\tLoss: 1.622\n",
            "Train Epoch: 1 [25600/60000 (43%)]\tLoss: 1.944\n",
            "Train Epoch: 1 [30720/60000 (51%)]\tLoss: 1.789\n",
            "Train Epoch: 1 [35840/60000 (60%)]\tLoss: 1.908\n",
            "Train Epoch: 1 [40960/60000 (68%)]\tLoss: 1.657\n",
            "Train Epoch: 1 [46080/60000 (77%)]\tLoss: 2.404\n",
            "Train Epoch: 1 [51200/60000 (85%)]\tLoss: 1.271\n",
            "Train Epoch: 1 [56320/60000 (94%)]\tLoss: 1.302\n",
            "\n",
            "Test set: Average loss: 0.0060, Accuracy: 4885/10000 (49%)\n",
            "\n",
            "Train Epoch: 2 [0/60000 (0%)]\tLoss: 1.883\n",
            "Train Epoch: 2 [5120/60000 (9%)]\tLoss: 1.522\n",
            "Train Epoch: 2 [10240/60000 (17%)]\tLoss: 1.417\n",
            "Train Epoch: 2 [15360/60000 (26%)]\tLoss: 1.267\n",
            "Train Epoch: 2 [20480/60000 (34%)]\tLoss: 1.298\n",
            "Train Epoch: 2 [25600/60000 (43%)]\tLoss: 1.470\n",
            "Train Epoch: 2 [30720/60000 (51%)]\tLoss: 1.819\n",
            "Train Epoch: 2 [35840/60000 (60%)]\tLoss: 1.763\n",
            "Train Epoch: 2 [40960/60000 (68%)]\tLoss: 1.772\n",
            "Train Epoch: 2 [46080/60000 (77%)]\tLoss: 1.479\n",
            "Train Epoch: 2 [51200/60000 (85%)]\tLoss: 1.597\n",
            "Train Epoch: 2 [56320/60000 (94%)]\tLoss: 1.611\n",
            "\n",
            "Test set: Average loss: 0.0074, Accuracy: 3889/10000 (39%)\n",
            "\n",
            "Train Epoch: 3 [0/60000 (0%)]\tLoss: 1.617\n",
            "Train Epoch: 3 [5120/60000 (9%)]\tLoss: 1.624\n",
            "Train Epoch: 3 [10240/60000 (17%)]\tLoss: 1.545\n",
            "Train Epoch: 3 [15360/60000 (26%)]\tLoss: 1.691\n",
            "Train Epoch: 3 [20480/60000 (34%)]\tLoss: 2.067\n",
            "Train Epoch: 3 [25600/60000 (43%)]\tLoss: 1.594\n",
            "Train Epoch: 3 [30720/60000 (51%)]\tLoss: 1.715\n",
            "Train Epoch: 3 [35840/60000 (60%)]\tLoss: 1.522\n",
            "Train Epoch: 3 [40960/60000 (68%)]\tLoss: 2.410\n",
            "Train Epoch: 3 [46080/60000 (77%)]\tLoss: 2.003\n",
            "Train Epoch: 3 [51200/60000 (85%)]\tLoss: 2.683\n",
            "Train Epoch: 3 [56320/60000 (94%)]\tLoss: 1.740\n",
            "\n",
            "Test set: Average loss: 0.0072, Accuracy: 3221/10000 (32%)\n",
            "\n",
            "Train Epoch: 4 [0/60000 (0%)]\tLoss: 1.783\n",
            "Train Epoch: 4 [5120/60000 (9%)]\tLoss: 1.816\n",
            "Train Epoch: 4 [10240/60000 (17%)]\tLoss: 1.748\n",
            "Train Epoch: 4 [15360/60000 (26%)]\tLoss: 2.092\n",
            "Train Epoch: 4 [20480/60000 (34%)]\tLoss: 2.486\n",
            "Train Epoch: 4 [25600/60000 (43%)]\tLoss: 2.080\n",
            "Train Epoch: 4 [30720/60000 (51%)]\tLoss: 1.712\n",
            "Train Epoch: 4 [35840/60000 (60%)]\tLoss: 1.857\n",
            "Train Epoch: 4 [40960/60000 (68%)]\tLoss: 1.784\n",
            "Train Epoch: 4 [46080/60000 (77%)]\tLoss: 1.929\n",
            "Train Epoch: 4 [51200/60000 (85%)]\tLoss: 1.970\n",
            "Train Epoch: 4 [56320/60000 (94%)]\tLoss: 1.877\n"
          ]
        },
        {
          "output_type": "stream",
          "name": "stderr",
          "text": [
            "2021/10/18 13:03:08 WARNING mlflow.utils.requirements_utils: Found torch version (1.9.0+cu111) contains a local version label (+cu111). MLflow logged a pip requirement for this package as 'torch==1.9.0' without the local version label to make it installable from PyPI. To specify pip requirements containing local version labels, please use `conda_env` or `pip_requirements`.\n",
            "2021/10/18 13:03:08 WARNING mlflow.utils.requirements_utils: Found torchvision version (0.10.0+cu111) contains a local version label (+cu111). MLflow logged a pip requirement for this package as 'torchvision==0.10.0' without the local version label to make it installable from PyPI. To specify pip requirements containing local version labels, please use `conda_env` or `pip_requirements`.\n"
          ]
        },
        {
          "output_type": "stream",
          "name": "stdout",
          "text": [
            "\n",
            "Test set: Average loss: 0.0077, Accuracy: 2529/10000 (25%)\n",
            "\n"
          ]
        },
        {
          "output_type": "stream",
          "name": "stderr",
          "text": [
            "2021/10/18 13:03:11 WARNING mlflow.utils.requirements_utils: Found torch version (1.9.0+cu111) contains a local version label (+cu111). MLflow logged a pip requirement for this package as 'torch==1.9.0' without the local version label to make it installable from PyPI. To specify pip requirements containing local version labels, please use `conda_env` or `pip_requirements`.\n"
          ]
        },
        {
          "output_type": "stream",
          "name": "stdout",
          "text": [
            "\n",
            "LR = 0.10, Momentum = 0.99, Hidden nodes = 24\n",
            "\n",
            "Train Epoch: 1 [0/60000 (0%)]\tLoss: 2.309\n",
            "Train Epoch: 1 [5120/60000 (9%)]\tLoss: 2.095\n",
            "Train Epoch: 1 [10240/60000 (17%)]\tLoss: 1.310\n",
            "Train Epoch: 1 [15360/60000 (26%)]\tLoss: 1.996\n",
            "Train Epoch: 1 [20480/60000 (34%)]\tLoss: 1.767\n",
            "Train Epoch: 1 [25600/60000 (43%)]\tLoss: 1.268\n",
            "Train Epoch: 1 [30720/60000 (51%)]\tLoss: 1.891\n",
            "Train Epoch: 1 [35840/60000 (60%)]\tLoss: 0.966\n",
            "Train Epoch: 1 [40960/60000 (68%)]\tLoss: 1.274\n",
            "Train Epoch: 1 [46080/60000 (77%)]\tLoss: 1.047\n",
            "Train Epoch: 1 [51200/60000 (85%)]\tLoss: 1.286\n",
            "Train Epoch: 1 [56320/60000 (94%)]\tLoss: 1.459\n",
            "\n",
            "Test set: Average loss: 0.0060, Accuracy: 5055/10000 (51%)\n",
            "\n",
            "Train Epoch: 2 [0/60000 (0%)]\tLoss: 1.284\n",
            "Train Epoch: 2 [5120/60000 (9%)]\tLoss: 1.271\n",
            "Train Epoch: 2 [10240/60000 (17%)]\tLoss: 1.372\n",
            "Train Epoch: 2 [15360/60000 (26%)]\tLoss: 1.457\n",
            "Train Epoch: 2 [20480/60000 (34%)]\tLoss: 1.408\n",
            "Train Epoch: 2 [25600/60000 (43%)]\tLoss: 1.631\n",
            "Train Epoch: 2 [30720/60000 (51%)]\tLoss: 1.277\n",
            "Train Epoch: 2 [35840/60000 (60%)]\tLoss: 1.479\n",
            "Train Epoch: 2 [40960/60000 (68%)]\tLoss: 1.506\n",
            "Train Epoch: 2 [46080/60000 (77%)]\tLoss: 1.901\n",
            "Train Epoch: 2 [51200/60000 (85%)]\tLoss: 1.436\n",
            "Train Epoch: 2 [56320/60000 (94%)]\tLoss: 1.246\n",
            "\n",
            "Test set: Average loss: 0.0058, Accuracy: 5532/10000 (55%)\n",
            "\n",
            "Train Epoch: 3 [0/60000 (0%)]\tLoss: 1.735\n",
            "Train Epoch: 3 [5120/60000 (9%)]\tLoss: 1.391\n",
            "Train Epoch: 3 [10240/60000 (17%)]\tLoss: 1.377\n",
            "Train Epoch: 3 [15360/60000 (26%)]\tLoss: 1.513\n",
            "Train Epoch: 3 [20480/60000 (34%)]\tLoss: 1.420\n",
            "Train Epoch: 3 [25600/60000 (43%)]\tLoss: 1.553\n",
            "Train Epoch: 3 [30720/60000 (51%)]\tLoss: 1.575\n",
            "Train Epoch: 3 [35840/60000 (60%)]\tLoss: 1.690\n",
            "Train Epoch: 3 [40960/60000 (68%)]\tLoss: 1.990\n",
            "Train Epoch: 3 [46080/60000 (77%)]\tLoss: 1.825\n",
            "Train Epoch: 3 [51200/60000 (85%)]\tLoss: 1.684\n",
            "Train Epoch: 3 [56320/60000 (94%)]\tLoss: 1.849\n",
            "\n",
            "Test set: Average loss: 0.0076, Accuracy: 2919/10000 (29%)\n",
            "\n",
            "Train Epoch: 4 [0/60000 (0%)]\tLoss: 1.986\n",
            "Train Epoch: 4 [5120/60000 (9%)]\tLoss: 2.107\n",
            "Train Epoch: 4 [10240/60000 (17%)]\tLoss: 1.829\n",
            "Train Epoch: 4 [15360/60000 (26%)]\tLoss: 1.710\n",
            "Train Epoch: 4 [20480/60000 (34%)]\tLoss: 1.719\n",
            "Train Epoch: 4 [25600/60000 (43%)]\tLoss: 2.331\n",
            "Train Epoch: 4 [30720/60000 (51%)]\tLoss: 1.767\n",
            "Train Epoch: 4 [35840/60000 (60%)]\tLoss: 1.784\n",
            "Train Epoch: 4 [40960/60000 (68%)]\tLoss: 1.599\n",
            "Train Epoch: 4 [46080/60000 (77%)]\tLoss: 1.638\n",
            "Train Epoch: 4 [51200/60000 (85%)]\tLoss: 2.152\n",
            "Train Epoch: 4 [56320/60000 (94%)]\tLoss: 1.698\n"
          ]
        },
        {
          "output_type": "stream",
          "name": "stderr",
          "text": [
            "2021/10/18 13:03:55 WARNING mlflow.utils.requirements_utils: Found torch version (1.9.0+cu111) contains a local version label (+cu111). MLflow logged a pip requirement for this package as 'torch==1.9.0' without the local version label to make it installable from PyPI. To specify pip requirements containing local version labels, please use `conda_env` or `pip_requirements`.\n",
            "2021/10/18 13:03:55 WARNING mlflow.utils.requirements_utils: Found torchvision version (0.10.0+cu111) contains a local version label (+cu111). MLflow logged a pip requirement for this package as 'torchvision==0.10.0' without the local version label to make it installable from PyPI. To specify pip requirements containing local version labels, please use `conda_env` or `pip_requirements`.\n"
          ]
        },
        {
          "output_type": "stream",
          "name": "stdout",
          "text": [
            "\n",
            "Test set: Average loss: 0.0069, Accuracy: 3583/10000 (36%)\n",
            "\n"
          ]
        },
        {
          "output_type": "stream",
          "name": "stderr",
          "text": [
            "2021/10/18 13:03:57 WARNING mlflow.utils.requirements_utils: Found torch version (1.9.0+cu111) contains a local version label (+cu111). MLflow logged a pip requirement for this package as 'torch==1.9.0' without the local version label to make it installable from PyPI. To specify pip requirements containing local version labels, please use `conda_env` or `pip_requirements`.\n"
          ]
        },
        {
          "output_type": "stream",
          "name": "stdout",
          "text": [
            "\n",
            "LR = 0.10, Momentum = 0.99, Hidden nodes = 32\n",
            "\n",
            "Train Epoch: 1 [0/60000 (0%)]\tLoss: 2.272\n",
            "Train Epoch: 1 [5120/60000 (9%)]\tLoss: 0.890\n",
            "Train Epoch: 1 [10240/60000 (17%)]\tLoss: 1.180\n",
            "Train Epoch: 1 [15360/60000 (26%)]\tLoss: 1.193\n",
            "Train Epoch: 1 [20480/60000 (34%)]\tLoss: 1.164\n",
            "Train Epoch: 1 [25600/60000 (43%)]\tLoss: 1.249\n",
            "Train Epoch: 1 [30720/60000 (51%)]\tLoss: 1.222\n",
            "Train Epoch: 1 [35840/60000 (60%)]\tLoss: 1.365\n",
            "Train Epoch: 1 [40960/60000 (68%)]\tLoss: 1.120\n",
            "Train Epoch: 1 [46080/60000 (77%)]\tLoss: 1.091\n",
            "Train Epoch: 1 [51200/60000 (85%)]\tLoss: 1.186\n",
            "Train Epoch: 1 [56320/60000 (94%)]\tLoss: 1.147\n",
            "\n",
            "Test set: Average loss: 0.0047, Accuracy: 6624/10000 (66%)\n",
            "\n",
            "Train Epoch: 2 [0/60000 (0%)]\tLoss: 0.885\n",
            "Train Epoch: 2 [5120/60000 (9%)]\tLoss: 0.993\n",
            "Train Epoch: 2 [10240/60000 (17%)]\tLoss: 1.072\n",
            "Train Epoch: 2 [15360/60000 (26%)]\tLoss: 1.423\n",
            "Train Epoch: 2 [20480/60000 (34%)]\tLoss: 1.313\n",
            "Train Epoch: 2 [25600/60000 (43%)]\tLoss: 1.082\n",
            "Train Epoch: 2 [30720/60000 (51%)]\tLoss: 1.417\n",
            "Train Epoch: 2 [35840/60000 (60%)]\tLoss: 1.457\n",
            "Train Epoch: 2 [40960/60000 (68%)]\tLoss: 1.392\n",
            "Train Epoch: 2 [46080/60000 (77%)]\tLoss: 1.316\n",
            "Train Epoch: 2 [51200/60000 (85%)]\tLoss: 1.249\n",
            "Train Epoch: 2 [56320/60000 (94%)]\tLoss: 1.369\n",
            "\n",
            "Test set: Average loss: 0.0053, Accuracy: 5585/10000 (56%)\n",
            "\n",
            "Train Epoch: 3 [0/60000 (0%)]\tLoss: 1.504\n",
            "Train Epoch: 3 [5120/60000 (9%)]\tLoss: 1.200\n",
            "Train Epoch: 3 [10240/60000 (17%)]\tLoss: 0.992\n",
            "Train Epoch: 3 [15360/60000 (26%)]\tLoss: 1.167\n",
            "Train Epoch: 3 [20480/60000 (34%)]\tLoss: 1.272\n",
            "Train Epoch: 3 [25600/60000 (43%)]\tLoss: 1.116\n",
            "Train Epoch: 3 [30720/60000 (51%)]\tLoss: 1.577\n",
            "Train Epoch: 3 [35840/60000 (60%)]\tLoss: 1.595\n",
            "Train Epoch: 3 [40960/60000 (68%)]\tLoss: 1.178\n",
            "Train Epoch: 3 [46080/60000 (77%)]\tLoss: 1.185\n",
            "Train Epoch: 3 [51200/60000 (85%)]\tLoss: 1.701\n",
            "Train Epoch: 3 [56320/60000 (94%)]\tLoss: 1.428\n",
            "\n",
            "Test set: Average loss: 0.0081, Accuracy: 4219/10000 (42%)\n",
            "\n",
            "Train Epoch: 4 [0/60000 (0%)]\tLoss: 1.640\n",
            "Train Epoch: 4 [5120/60000 (9%)]\tLoss: 1.974\n",
            "Train Epoch: 4 [10240/60000 (17%)]\tLoss: 1.779\n",
            "Train Epoch: 4 [15360/60000 (26%)]\tLoss: 1.691\n",
            "Train Epoch: 4 [20480/60000 (34%)]\tLoss: 1.802\n",
            "Train Epoch: 4 [25600/60000 (43%)]\tLoss: 1.817\n",
            "Train Epoch: 4 [30720/60000 (51%)]\tLoss: 1.719\n",
            "Train Epoch: 4 [35840/60000 (60%)]\tLoss: 2.363\n",
            "Train Epoch: 4 [40960/60000 (68%)]\tLoss: 1.952\n",
            "Train Epoch: 4 [46080/60000 (77%)]\tLoss: 1.585\n",
            "Train Epoch: 4 [51200/60000 (85%)]\tLoss: 1.586\n",
            "Train Epoch: 4 [56320/60000 (94%)]\tLoss: 1.689\n"
          ]
        },
        {
          "output_type": "stream",
          "name": "stderr",
          "text": [
            "2021/10/18 13:04:42 WARNING mlflow.utils.requirements_utils: Found torch version (1.9.0+cu111) contains a local version label (+cu111). MLflow logged a pip requirement for this package as 'torch==1.9.0' without the local version label to make it installable from PyPI. To specify pip requirements containing local version labels, please use `conda_env` or `pip_requirements`.\n",
            "2021/10/18 13:04:42 WARNING mlflow.utils.requirements_utils: Found torchvision version (0.10.0+cu111) contains a local version label (+cu111). MLflow logged a pip requirement for this package as 'torchvision==0.10.0' without the local version label to make it installable from PyPI. To specify pip requirements containing local version labels, please use `conda_env` or `pip_requirements`.\n"
          ]
        },
        {
          "output_type": "stream",
          "name": "stdout",
          "text": [
            "\n",
            "Test set: Average loss: 0.0080, Accuracy: 4183/10000 (42%)\n",
            "\n"
          ]
        },
        {
          "output_type": "stream",
          "name": "stderr",
          "text": [
            "2021/10/18 13:04:44 WARNING mlflow.utils.requirements_utils: Found torch version (1.9.0+cu111) contains a local version label (+cu111). MLflow logged a pip requirement for this package as 'torch==1.9.0' without the local version label to make it installable from PyPI. To specify pip requirements containing local version labels, please use `conda_env` or `pip_requirements`.\n"
          ]
        },
        {
          "output_type": "stream",
          "name": "stdout",
          "text": [
            "\n",
            "LR = 0.10, Momentum = 0.99, Hidden nodes = 48\n",
            "\n",
            "Train Epoch: 1 [0/60000 (0%)]\tLoss: 2.358\n",
            "Train Epoch: 1 [5120/60000 (9%)]\tLoss: 1.449\n",
            "Train Epoch: 1 [10240/60000 (17%)]\tLoss: 1.269\n",
            "Train Epoch: 1 [15360/60000 (26%)]\tLoss: 0.654\n",
            "Train Epoch: 1 [20480/60000 (34%)]\tLoss: 1.131\n",
            "Train Epoch: 1 [25600/60000 (43%)]\tLoss: 1.182\n",
            "Train Epoch: 1 [30720/60000 (51%)]\tLoss: 1.028\n",
            "Train Epoch: 1 [35840/60000 (60%)]\tLoss: 0.843\n",
            "Train Epoch: 1 [40960/60000 (68%)]\tLoss: 0.954\n",
            "Train Epoch: 1 [46080/60000 (77%)]\tLoss: 1.008\n",
            "Train Epoch: 1 [51200/60000 (85%)]\tLoss: 0.889\n",
            "Train Epoch: 1 [56320/60000 (94%)]\tLoss: 1.283\n",
            "\n",
            "Test set: Average loss: 0.0042, Accuracy: 7397/10000 (74%)\n",
            "\n",
            "Train Epoch: 2 [0/60000 (0%)]\tLoss: 1.101\n",
            "Train Epoch: 2 [5120/60000 (9%)]\tLoss: 0.955\n",
            "Train Epoch: 2 [10240/60000 (17%)]\tLoss: 1.206\n",
            "Train Epoch: 2 [15360/60000 (26%)]\tLoss: 0.829\n",
            "Train Epoch: 2 [20480/60000 (34%)]\tLoss: 0.885\n",
            "Train Epoch: 2 [25600/60000 (43%)]\tLoss: 0.853\n",
            "Train Epoch: 2 [30720/60000 (51%)]\tLoss: 0.998\n",
            "Train Epoch: 2 [35840/60000 (60%)]\tLoss: 1.008\n",
            "Train Epoch: 2 [40960/60000 (68%)]\tLoss: 1.036\n",
            "Train Epoch: 2 [46080/60000 (77%)]\tLoss: 1.103\n",
            "Train Epoch: 2 [51200/60000 (85%)]\tLoss: 1.176\n",
            "Train Epoch: 2 [56320/60000 (94%)]\tLoss: 1.159\n",
            "\n",
            "Test set: Average loss: 0.0057, Accuracy: 5966/10000 (60%)\n",
            "\n",
            "Train Epoch: 3 [0/60000 (0%)]\tLoss: 1.536\n",
            "Train Epoch: 3 [5120/60000 (9%)]\tLoss: 1.485\n",
            "Train Epoch: 3 [10240/60000 (17%)]\tLoss: 1.266\n",
            "Train Epoch: 3 [15360/60000 (26%)]\tLoss: 1.308\n",
            "Train Epoch: 3 [20480/60000 (34%)]\tLoss: 1.051\n",
            "Train Epoch: 3 [25600/60000 (43%)]\tLoss: 1.481\n",
            "Train Epoch: 3 [30720/60000 (51%)]\tLoss: 1.209\n",
            "Train Epoch: 3 [35840/60000 (60%)]\tLoss: 1.945\n",
            "Train Epoch: 3 [40960/60000 (68%)]\tLoss: 1.330\n",
            "Train Epoch: 3 [46080/60000 (77%)]\tLoss: 2.141\n",
            "Train Epoch: 3 [51200/60000 (85%)]\tLoss: 1.656\n",
            "Train Epoch: 3 [56320/60000 (94%)]\tLoss: 1.392\n",
            "\n",
            "Test set: Average loss: 0.0063, Accuracy: 5379/10000 (54%)\n",
            "\n",
            "Train Epoch: 4 [0/60000 (0%)]\tLoss: 1.324\n",
            "Train Epoch: 4 [5120/60000 (9%)]\tLoss: 1.237\n",
            "Train Epoch: 4 [10240/60000 (17%)]\tLoss: 1.372\n",
            "Train Epoch: 4 [15360/60000 (26%)]\tLoss: 1.542\n",
            "Train Epoch: 4 [20480/60000 (34%)]\tLoss: 1.479\n",
            "Train Epoch: 4 [25600/60000 (43%)]\tLoss: 1.540\n",
            "Train Epoch: 4 [30720/60000 (51%)]\tLoss: 2.260\n",
            "Train Epoch: 4 [35840/60000 (60%)]\tLoss: 1.722\n",
            "Train Epoch: 4 [40960/60000 (68%)]\tLoss: 1.639\n",
            "Train Epoch: 4 [46080/60000 (77%)]\tLoss: 1.553\n",
            "Train Epoch: 4 [51200/60000 (85%)]\tLoss: 1.678\n",
            "Train Epoch: 4 [56320/60000 (94%)]\tLoss: 2.834\n"
          ]
        },
        {
          "output_type": "stream",
          "name": "stderr",
          "text": [
            "2021/10/18 13:05:29 WARNING mlflow.utils.requirements_utils: Found torch version (1.9.0+cu111) contains a local version label (+cu111). MLflow logged a pip requirement for this package as 'torch==1.9.0' without the local version label to make it installable from PyPI. To specify pip requirements containing local version labels, please use `conda_env` or `pip_requirements`.\n",
            "2021/10/18 13:05:29 WARNING mlflow.utils.requirements_utils: Found torchvision version (0.10.0+cu111) contains a local version label (+cu111). MLflow logged a pip requirement for this package as 'torchvision==0.10.0' without the local version label to make it installable from PyPI. To specify pip requirements containing local version labels, please use `conda_env` or `pip_requirements`.\n"
          ]
        },
        {
          "output_type": "stream",
          "name": "stdout",
          "text": [
            "\n",
            "Test set: Average loss: 0.0081, Accuracy: 4385/10000 (44%)\n",
            "\n"
          ]
        },
        {
          "output_type": "stream",
          "name": "stderr",
          "text": [
            "2021/10/18 13:05:31 WARNING mlflow.utils.requirements_utils: Found torch version (1.9.0+cu111) contains a local version label (+cu111). MLflow logged a pip requirement for this package as 'torch==1.9.0' without the local version label to make it installable from PyPI. To specify pip requirements containing local version labels, please use `conda_env` or `pip_requirements`.\n"
          ]
        }
      ]
    },
    {
      "cell_type": "code",
      "metadata": {
        "colab": {
          "base_uri": "https://localhost:8080/"
        },
        "id": "zFoJYQ49uOJe",
        "outputId": "19bb1faf-b8d4-4b27-ab0c-07ccbe5ac4c9"
      },
      "source": [
        "print(\"Learning rate = \" + str(best_params.LR),\n",
        "      \"Epochs = \" + str(best_params.epochs),\n",
        "      \"Accuracy = \" + str(best_params.accuracy),\n",
        "      \"Momentum = \" + str(best_params.mom_speed),\n",
        "      \"Hidden nodes = \" + str(best_params.hidden_node))"
      ],
      "execution_count": 17,
      "outputs": [
        {
          "output_type": "stream",
          "name": "stdout",
          "text": [
            "Learning rate = 0.1 Epochs = 4 Accuracy = 9692 Momentum = 0.9 Hidden nodes = 48\n"
          ]
        }
      ]
    },
    {
      "cell_type": "code",
      "metadata": {
        "id": "b6tVU2x_kWJs"
      },
      "source": [
        "import copy as cp"
      ],
      "execution_count": 35,
      "outputs": []
    },
    {
      "cell_type": "code",
      "metadata": {
        "id": "rEyqAC7RhIwR"
      },
      "source": [
        "model = Model(best_params.hidden_node)\n",
        "\n",
        "loss_fn = nn.CrossEntropyLoss()\n",
        "opt = optim.SGD(model.parameters(), lr=best_params.LR, momentum = best_params.mom_speed)"
      ],
      "execution_count": 20,
      "outputs": []
    },
    {
      "cell_type": "code",
      "metadata": {
        "colab": {
          "base_uri": "https://localhost:8080/"
        },
        "id": "X9bs2iXRfp7U",
        "outputId": "c0e02005-9fa4-4c2b-f665-fdc51470de7a"
      },
      "source": [
        "loss_rate = []\n",
        "accuracy_rate = []\n",
        "min_ = 0\n",
        "for epoch in range(20):\n",
        "  for batch_id, data in enumerate(train_loader):\n",
        "      inputs, labels = data\n",
        "      opt.zero_grad()\n",
        "      outputs = model(inputs)\n",
        "      loss = loss_fn(outputs, labels)\n",
        "      loss.backward()\n",
        "      opt.step()\n",
        "  test_loss = 0\n",
        "  correct = 0\n",
        "  for inputs, labels in test_loader:\n",
        "    outputs = model(inputs)\n",
        "    test_loss += loss_fn(outputs, labels).data.item()\n",
        "    pred = outputs.data.max(1)[1]\n",
        "    correct += pred.eq(labels.data).sum().item()\n",
        "\n",
        "  test_loss /= len(test_loader.dataset)\n",
        "  test_accuracy = 100.0 * correct / len(test_loader.dataset)\n",
        "  if test_accuracy > min_:\n",
        "    min_ = test_accuracy\n",
        "    best_model = copy.deepcopy(model.state_dict())\n",
        "  print(f\"Epochs: {epoch} test_loss: {test_loss} test_accuracy: {test_accuracy}\")\n",
        "  accuracy_rate.append(test_accuracy)\n",
        "  loss_rate.append(test_loss)"
      ],
      "execution_count": 36,
      "outputs": [
        {
          "output_type": "stream",
          "name": "stdout",
          "text": [
            "Epochs: 0 test_loss: 0.0008112930013647485 test_accuracy: 97.22\n",
            "Epochs: 1 test_loss: 0.0008389498949723929 test_accuracy: 97.15\n",
            "Epochs: 2 test_loss: 0.0008362845484982223 test_accuracy: 97.16\n",
            "Epochs: 3 test_loss: 0.0008335817171252358 test_accuracy: 97.11\n",
            "Epochs: 4 test_loss: 0.0008762743358427542 test_accuracy: 97.08\n",
            "Epochs: 5 test_loss: 0.0009309385764580696 test_accuracy: 97.08\n",
            "Epochs: 6 test_loss: 0.0008688167208067029 test_accuracy: 97.09\n",
            "Epochs: 7 test_loss: 0.0008422613168113447 test_accuracy: 97.15\n",
            "Epochs: 8 test_loss: 0.0008990603000989722 test_accuracy: 97.2\n",
            "Epochs: 9 test_loss: 0.0008065345814631407 test_accuracy: 97.36\n",
            "Epochs: 10 test_loss: 0.0008408655458667454 test_accuracy: 97.36\n",
            "Epochs: 11 test_loss: 0.0008212700306246233 test_accuracy: 97.42\n",
            "Epochs: 12 test_loss: 0.0008271416461471589 test_accuracy: 97.38\n",
            "Epochs: 13 test_loss: 0.0008239659792034207 test_accuracy: 97.38\n",
            "Epochs: 14 test_loss: 0.000827005000039108 test_accuracy: 97.43\n",
            "Epochs: 15 test_loss: 0.0008278517819530748 test_accuracy: 97.42\n",
            "Epochs: 16 test_loss: 0.0008297392996364543 test_accuracy: 97.42\n",
            "Epochs: 17 test_loss: 0.0008315676570517987 test_accuracy: 97.45\n",
            "Epochs: 18 test_loss: 0.0008328079607955249 test_accuracy: 97.45\n",
            "Epochs: 19 test_loss: 0.0008332906802856985 test_accuracy: 97.43\n"
          ]
        }
      ]
    },
    {
      "cell_type": "code",
      "metadata": {
        "id": "CJLHyyEelLoA"
      },
      "source": [
        "print(best_model)"
      ],
      "execution_count": null,
      "outputs": []
    },
    {
      "cell_type": "code",
      "metadata": {
        "colab": {
          "base_uri": "https://localhost:8080/",
          "height": 281
        },
        "id": "koctuilnhcLn",
        "outputId": "6aee6beb-2e19-4aa2-ae5b-8a2a3998207c"
      },
      "source": [
        "x = range(0,20)\n",
        "plt.plot(x,loss_rate, color = \"red\")\n",
        "plt.title(\"Loss_rate\")\n",
        "plt.show()"
      ],
      "execution_count": 40,
      "outputs": [
        {
          "output_type": "display_data",
          "data": {
            "image/png": "[encoded data removed]",
            "text/plain": [
              "<Figure size 432x288 with 1 Axes>"
            ]
          },
          "metadata": {
            "needs_background": "light"
          }
        }
      ]
    },
    {
      "cell_type": "code",
      "metadata": {
        "colab": {
          "base_uri": "https://localhost:8080/",
          "height": 281
        },
        "id": "tvbJg6JziloV",
        "outputId": "579765ae-a2e3-4d1f-bc08-71ac987c3b4a"
      },
      "source": [
        "x = range(0,20)\n",
        "plt.plot(x,accuracy_rate, color = \"blue\")\n",
        "plt.title(\"Accuracy_rate\")\n",
        "plt.show()"
      ],
      "execution_count": 41,
      "outputs": [
        {
          "output_type": "display_data",
          "data": {
            "image/png": "[encoded data removed]",
            "text/plain": [
              "<Figure size 432x288 with 1 Axes>"
            ]
          },
          "metadata": {
            "needs_background": "light"
          }
        }
      ]
    },
    {
      "cell_type": "code",
      "metadata": {
        "colab": {
          "base_uri": "https://localhost:8080/"
        },
        "id": "_SykkSSzmLln",
        "outputId": "1baf3df8-8b60-48c0-ca49-669c9673fd94"
      },
      "source": [
        "model.load_state_dict(best_model)"
      ],
      "execution_count": 44,
      "outputs": [
        {
          "output_type": "execute_result",
          "data": {
            "text/plain": [
              "<All keys matched successfully>"
            ]
          },
          "metadata": {},
          "execution_count": 44
        }
      ]
    },
    {
      "cell_type": "code",
      "metadata": {
        "colab": {
          "base_uri": "https://localhost:8080/"
        },
        "id": "NdCrGPRUmsYy",
        "outputId": "2b1991a0-565b-4b71-f43d-e8eba235baa5"
      },
      "source": [
        "print(model)"
      ],
      "execution_count": 45,
      "outputs": [
        {
          "output_type": "stream",
          "name": "stdout",
          "text": [
            "Model(\n",
            "  (classifier): Sequential(\n",
            "    (0): Linear(in_features=784, out_features=48, bias=True)\n",
            "    (1): ReLU()\n",
            "    (2): Linear(in_features=48, out_features=10, bias=True)\n",
            "  )\n",
            ")\n"
          ]
        }
      ]
    },
    {
      "cell_type": "code",
      "metadata": {
        "id": "k4tFwFwqm6G-"
      },
      "source": [
        "weight_layer0 = list(model.parameters())[0].data.numpy()"
      ],
      "execution_count": 46,
      "outputs": []
    },
    {
      "cell_type": "code",
      "metadata": {
        "colab": {
          "base_uri": "https://localhost:8080/"
        },
        "id": "5gCavlO6nBRk",
        "outputId": "784ce378-dbf6-4654-e1a0-e453d8046da6"
      },
      "source": [
        "print(weight_layer0.shape)"
      ],
      "execution_count": 47,
      "outputs": [
        {
          "output_type": "stream",
          "name": "stdout",
          "text": [
            "(48, 784)\n"
          ]
        }
      ]
    },
    {
      "cell_type": "code",
      "metadata": {
        "colab": {
          "base_uri": "https://localhost:8080/",
          "height": 336
        },
        "id": "C6C0gWNvnFQH",
        "outputId": "d1047bfc-88c9-4092-c634-84f455d15796"
      },
      "source": [
        "sns.distplot(weight_layer0.ravel())\n",
        "plt.plot()"
      ],
      "execution_count": 48,
      "outputs": [
        {
          "output_type": "stream",
          "name": "stderr",
          "text": [
            "/usr/local/lib/python3.7/dist-packages/seaborn/distributions.py:2619: FutureWarning: `distplot` is a deprecated function and will be removed in a future version. Please adapt your code to use either `displot` (a figure-level function with similar flexibility) or `histplot` (an axes-level function for histograms).\n",
            "  warnings.warn(msg, FutureWarning)\n"
          ]
        },
        {
          "output_type": "execute_result",
          "data": {
            "text/plain": [
              "[]"
            ]
          },
          "metadata": {},
          "execution_count": 48
        },
        {
          "output_type": "display_data",
          "data": {
            "image/png": "[encoded data removed]",
            "text/plain": [
              "<Figure size 432x288 with 1 Axes>"
            ]
          },
          "metadata": {
            "needs_background": "light"
          }
        }
      ]
    },
    {
      "cell_type": "code",
      "metadata": {
        "colab": {
          "base_uri": "https://localhost:8080/",
          "height": 275
        },
        "id": "9nqOaFyZnLbZ",
        "outputId": "0e8852fe-ccd5-4e3e-fba6-d0ec455e425e"
      },
      "source": [
        "sns.heatmap(np.abs(weight_layer0))\n",
        "plt.show()"
      ],
      "execution_count": 49,
      "outputs": [
        {
          "output_type": "display_data",
          "data": {
            "image/png": "[encoded data removed]",
            "text/plain": [
              "<Figure size 432x288 with 2 Axes>"
            ]
          },
          "metadata": {
            "needs_background": "light"
          }
        }
      ]
    },
    {
      "cell_type": "code",
      "metadata": {
        "id": "LYr8e-tknQkG"
      },
      "source": [
        "weight_layer1 = list(model.parameters())[2].data.numpy()"
      ],
      "execution_count": 50,
      "outputs": []
    },
    {
      "cell_type": "code",
      "metadata": {
        "colab": {
          "base_uri": "https://localhost:8080/"
        },
        "id": "Z8aUY5mlnSda",
        "outputId": "8b14f999-7f48-4d83-df05-03cd1d519626"
      },
      "source": [
        "weight_layer1.shape"
      ],
      "execution_count": 51,
      "outputs": [
        {
          "output_type": "execute_result",
          "data": {
            "text/plain": [
              "(10, 48)"
            ]
          },
          "metadata": {},
          "execution_count": 51
        }
      ]
    },
    {
      "cell_type": "code",
      "metadata": {
        "colab": {
          "base_uri": "https://localhost:8080/",
          "height": 337
        },
        "id": "xT-CI2fUnWs4",
        "outputId": "2179a524-5a72-45df-fa0b-a5a50e2ab8cc"
      },
      "source": [
        "sns.distplot(weight_layer1.ravel())\n",
        "plt.plot()"
      ],
      "execution_count": 52,
      "outputs": [
        {
          "output_type": "stream",
          "name": "stderr",
          "text": [
            "/usr/local/lib/python3.7/dist-packages/seaborn/distributions.py:2619: FutureWarning: `distplot` is a deprecated function and will be removed in a future version. Please adapt your code to use either `displot` (a figure-level function with similar flexibility) or `histplot` (an axes-level function for histograms).\n",
            "  warnings.warn(msg, FutureWarning)\n"
          ]
        },
        {
          "output_type": "execute_result",
          "data": {
            "text/plain": [
              "[]"
            ]
          },
          "metadata": {},
          "execution_count": 52
        },
        {
          "output_type": "display_data",
          "data": {
            "image/png": "[encoded data removed]",
            "text/plain": [
              "<Figure size 432x288 with 1 Axes>"
            ]
          },
          "metadata": {
            "needs_background": "light"
          }
        }
      ]
    },
    {
      "cell_type": "code",
      "metadata": {
        "colab": {
          "base_uri": "https://localhost:8080/",
          "height": 268
        },
        "id": "BiSC8RBSnZ-4",
        "outputId": "09faa7d7-ce2a-438f-b3ec-d4fb5a655b41"
      },
      "source": [
        "sns.heatmap(np.abs(weight_layer1))\n",
        "plt.show()"
      ],
      "execution_count": 53,
      "outputs": [
        {
          "output_type": "display_data",
          "data": {
            "image/png": "[encoded data removed]",
            "text/plain": [
              "<Figure size 432x288 with 2 Axes>"
            ]
          },
          "metadata": {
            "needs_background": "light"
          }
        }
      ]
    },
    {
      "cell_type": "code",
      "metadata": {
        "id": "Vg5LEk--n23p"
      },
      "source": [
        "'''class Model(nn.Module):\n",
        "    def __init__(self, nH = 32): \n",
        "        super(Model, self).__init__()\n",
        "        self.classifier = nn.Sequential(\n",
        "            nn.Linear(784, nH),  # 28 x 28 = 784\n",
        "            nn.ReLU(),\n",
        "            nn.Linear(nH, 10)\n",
        "        )\n",
        "             \n",
        "    def forward(self, x):\n",
        "        x = x.view(x.size(0), -1)\n",
        "        x = self.classifier(x)\n",
        "        return x'''"
      ],
      "execution_count": null,
      "outputs": []
    },
    {
      "cell_type": "code",
      "metadata": {
        "colab": {
          "base_uri": "https://localhost:8080/",
          "height": 657
        },
        "id": "O2fu5qgmnidN",
        "outputId": "e5d83bc7-1f64-46d4-8ec8-b8dd94baae06"
      },
      "source": [
        "nrows = 6\n",
        "ncols = 8\n",
        "fig = plt.figure(figsize=(1.5*ncols, 1.5*nrows))\n",
        "\n",
        "for i in np.arange(48): \n",
        "    ax1 = fig.add_subplot(nrows, ncols, i+1)\n",
        "    sns.heatmap(np.abs((weight_layer0[i, 0:784]).reshape(28, 28)), ax = ax1, cbar= False)\n",
        "    ax1.axis('off')\n",
        "    ax1.set_xticklabels([])\n",
        "    ax1.set_yticklabels([])\n",
        "    ax1.set_title(i)\n",
        "plt.tight_layout()\n",
        "plt.show()"
      ],
      "execution_count": 56,
      "outputs": [
        {
          "output_type": "display_data",
          "data": {
            "image/png": "[encoded data removed]",
            "text/plain": [
              "<Figure size 864x648 with 48 Axes>"
            ]
          },
          "metadata": {
            "needs_background": "light"
          }
        }
      ]
    }
  ]
}